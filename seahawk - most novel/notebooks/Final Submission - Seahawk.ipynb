{
 "cells": [
  {
   "cell_type": "markdown",
   "id": "151dc80a",
   "metadata": {},
   "source": [
    "## Overview of approach"
   ]
  },
  {
   "cell_type": "markdown",
   "id": "639bd941",
   "metadata": {},
   "source": [
    "In this study, a novel data sampling approach was employed to ensure representative segmentation. The strategy focused on maximizing diversity among clusters to accurately capture the essence of the original dataset. The data was partitioned into 10,000 clusters, mirroring the sample dataset's size. To enhance diversity, the data point closest to each cluster's centroid was selected and added to the sample dataset, thus promoting a diverse representation.\n",
    "\n",
    "The reliability of the sample dataset was validated through comprehensive data analysis, demonstrating similarities in insights between the sample and actual data.\n",
    "\n",
    "As part of our modelling pipeline, the adopted approach is two folds:\n",
    "\n",
    "**Creation of Gold Standard Data**: Various Large language models (LLMs) were employed to generate gold standard data (training data) for fine-tuning the classification model.\n",
    "\n",
    "![Creation of gold data](images/golden_data_creation.png)\n",
    "\n",
    "**Output on Complete Dataset**: The gold data created in step 1 was used to fine-tune a DistilBERT model (for classification), which was used to generate predictions on the complete primary data.\n",
    "\n",
    "![Output on complete dataset](images/output_on_whole_data.png)"
   ]
  },
  {
   "cell_type": "markdown",
   "id": "1d749e90",
   "metadata": {},
   "source": [
    "## Importing Libraries"
   ]
  },
  {
   "cell_type": "code",
   "execution_count": 4,
   "id": "3ee8321a",
   "metadata": {},
   "outputs": [],
   "source": [
    "%%capture\n",
    "import pandas as pd\n",
    "import numpy as np\n",
    "import random\n",
    "\n",
    "from tqdm import tqdm\n",
    "from sklearn.feature_extraction.text import CountVectorizer\n",
    "from nltk.corpus import stopwords\n",
    "\n",
    "import warnings\n",
    "\n",
    "import spacy\n",
    "import json\n",
    "import re\n",
    "import openai\n",
    "\n",
    "import seaborn as sns\n",
    "import matplotlib.pyplot as plt\n",
    "import plotly.express as px\n",
    "import pyarrow.parquet as pq\n",
    "\n",
    "from sklearn.decomposition import PCA\n",
    "\n",
    "from sklearn.cluster import KMeans\n",
    "\n",
    "\n",
    "from huggingface_hub import hf_hub_download\n",
    "\n",
    "import time\n",
    "import datetime\n",
    "from datetime import timedelta\n",
    "warnings.filterwarnings('ignore')\n",
    "pd.set_option('display.max_colwidth', None)\n",
    "pd.set_option('display.max_columns', None)\n",
    "nlp = spacy.load('en_core_web_sm')"
   ]
  },
  {
   "cell_type": "markdown",
   "id": "d2f9f887",
   "metadata": {},
   "source": [
    "## Reading the data"
   ]
  },
  {
   "cell_type": "markdown",
   "id": "4151fe5b",
   "metadata": {},
   "source": [
    "Our analysis relies on primary data. We have meticulously mapped all variables using JSON files."
   ]
  },
  {
   "cell_type": "code",
   "execution_count": 5,
   "id": "07f49d33",
   "metadata": {},
   "outputs": [
    {
     "data": {
      "text/plain": [
       "(115128, 22)"
      ]
     },
     "execution_count": 5,
     "metadata": {},
     "output_type": "execute_result"
    }
   ],
   "source": [
    "primary_data = pd.read_csv('../data/Primary_data_mapped_cleaned.csv')\n",
    "primary_data.shape"
   ]
  },
  {
   "cell_type": "code",
   "execution_count": 6,
   "id": "a6e7348d",
   "metadata": {},
   "outputs": [
    {
     "data": {
      "text/html": [
       "<div>\n",
       "<style scoped>\n",
       "    .dataframe tbody tr th:only-of-type {\n",
       "        vertical-align: middle;\n",
       "    }\n",
       "\n",
       "    .dataframe tbody tr th {\n",
       "        vertical-align: top;\n",
       "    }\n",
       "\n",
       "    .dataframe thead th {\n",
       "        text-align: right;\n",
       "    }\n",
       "</style>\n",
       "<table border=\"1\" class=\"dataframe\">\n",
       "  <thead>\n",
       "    <tr style=\"text-align: right;\">\n",
       "      <th></th>\n",
       "      <th>narrative</th>\n",
       "      <th>treatment_date</th>\n",
       "      <th>sex</th>\n",
       "      <th>race</th>\n",
       "      <th>other_race</th>\n",
       "      <th>hispanic</th>\n",
       "      <th>diagnosis</th>\n",
       "      <th>other_diagnosis</th>\n",
       "      <th>diagnosis_2</th>\n",
       "      <th>other_diagnosis_2</th>\n",
       "      <th>body_part</th>\n",
       "      <th>body_part_2</th>\n",
       "      <th>disposition</th>\n",
       "      <th>location</th>\n",
       "      <th>fire_involvement</th>\n",
       "      <th>alcohol</th>\n",
       "      <th>drug</th>\n",
       "      <th>product_1</th>\n",
       "      <th>product_2</th>\n",
       "      <th>product_3</th>\n",
       "      <th>cpsc_case_number</th>\n",
       "      <th>age</th>\n",
       "    </tr>\n",
       "  </thead>\n",
       "  <tbody>\n",
       "    <tr>\n",
       "      <th>count</th>\n",
       "      <td>115128</td>\n",
       "      <td>115128</td>\n",
       "      <td>115128</td>\n",
       "      <td>115128</td>\n",
       "      <td>1022</td>\n",
       "      <td>115128</td>\n",
       "      <td>115128</td>\n",
       "      <td>2522</td>\n",
       "      <td>43143</td>\n",
       "      <td>4978</td>\n",
       "      <td>115128</td>\n",
       "      <td>43145</td>\n",
       "      <td>115128</td>\n",
       "      <td>115128</td>\n",
       "      <td>115128</td>\n",
       "      <td>115128</td>\n",
       "      <td>115128</td>\n",
       "      <td>115128</td>\n",
       "      <td>29627</td>\n",
       "      <td>3460</td>\n",
       "      <td>1.151280e+05</td>\n",
       "      <td>115128.000000</td>\n",
       "    </tr>\n",
       "    <tr>\n",
       "      <th>unique</th>\n",
       "      <td>114080</td>\n",
       "      <td>1461</td>\n",
       "      <td>2</td>\n",
       "      <td>7</td>\n",
       "      <td>25</td>\n",
       "      <td>3</td>\n",
       "      <td>462</td>\n",
       "      <td>437</td>\n",
       "      <td>551</td>\n",
       "      <td>526</td>\n",
       "      <td>25</td>\n",
       "      <td>25</td>\n",
       "      <td>5</td>\n",
       "      <td>9</td>\n",
       "      <td>4</td>\n",
       "      <td>2</td>\n",
       "      <td>2</td>\n",
       "      <td>495</td>\n",
       "      <td>392</td>\n",
       "      <td>215</td>\n",
       "      <td>NaN</td>\n",
       "      <td>NaN</td>\n",
       "    </tr>\n",
       "    <tr>\n",
       "      <th>top</th>\n",
       "      <td>DX:HEAD INJURY</td>\n",
       "      <td>2022-02-14</td>\n",
       "      <td>FEMALE</td>\n",
       "      <td>WHITE</td>\n",
       "      <td>UNKNOWN</td>\n",
       "      <td>No</td>\n",
       "      <td>FRACTURE</td>\n",
       "      <td>PAIN</td>\n",
       "      <td>CONTUSIONS, ABR.</td>\n",
       "      <td>PAIN</td>\n",
       "      <td>HEAD</td>\n",
       "      <td>HEAD</td>\n",
       "      <td>TREATED/EXAMINED AND RELEASED</td>\n",
       "      <td>HOME</td>\n",
       "      <td>NO/?</td>\n",
       "      <td>No/Unk</td>\n",
       "      <td>No/Unk</td>\n",
       "      <td>FLOORS OR FLOORING MATERIALS</td>\n",
       "      <td>FLOORS OR FLOORING MATERIALS</td>\n",
       "      <td>FLOORS OR FLOORING MATERIALS</td>\n",
       "      <td>NaN</td>\n",
       "      <td>NaN</td>\n",
       "    </tr>\n",
       "    <tr>\n",
       "      <th>freq</th>\n",
       "      <td>73</td>\n",
       "      <td>147</td>\n",
       "      <td>72664</td>\n",
       "      <td>64461</td>\n",
       "      <td>371</td>\n",
       "      <td>70667</td>\n",
       "      <td>37125</td>\n",
       "      <td>787</td>\n",
       "      <td>11337</td>\n",
       "      <td>3013</td>\n",
       "      <td>41138</td>\n",
       "      <td>9782</td>\n",
       "      <td>71490</td>\n",
       "      <td>69595</td>\n",
       "      <td>115096</td>\n",
       "      <td>112540</td>\n",
       "      <td>110483</td>\n",
       "      <td>33204</td>\n",
       "      <td>12030</td>\n",
       "      <td>1197</td>\n",
       "      <td>NaN</td>\n",
       "      <td>NaN</td>\n",
       "    </tr>\n",
       "    <tr>\n",
       "      <th>mean</th>\n",
       "      <td>NaN</td>\n",
       "      <td>NaN</td>\n",
       "      <td>NaN</td>\n",
       "      <td>NaN</td>\n",
       "      <td>NaN</td>\n",
       "      <td>NaN</td>\n",
       "      <td>NaN</td>\n",
       "      <td>NaN</td>\n",
       "      <td>NaN</td>\n",
       "      <td>NaN</td>\n",
       "      <td>NaN</td>\n",
       "      <td>NaN</td>\n",
       "      <td>NaN</td>\n",
       "      <td>NaN</td>\n",
       "      <td>NaN</td>\n",
       "      <td>NaN</td>\n",
       "      <td>NaN</td>\n",
       "      <td>NaN</td>\n",
       "      <td>NaN</td>\n",
       "      <td>NaN</td>\n",
       "      <td>2.081887e+08</td>\n",
       "      <td>79.354814</td>\n",
       "    </tr>\n",
       "    <tr>\n",
       "      <th>std</th>\n",
       "      <td>NaN</td>\n",
       "      <td>NaN</td>\n",
       "      <td>NaN</td>\n",
       "      <td>NaN</td>\n",
       "      <td>NaN</td>\n",
       "      <td>NaN</td>\n",
       "      <td>NaN</td>\n",
       "      <td>NaN</td>\n",
       "      <td>NaN</td>\n",
       "      <td>NaN</td>\n",
       "      <td>NaN</td>\n",
       "      <td>NaN</td>\n",
       "      <td>NaN</td>\n",
       "      <td>NaN</td>\n",
       "      <td>NaN</td>\n",
       "      <td>NaN</td>\n",
       "      <td>NaN</td>\n",
       "      <td>NaN</td>\n",
       "      <td>NaN</td>\n",
       "      <td>NaN</td>\n",
       "      <td>1.179966e+07</td>\n",
       "      <td>8.877289</td>\n",
       "    </tr>\n",
       "    <tr>\n",
       "      <th>min</th>\n",
       "      <td>NaN</td>\n",
       "      <td>NaN</td>\n",
       "      <td>NaN</td>\n",
       "      <td>NaN</td>\n",
       "      <td>NaN</td>\n",
       "      <td>NaN</td>\n",
       "      <td>NaN</td>\n",
       "      <td>NaN</td>\n",
       "      <td>NaN</td>\n",
       "      <td>NaN</td>\n",
       "      <td>NaN</td>\n",
       "      <td>NaN</td>\n",
       "      <td>NaN</td>\n",
       "      <td>NaN</td>\n",
       "      <td>NaN</td>\n",
       "      <td>NaN</td>\n",
       "      <td>NaN</td>\n",
       "      <td>NaN</td>\n",
       "      <td>NaN</td>\n",
       "      <td>NaN</td>\n",
       "      <td>1.901033e+08</td>\n",
       "      <td>65.000000</td>\n",
       "    </tr>\n",
       "    <tr>\n",
       "      <th>25%</th>\n",
       "      <td>NaN</td>\n",
       "      <td>NaN</td>\n",
       "      <td>NaN</td>\n",
       "      <td>NaN</td>\n",
       "      <td>NaN</td>\n",
       "      <td>NaN</td>\n",
       "      <td>NaN</td>\n",
       "      <td>NaN</td>\n",
       "      <td>NaN</td>\n",
       "      <td>NaN</td>\n",
       "      <td>NaN</td>\n",
       "      <td>NaN</td>\n",
       "      <td>NaN</td>\n",
       "      <td>NaN</td>\n",
       "      <td>NaN</td>\n",
       "      <td>NaN</td>\n",
       "      <td>NaN</td>\n",
       "      <td>NaN</td>\n",
       "      <td>NaN</td>\n",
       "      <td>NaN</td>\n",
       "      <td>2.002557e+08</td>\n",
       "      <td>72.000000</td>\n",
       "    </tr>\n",
       "    <tr>\n",
       "      <th>50%</th>\n",
       "      <td>NaN</td>\n",
       "      <td>NaN</td>\n",
       "      <td>NaN</td>\n",
       "      <td>NaN</td>\n",
       "      <td>NaN</td>\n",
       "      <td>NaN</td>\n",
       "      <td>NaN</td>\n",
       "      <td>NaN</td>\n",
       "      <td>NaN</td>\n",
       "      <td>NaN</td>\n",
       "      <td>NaN</td>\n",
       "      <td>NaN</td>\n",
       "      <td>NaN</td>\n",
       "      <td>NaN</td>\n",
       "      <td>NaN</td>\n",
       "      <td>NaN</td>\n",
       "      <td>NaN</td>\n",
       "      <td>NaN</td>\n",
       "      <td>NaN</td>\n",
       "      <td>NaN</td>\n",
       "      <td>2.105278e+08</td>\n",
       "      <td>79.000000</td>\n",
       "    </tr>\n",
       "    <tr>\n",
       "      <th>75%</th>\n",
       "      <td>NaN</td>\n",
       "      <td>NaN</td>\n",
       "      <td>NaN</td>\n",
       "      <td>NaN</td>\n",
       "      <td>NaN</td>\n",
       "      <td>NaN</td>\n",
       "      <td>NaN</td>\n",
       "      <td>NaN</td>\n",
       "      <td>NaN</td>\n",
       "      <td>NaN</td>\n",
       "      <td>NaN</td>\n",
       "      <td>NaN</td>\n",
       "      <td>NaN</td>\n",
       "      <td>NaN</td>\n",
       "      <td>NaN</td>\n",
       "      <td>NaN</td>\n",
       "      <td>NaN</td>\n",
       "      <td>NaN</td>\n",
       "      <td>NaN</td>\n",
       "      <td>NaN</td>\n",
       "      <td>2.204607e+08</td>\n",
       "      <td>86.000000</td>\n",
       "    </tr>\n",
       "    <tr>\n",
       "      <th>max</th>\n",
       "      <td>NaN</td>\n",
       "      <td>NaN</td>\n",
       "      <td>NaN</td>\n",
       "      <td>NaN</td>\n",
       "      <td>NaN</td>\n",
       "      <td>NaN</td>\n",
       "      <td>NaN</td>\n",
       "      <td>NaN</td>\n",
       "      <td>NaN</td>\n",
       "      <td>NaN</td>\n",
       "      <td>NaN</td>\n",
       "      <td>NaN</td>\n",
       "      <td>NaN</td>\n",
       "      <td>NaN</td>\n",
       "      <td>NaN</td>\n",
       "      <td>NaN</td>\n",
       "      <td>NaN</td>\n",
       "      <td>NaN</td>\n",
       "      <td>NaN</td>\n",
       "      <td>NaN</td>\n",
       "      <td>2.302226e+08</td>\n",
       "      <td>112.000000</td>\n",
       "    </tr>\n",
       "  </tbody>\n",
       "</table>\n",
       "</div>"
      ],
      "text/plain": [
       "             narrative treatment_date     sex    race other_race hispanic  \\\n",
       "count           115128         115128  115128  115128       1022   115128   \n",
       "unique          114080           1461       2       7         25        3   \n",
       "top     DX:HEAD INJURY     2022-02-14  FEMALE   WHITE    UNKNOWN       No   \n",
       "freq                73            147   72664   64461        371    70667   \n",
       "mean               NaN            NaN     NaN     NaN        NaN      NaN   \n",
       "std                NaN            NaN     NaN     NaN        NaN      NaN   \n",
       "min                NaN            NaN     NaN     NaN        NaN      NaN   \n",
       "25%                NaN            NaN     NaN     NaN        NaN      NaN   \n",
       "50%                NaN            NaN     NaN     NaN        NaN      NaN   \n",
       "75%                NaN            NaN     NaN     NaN        NaN      NaN   \n",
       "max                NaN            NaN     NaN     NaN        NaN      NaN   \n",
       "\n",
       "       diagnosis other_diagnosis       diagnosis_2 other_diagnosis_2  \\\n",
       "count     115128            2522             43143              4978   \n",
       "unique       462             437               551               526   \n",
       "top     FRACTURE            PAIN  CONTUSIONS, ABR.              PAIN   \n",
       "freq       37125             787             11337              3013   \n",
       "mean         NaN             NaN               NaN               NaN   \n",
       "std          NaN             NaN               NaN               NaN   \n",
       "min          NaN             NaN               NaN               NaN   \n",
       "25%          NaN             NaN               NaN               NaN   \n",
       "50%          NaN             NaN               NaN               NaN   \n",
       "75%          NaN             NaN               NaN               NaN   \n",
       "max          NaN             NaN               NaN               NaN   \n",
       "\n",
       "       body_part body_part_2                    disposition location  \\\n",
       "count     115128       43145                         115128   115128   \n",
       "unique        25          25                              5        9   \n",
       "top         HEAD        HEAD  TREATED/EXAMINED AND RELEASED     HOME   \n",
       "freq       41138        9782                          71490    69595   \n",
       "mean         NaN         NaN                            NaN      NaN   \n",
       "std          NaN         NaN                            NaN      NaN   \n",
       "min          NaN         NaN                            NaN      NaN   \n",
       "25%          NaN         NaN                            NaN      NaN   \n",
       "50%          NaN         NaN                            NaN      NaN   \n",
       "75%          NaN         NaN                            NaN      NaN   \n",
       "max          NaN         NaN                            NaN      NaN   \n",
       "\n",
       "       fire_involvement alcohol    drug                     product_1  \\\n",
       "count            115128  115128  115128                        115128   \n",
       "unique                4       2       2                           495   \n",
       "top                NO/?  No/Unk  No/Unk  FLOORS OR FLOORING MATERIALS   \n",
       "freq             115096  112540  110483                         33204   \n",
       "mean                NaN     NaN     NaN                           NaN   \n",
       "std                 NaN     NaN     NaN                           NaN   \n",
       "min                 NaN     NaN     NaN                           NaN   \n",
       "25%                 NaN     NaN     NaN                           NaN   \n",
       "50%                 NaN     NaN     NaN                           NaN   \n",
       "75%                 NaN     NaN     NaN                           NaN   \n",
       "max                 NaN     NaN     NaN                           NaN   \n",
       "\n",
       "                           product_2                     product_3  \\\n",
       "count                          29627                          3460   \n",
       "unique                           392                           215   \n",
       "top     FLOORS OR FLOORING MATERIALS  FLOORS OR FLOORING MATERIALS   \n",
       "freq                           12030                          1197   \n",
       "mean                             NaN                           NaN   \n",
       "std                              NaN                           NaN   \n",
       "min                              NaN                           NaN   \n",
       "25%                              NaN                           NaN   \n",
       "50%                              NaN                           NaN   \n",
       "75%                              NaN                           NaN   \n",
       "max                              NaN                           NaN   \n",
       "\n",
       "        cpsc_case_number            age  \n",
       "count       1.151280e+05  115128.000000  \n",
       "unique               NaN            NaN  \n",
       "top                  NaN            NaN  \n",
       "freq                 NaN            NaN  \n",
       "mean        2.081887e+08      79.354814  \n",
       "std         1.179966e+07       8.877289  \n",
       "min         1.901033e+08      65.000000  \n",
       "25%         2.002557e+08      72.000000  \n",
       "50%         2.105278e+08      79.000000  \n",
       "75%         2.204607e+08      86.000000  \n",
       "max         2.302226e+08     112.000000  "
      ]
     },
     "metadata": {},
     "output_type": "display_data"
    }
   ],
   "source": [
    "display(primary_data.describe(include='all'))"
   ]
  },
  {
   "cell_type": "markdown",
   "id": "bb4349f3",
   "metadata": {},
   "source": [
    "### Combining variables having multiple categories (for finding relationships in the data)"
   ]
  },
  {
   "cell_type": "code",
   "execution_count": 7,
   "id": "66d7d36f",
   "metadata": {},
   "outputs": [],
   "source": [
    "selected_body_parts = ['HEAD', 'LOWER TRUNK', 'FACE', 'UPPER TRUNK', 'SHOULDER', 'KNEE', 'UPPER LEG', 'UPPER ARM', 'WRIST', 'LOWER ARM', 'LOWER LEG', 'ANKLE', 'ELBOW', 'NECK', 'HAND', 'FOOT']\n",
    "primary_data['body_part_modified']= primary_data['body_part'].apply(lambda x: x if x in selected_body_parts else 'Other')"
   ]
  },
  {
   "cell_type": "code",
   "execution_count": 8,
   "id": "bec50188",
   "metadata": {},
   "outputs": [],
   "source": [
    "selected_diagnosis = ['FRACTURE', 'INTERNAL INJURY', 'CONTUSIONS, ABR.', 'LACERATION', 'STRAIN, SPRAIN', 'HEMATOMA', 'AVULSION', 'DISLOCATION', 'CONCUSSION']\n",
    "primary_data['diagnosis_modified']= primary_data['diagnosis'].apply(lambda x: x if x in selected_diagnosis else 'Other')"
   ]
  },
  {
   "cell_type": "code",
   "execution_count": 9,
   "id": "9cd19127",
   "metadata": {},
   "outputs": [],
   "source": [
    "selected_body_parts = ['HEAD', 'LOWER TRUNK', 'FACE', 'UPPER TRUNK', 'SHOULDER', 'KNEE', 'UPPER LEG', 'UPPER ARM', 'WRIST', 'LOWER ARM', 'LOWER LEG', 'ANKLE', 'ELBOW', 'NECK', 'HAND', 'FOOT']\n",
    "primary_data['body_part_2_modified']= primary_data['body_part_2'].apply(lambda x: x if x in selected_body_parts else 'Other')"
   ]
  },
  {
   "cell_type": "code",
   "execution_count": 10,
   "id": "0ac973a0",
   "metadata": {},
   "outputs": [],
   "source": [
    "selected_diagnosis = ['FRACTURE', 'INTERNAL INJURY', 'CONTUSIONS, ABR.', 'LACERATION', 'STRAIN, SPRAIN', 'HEMATOMA', 'AVULSION', 'DISLOCATION', 'CONCUSSION']\n",
    "primary_data['diagnosis_2_modified']= primary_data['diagnosis_2'].apply(lambda x: x if x in selected_diagnosis else 'Other')"
   ]
  },
  {
   "cell_type": "markdown",
   "id": "15398131",
   "metadata": {},
   "source": [
    "## Deep Exploratory Data Analysis"
   ]
  },
  {
   "cell_type": "markdown",
   "id": "4d9b37db",
   "metadata": {},
   "source": [
    "### Function to plot Using Matplotlib"
   ]
  },
  {
   "cell_type": "code",
   "execution_count": 11,
   "id": "64cbb7e8",
   "metadata": {},
   "outputs": [],
   "source": [
    "def eda_matplotlib(data, var1, var2, title=None, xaxis_title=None, legend_title=None, loc='upper right', rotation=60):\n",
    "    cross_tab = pd.crosstab(data[var1], data[var2])\n",
    "    \n",
    "    # Get unique categories for var2\n",
    "    categories = cross_tab.columns\n",
    "    \n",
    "    # Create a list of colors for each category\n",
    "#     colors = plt.cm.Paired(range(len(categories)))    #Can be used if we have less than 12 categories\n",
    "    colors = plt.cm.tab20(np.linspace(0, 1, len(categories)))   #Use if we have more than 12 categories\n",
    "    \n",
    "    # Initialize bottom values for stacking\n",
    "    bottom = [0] * len(cross_tab.index)\n",
    "    \n",
    "    plt.style.use('seaborn-darkgrid') \n",
    "    \n",
    "    fig, ax = plt.subplots(figsize=(10, 8))\n",
    "    \n",
    "    # Iterate through categories and plot bars\n",
    "    for i, category in enumerate(categories):\n",
    "        counts = cross_tab[category]\n",
    "        bars = plt.bar(cross_tab.index, counts, bottom=bottom, label=category, color=colors[i])\n",
    "        bottom += counts\n",
    "    \n",
    "    # Add labels and title\n",
    "    plt.xlabel(var1)\n",
    "    plt.ylabel('Frequency')\n",
    "    plt.title(title)\n",
    "    \n",
    "    # Add legend with loc\n",
    "    plt.legend(title=legend_title, loc= loc)\n",
    "    \n",
    "    # Set x-axis label if provided\n",
    "    if xaxis_title:\n",
    "        ax.set_xlabel(xaxis_title)\n",
    "        \n",
    "    plt.xticks(rotation=rotation)\n",
    "    \n",
    "    # Remove gridlines\n",
    "    plt.grid(False)\n",
    "    \n",
    "    plt.show()\n"
   ]
  },
  {
   "cell_type": "markdown",
   "id": "f70698a3",
   "metadata": {},
   "source": [
    "### Body Part wrt Diagnosis"
   ]
  },
  {
   "cell_type": "code",
   "execution_count": 12,
   "id": "fcc19656",
   "metadata": {},
   "outputs": [
    {
     "data": {
      "image/png": "[encoded data removed]",
      "text/plain": [
       "<Figure size 1000x800 with 1 Axes>"
      ]
     },
     "metadata": {},
     "output_type": "display_data"
    }
   ],
   "source": [
    "eda_matplotlib(primary_data, 'body_part_modified', 'diagnosis_modified', \"Body Part Vs Diagnosis\", \"Body Part\", 'Diagnosis')"
   ]
  },
  {
   "cell_type": "markdown",
   "id": "f4e8ca10",
   "metadata": {},
   "source": [
    "### Disposition wrt Diagnosis"
   ]
  },
  {
   "cell_type": "code",
   "execution_count": 13,
   "id": "7e0ab7ae",
   "metadata": {},
   "outputs": [
    {
     "data": {
      "image/png": "[encoded data removed]",
      "text/plain": [
       "<Figure size 1000x800 with 1 Axes>"
      ]
     },
     "metadata": {},
     "output_type": "display_data"
    }
   ],
   "source": [
    "eda_matplotlib(primary_data, 'disposition', 'diagnosis_modified', 'Disposition Vs Diagnosis', 'Disposition', 'Diagnosis', 'upper left')"
   ]
  },
  {
   "cell_type": "markdown",
   "id": "8be741cc",
   "metadata": {},
   "source": [
    "## Processing and cleaning the narratives"
   ]
  },
  {
   "cell_type": "code",
   "execution_count": 16,
   "id": "cdd62f97",
   "metadata": {},
   "outputs": [
    {
     "name": "stdout",
     "output_type": "stream",
     "text": [
      "{'c/o': 'complains of', 's/p': 'after', 'biba': 'brought in by ambulance', 'dx': 'clinical diagnosis', 'fx': 'fracture', 'fxs': 'fractures', 'inj': 'injury', 'sts': 'sit-to-stand', 'loc': 'loss of consciousness', 'at hm': 'at home', 'pt': 'patient', 'lac': 'laceration', 'chi': 'closed-head injury', 'af': 'accidental fall', 'abrs': 'abrasions', 'p/u': 'pick up', 'amb c': 'able to walk', \"t'd&f\": 'tripped and fell', \"s'd&f\": 'slipped and fell', 'br': 'bathroom', 'freq': 'frequent', 'uti': 'urinary tract infection', 'aki': 'acute kidney injury', 'fd': 'fall detected', \"unwit'd\": 'unwitnessed fall', 'trop': 'troponin', 'bwd': 'backward', 'etoh': 'ethyl alcohol', 'intox': 'intoxication', 'w': 'with', 'hx': 'history of', 'htn': 'hypertension', 'abras': 'abrasions', 'hd': 'head', 'clsd': 'closed', 'bac': 'blood alcohol content', '&': 'and', '***': '', '>>': 'clinical diagnosis', '@': 'at', 'abd': 'abdomen', 'afib': 'atrial fibrillation', 'am': 'morning', 'ams': 'altered mental status', 'bal': 'blood alcohol level,', 'cpk': 'creatine phosphokinase', 'cva': 'cerebral vascular accident', 'ecf': 'extended-care facility', 'er': 'emergency room', 'eval': 'evaluation', 'glf': 'ground level fall', 'h/o': 'history of', 'inr': 'international normalized ratio', 'l': 'left', 'lt': 'left', 'mech': 'mechanical', 'mult': 'multiple', 'n.h.': 'nursing home', 'nh': 'nursing home', 'p/w': 'presents with', 'pm': 'afternoon', 'pta': 'prior to arrival', 'pts': \"patient's\", 'px': 'physical examination', 'r': 'right', 'r/o': 'rules out', 'rt': 'right', 'sah': 'subarachnoid hemorrhage', 'sdh': 'acute subdural hematoma', 'tr': 'trauma', 'w/': 'with', 'w/o': 'without', 'wks': 'weeks'}\n"
     ]
    }
   ],
   "source": [
    "#Reading the medical terms mapping file\n",
    "file_path = '../data/medical_terms_mapping.json'\n",
    "\n",
    "with open(file_path, 'r') as json_file:\n",
    "    medical_terms_mapping = json.load(json_file)\n",
    "\n",
    "print(medical_terms_mapping)"
   ]
  },
  {
   "cell_type": "code",
   "execution_count": 17,
   "id": "5be7816a",
   "metadata": {},
   "outputs": [],
   "source": [
    "#Function to clean & process the narratives\n",
    "def clean_narratives(text):\n",
    "    text = text.lower()\n",
    "\n",
    "    # Unglue DX (diagnosis)\n",
    "    regex_dx = r\"([ˆ\\W]*(dx)[ˆ\\W]*)\"\n",
    "    text = re.sub(regex_dx, r\". dx: \", text)\n",
    "\n",
    "    # remove age and sex identifications\n",
    "    # regex to capture age and sex\n",
    "    regex_age_sex = r\"(\\d+)\\s*?(yof|yf|yo\\s*female|yo\\s*f|yom|ym|yo\\s*male|yo\\s*m)\"\n",
    "    age_sex_match = re.search(regex_age_sex, text)\n",
    "\n",
    "    #format age and sex\n",
    "    if age_sex_match:\n",
    "        age = age_sex_match.group(1)\n",
    "        sex = age_sex_match.group(2)\n",
    "\n",
    "        if \"f\" in sex:\n",
    "            text = text.replace(age_sex_match.group(0), f\"{age} years old female patient\")\n",
    "        elif \"m\" in sex:\n",
    "            text = text.replace(age_sex_match.group(0), f\"{age} years old male patient\")\n",
    "\n",
    "    # translate medical terms\n",
    "    for term, replacement in medical_terms_mapping.items():\n",
    "        if term == \"@\" or term == \">>\" or term == \"&\" or term == \"***\":\n",
    "            pattern = fr\"({re.escape(term)})\"\n",
    "            text = re.sub(pattern, f\" {replacement} \", text) # add spaces around replacement\n",
    "\n",
    "        else:\n",
    "            pattern = fr\"(?<!-)\\b({re.escape(term)})\\b(?!-)\"\n",
    "            text = re.sub(pattern, replacement, text)\n",
    "\n",
    "    return text"
   ]
  },
  {
   "cell_type": "code",
   "execution_count": 18,
   "id": "561b7cca",
   "metadata": {},
   "outputs": [],
   "source": [
    "primary_data['cleaned_narrative'] = np.nan"
   ]
  },
  {
   "cell_type": "code",
   "execution_count": 22,
   "id": "3116a880",
   "metadata": {},
   "outputs": [
    {
     "name": "stdout",
     "output_type": "stream",
     "text": [
      "Overall Time Elapsed: 39.713550329208374\n",
      "0:00:39.713550\n"
     ]
    }
   ],
   "source": [
    "tqdm.pandas(desc=\"Processing column1\")\n",
    "start = time.time()\n",
    "primary_data['cleaned_narrative'] = primary_data['narrative'].apply(lambda x: clean_narratives(x))\n",
    "end = time.time()\n",
    "elapsed = end - start\n",
    "print('Overall Time Elapsed:',elapsed)\n",
    "print(str(timedelta(seconds=elapsed)))"
   ]
  },
  {
   "cell_type": "code",
   "execution_count": 23,
   "id": "9f3f4b6f",
   "metadata": {},
   "outputs": [
    {
     "data": {
      "text/html": [
       "<div>\n",
       "<style scoped>\n",
       "    .dataframe tbody tr th:only-of-type {\n",
       "        vertical-align: middle;\n",
       "    }\n",
       "\n",
       "    .dataframe tbody tr th {\n",
       "        vertical-align: top;\n",
       "    }\n",
       "\n",
       "    .dataframe thead th {\n",
       "        text-align: right;\n",
       "    }\n",
       "</style>\n",
       "<table border=\"1\" class=\"dataframe\">\n",
       "  <thead>\n",
       "    <tr style=\"text-align: right;\">\n",
       "      <th></th>\n",
       "      <th>cpsc_case_number</th>\n",
       "      <th>narrative</th>\n",
       "      <th>cleaned_narrative</th>\n",
       "    </tr>\n",
       "  </thead>\n",
       "  <tbody>\n",
       "    <tr>\n",
       "      <th>0</th>\n",
       "      <td>190103269</td>\n",
       "      <td>94YOM FELL TO THE FLOOR AT THE NURSING HOME ONTO BACK OF HEAD SUSTAINED A SUBDURAL HEMATOMA</td>\n",
       "      <td>94 years old male patient fell to the floor at the nursing home onto back of head sustained a subdural hematoma</td>\n",
       "    </tr>\n",
       "    <tr>\n",
       "      <th>1</th>\n",
       "      <td>190103270</td>\n",
       "      <td>86YOM FELL IN THE SHOWER AT HOME AND SUSTAINED A CLOSED HEAD INJURY</td>\n",
       "      <td>86 years old male patient fell in the shower at home and sustained a closed head injury</td>\n",
       "    </tr>\n",
       "    <tr>\n",
       "      <th>2</th>\n",
       "      <td>190103273</td>\n",
       "      <td>87YOF WAS GETTING UP FROM THE COUCH AND FELL TO THE FLOOR SUSTAINED ABRASIONS TO ELBOWS ADMITTED FOR HEMORRHAGIC STROKE</td>\n",
       "      <td>87 years old female patient was getting up from the couch and fell to the floor sustained abrasions to elbows admitted for hemorrhagic stroke</td>\n",
       "    </tr>\n",
       "    <tr>\n",
       "      <th>3</th>\n",
       "      <td>190103291</td>\n",
       "      <td>67YOF WAS AT A FRIENDS HOUSE AND SLIPPED ON WATER THAT WAS ON THE FLOOR AND SUSTAINED A RIGHT RADIUS FX</td>\n",
       "      <td>67 years old female patient was at a friends house and slipped on water that was on the floor and sustained a right radius fracture</td>\n",
       "    </tr>\n",
       "    <tr>\n",
       "      <th>4</th>\n",
       "      <td>190103294</td>\n",
       "      <td>70YOF WAS STANDING ON A STEP STOOL AND FELL OFF SUSTAINED A RIGHT RADIUS FX</td>\n",
       "      <td>70 years old female patient was standing on a step stool and fell off sustained a right radius fracture</td>\n",
       "    </tr>\n",
       "  </tbody>\n",
       "</table>\n",
       "</div>"
      ],
      "text/plain": [
       "   cpsc_case_number  \\\n",
       "0         190103269   \n",
       "1         190103270   \n",
       "2         190103273   \n",
       "3         190103291   \n",
       "4         190103294   \n",
       "\n",
       "                                                                                                                 narrative  \\\n",
       "0                              94YOM FELL TO THE FLOOR AT THE NURSING HOME ONTO BACK OF HEAD SUSTAINED A SUBDURAL HEMATOMA   \n",
       "1                                                      86YOM FELL IN THE SHOWER AT HOME AND SUSTAINED A CLOSED HEAD INJURY   \n",
       "2  87YOF WAS GETTING UP FROM THE COUCH AND FELL TO THE FLOOR SUSTAINED ABRASIONS TO ELBOWS ADMITTED FOR HEMORRHAGIC STROKE   \n",
       "3                  67YOF WAS AT A FRIENDS HOUSE AND SLIPPED ON WATER THAT WAS ON THE FLOOR AND SUSTAINED A RIGHT RADIUS FX   \n",
       "4                                              70YOF WAS STANDING ON A STEP STOOL AND FELL OFF SUSTAINED A RIGHT RADIUS FX   \n",
       "\n",
       "                                                                                                                               cleaned_narrative  \n",
       "0                                94 years old male patient fell to the floor at the nursing home onto back of head sustained a subdural hematoma  \n",
       "1                                                        86 years old male patient fell in the shower at home and sustained a closed head injury  \n",
       "2  87 years old female patient was getting up from the couch and fell to the floor sustained abrasions to elbows admitted for hemorrhagic stroke  \n",
       "3            67 years old female patient was at a friends house and slipped on water that was on the floor and sustained a right radius fracture  \n",
       "4                                        70 years old female patient was standing on a step stool and fell off sustained a right radius fracture  "
      ]
     },
     "execution_count": 23,
     "metadata": {},
     "output_type": "execute_result"
    }
   ],
   "source": [
    "primary_data[['cpsc_case_number', 'narrative', 'cleaned_narrative']].head()"
   ]
  },
  {
   "cell_type": "code",
   "execution_count": 24,
   "id": "112bc632",
   "metadata": {},
   "outputs": [],
   "source": [
    "primary_data.to_csv('../data/cleaned_narrative_primary_data.csv', index=False)"
   ]
  },
  {
   "cell_type": "markdown",
   "id": "4c2b7431",
   "metadata": {},
   "source": [
    "## Selecting Representative Cases - using KMeans"
   ]
  },
  {
   "cell_type": "markdown",
   "id": "de4e0c81",
   "metadata": {},
   "source": [
    "### Loading the openAI embeddings"
   ]
  },
  {
   "cell_type": "code",
   "execution_count": 25,
   "id": "af355e9c",
   "metadata": {},
   "outputs": [],
   "source": [
    "file_path = '../data/openai_embeddings_primary_narratives.parquet.gzip'"
   ]
  },
  {
   "cell_type": "code",
   "execution_count": 28,
   "id": "b72490d3",
   "metadata": {
    "id": "F-efGt08-Rjm"
   },
   "outputs": [],
   "source": [
    "# Open the Parquet file using pyarrow\n",
    "table = pq.read_table(file_path)\n",
    "\n",
    "# Convert the table to a Pandas DataFrame\n",
    "embeddings_df = table.to_pandas()"
   ]
  },
  {
   "cell_type": "code",
   "execution_count": 29,
   "id": "b2ffdfcd",
   "metadata": {
    "colab": {
     "base_uri": "https://localhost:8080/",
     "height": 410
    },
    "id": "-P20YY5g_9Jm",
    "outputId": "a4965a1a-730d-4a89-f7b8-2a873ed22127"
   },
   "outputs": [
    {
     "data": {
      "text/html": [
       "<div>\n",
       "<style scoped>\n",
       "    .dataframe tbody tr th:only-of-type {\n",
       "        vertical-align: middle;\n",
       "    }\n",
       "\n",
       "    .dataframe tbody tr th {\n",
       "        vertical-align: top;\n",
       "    }\n",
       "\n",
       "    .dataframe thead th {\n",
       "        text-align: right;\n",
       "    }\n",
       "</style>\n",
       "<table border=\"1\" class=\"dataframe\">\n",
       "  <thead>\n",
       "    <tr style=\"text-align: right;\">\n",
       "      <th></th>\n",
       "      <th>cpsc_case_number</th>\n",
       "      <th>embedding</th>\n",
       "    </tr>\n",
       "  </thead>\n",
       "  <tbody>\n",
       "    <tr>\n",
       "      <th>0</th>\n",
       "      <td>190103269</td>\n",
       "      <td>[-0.0006138611352071166, 0.003836937015876174, 0.002745086094364524, -0.02371806465089321, -0.018211619928479195, 0.020619874820113182, -0.0002926925662904978, -0.015373783186078072, -0.008012332022190094, 0.009938936680555344, 0.0004198175447527319, 0.04183856025338173, 0.01730038784444332, -0.0016402173787355423, -0.004657045938074589, 0.0023301499895751476, 0.015946557745337486, 0.021830512210726738, 0.013967882841825485, -0.01057679858058691, 0.00038544295239262283, 0.01702701859176159, 0.010401060804724693, 0.004855564329773188, 0.00017919536912813783, 0.015777328982949257, 0.007511154282838106, -0.017508668825030327, 0.019630538299679756, 0.00034903435152955353, -0.0016955421306192875, 0.012451332993805408, -0.022455357015132904, -0.023874275386333466, -0.016402173787355423, -0.0005361623479984701, -0.011019396595656872, -0.020281417295336723, -0.027753518894314766, 0.008975634351372719, 0.010811115615069866, -0.010453131049871445, 0.010485675185918808, -0.015243607573211193, -0.03241381794214249, -0.005942533724009991, -0.02268967404961586, -0.012197489850223064, -0.02268967404961586, 0.02042461186647415, 0.0023382860235869884, -0.003176294034346938, -0.01688382588326931, 0.015451889485120773, 0.005991349462419748, -0.017456598579883575, 0.02902924455702305, 0.010869694873690605, 0.008409368805587292, -0.013037124648690224, -0.0022780797444283962, -0.02215595170855522, -0.0012830470222979784, 0.028977174311876297, -0.026113301515579224, -0.0021316318307071924, -0.007042520679533482, -0.0048002395778894424, -0.0174175463616848, -0.004969468340277672, 0.05233074352145195, 0.019942959770560265, 0.0034333914518356323, 0.002178820548579097, 0.03181501105427742, -0.0026702347677201033, 0.004207938443869352, 0.011071467772126198, 0.014124094508588314, -0.009613496251404285, 0.02681625261902809, -0.03876640647649765, -0.029263561591506004, 0.027024533599615097, 0.024733437225222588, -0.01727435365319252, -0.011663768440485, 0.03142448142170906, 0.0032999610994011164, -0.011969681829214096, 0.02405652217566967, -0.004256754647940397, 0.011409925296902657, 0.007244293577969074, 0.00044341193279251456, 0.03189311549067497, -0.003915042616426945, 0.01992994360625744, 0.016558384522795677, -0.006059691775590181, ...]</td>\n",
       "    </tr>\n",
       "  </tbody>\n",
       "</table>\n",
       "</div>"
      ],
      "text/plain": [
       "   cpsc_case_number  \\\n",
       "0         190103269   \n",
       "\n",
       "                                                                                                                                                                                                                                                                                                                                                                                                                                                                                                                                                                                                                                                                                                                                                                                                                                                                                                                                                                                                                                                                                                                                                                                                                                                                                                                                                                                                                                                                                                                                                                                                                                                                                                                                                                                                                                                                                                                                                                                                                                                                                                                                                                                                                                                                                                                                    embedding  \n",
       "0  [-0.0006138611352071166, 0.003836937015876174, 0.002745086094364524, -0.02371806465089321, -0.018211619928479195, 0.020619874820113182, -0.0002926925662904978, -0.015373783186078072, -0.008012332022190094, 0.009938936680555344, 0.0004198175447527319, 0.04183856025338173, 0.01730038784444332, -0.0016402173787355423, -0.004657045938074589, 0.0023301499895751476, 0.015946557745337486, 0.021830512210726738, 0.013967882841825485, -0.01057679858058691, 0.00038544295239262283, 0.01702701859176159, 0.010401060804724693, 0.004855564329773188, 0.00017919536912813783, 0.015777328982949257, 0.007511154282838106, -0.017508668825030327, 0.019630538299679756, 0.00034903435152955353, -0.0016955421306192875, 0.012451332993805408, -0.022455357015132904, -0.023874275386333466, -0.016402173787355423, -0.0005361623479984701, -0.011019396595656872, -0.020281417295336723, -0.027753518894314766, 0.008975634351372719, 0.010811115615069866, -0.010453131049871445, 0.010485675185918808, -0.015243607573211193, -0.03241381794214249, -0.005942533724009991, -0.02268967404961586, -0.012197489850223064, -0.02268967404961586, 0.02042461186647415, 0.0023382860235869884, -0.003176294034346938, -0.01688382588326931, 0.015451889485120773, 0.005991349462419748, -0.017456598579883575, 0.02902924455702305, 0.010869694873690605, 0.008409368805587292, -0.013037124648690224, -0.0022780797444283962, -0.02215595170855522, -0.0012830470222979784, 0.028977174311876297, -0.026113301515579224, -0.0021316318307071924, -0.007042520679533482, -0.0048002395778894424, -0.0174175463616848, -0.004969468340277672, 0.05233074352145195, 0.019942959770560265, 0.0034333914518356323, 0.002178820548579097, 0.03181501105427742, -0.0026702347677201033, 0.004207938443869352, 0.011071467772126198, 0.014124094508588314, -0.009613496251404285, 0.02681625261902809, -0.03876640647649765, -0.029263561591506004, 0.027024533599615097, 0.024733437225222588, -0.01727435365319252, -0.011663768440485, 0.03142448142170906, 0.0032999610994011164, -0.011969681829214096, 0.02405652217566967, -0.004256754647940397, 0.011409925296902657, 0.007244293577969074, 0.00044341193279251456, 0.03189311549067497, -0.003915042616426945, 0.01992994360625744, 0.016558384522795677, -0.006059691775590181, ...]  "
      ]
     },
     "metadata": {},
     "output_type": "display_data"
    }
   ],
   "source": [
    "display(embeddings_df.head(1))"
   ]
  },
  {
   "cell_type": "code",
   "execution_count": 31,
   "id": "f0a4daef",
   "metadata": {
    "id": "P0Hge9bw_2jX"
   },
   "outputs": [],
   "source": [
    "cleaned_narrative_with_embeddings = pd.merge(primary_data, embeddings_df, on='cpsc_case_number', how='inner')"
   ]
  },
  {
   "cell_type": "code",
   "execution_count": 32,
   "id": "9e0e8813",
   "metadata": {
    "colab": {
     "base_uri": "https://localhost:8080/"
    },
    "id": "_ciAjSN7ARf7",
    "outputId": "c64fa618-f799-4446-e1bd-934f8504626a"
   },
   "outputs": [
    {
     "data": {
      "text/plain": [
       "(1536,)"
      ]
     },
     "execution_count": 32,
     "metadata": {},
     "output_type": "execute_result"
    }
   ],
   "source": [
    "#Shape of each embedding\n",
    "cleaned_narrative_with_embeddings['embedding'][0].shape"
   ]
  },
  {
   "cell_type": "markdown",
   "id": "5eff5015",
   "metadata": {},
   "source": [
    "### Dimensionality Reduction"
   ]
  },
  {
   "cell_type": "code",
   "execution_count": 33,
   "id": "4d3d6789",
   "metadata": {},
   "outputs": [
    {
     "data": {
      "text/plain": [
       "(115128, 1536)"
      ]
     },
     "execution_count": 33,
     "metadata": {},
     "output_type": "execute_result"
    }
   ],
   "source": [
    "embedding_data = np.array(cleaned_narrative_with_embeddings['embedding'].values.tolist())\n",
    "embedding_data.shape"
   ]
  },
  {
   "cell_type": "markdown",
   "id": "5816867c",
   "metadata": {},
   "source": [
    "- Choosing the n_components as 200 because we are able to explain ~85% of the total variance using 200 dimensions. (For 95% explained variance the number of components (n_components) have to be >300)"
   ]
  },
  {
   "cell_type": "code",
   "execution_count": 34,
   "id": "9c22c556",
   "metadata": {},
   "outputs": [
    {
     "name": "stdout",
     "output_type": "stream",
     "text": [
      "Explained variances by each component: [0.05982971 0.03246811 0.02810547 0.02635169 0.02261913 0.02151625\n",
      " 0.01918103 0.01817125 0.01748737 0.01646777 0.0162477  0.01559173\n",
      " 0.01454443 0.01378408 0.01353847 0.01199451 0.01178426 0.0111667\n",
      " 0.01097926 0.01036031 0.00980657 0.00957704 0.00917827 0.00901579\n",
      " 0.00858905 0.00841664 0.0081432  0.00797895 0.00758264 0.00750334\n",
      " 0.00687654 0.00677323 0.006569   0.00651438 0.00629753 0.00607154\n",
      " 0.0059631  0.00589081 0.0057872  0.0054467  0.00539082 0.00521375\n",
      " 0.00508243 0.00492503 0.00484801 0.00466241 0.00453986 0.00447265\n",
      " 0.00446419 0.00434366 0.00424916 0.0041633  0.00405514 0.00398259\n",
      " 0.00395545 0.00384871 0.00382827 0.00376163 0.00374734 0.00360302\n",
      " 0.0035744  0.00348266 0.00341959 0.00337255 0.003284   0.00323751\n",
      " 0.00316105 0.00310061 0.00304292 0.00292937 0.00292365 0.00290702\n",
      " 0.00287801 0.00279921 0.00277042 0.00270922 0.00266719 0.00264318\n",
      " 0.00256551 0.00254065 0.00248963 0.00247547 0.00242183 0.00240019\n",
      " 0.00237855 0.0023681  0.00229454 0.00225359 0.00221094 0.00217517\n",
      " 0.00216737 0.00215408 0.00212567 0.00210511 0.00209925 0.00206548\n",
      " 0.00201763 0.00198303 0.00197698 0.00192511 0.00190147 0.00189632\n",
      " 0.00185777 0.00183059 0.00181914 0.00180823 0.00178046 0.0017568\n",
      " 0.00173367 0.00169552 0.00168518 0.00167283 0.0016387  0.00163537\n",
      " 0.00161585 0.00159281 0.00156675 0.00155466 0.00154837 0.00152826\n",
      " 0.00150353 0.00148275 0.00147525 0.00145397 0.00141968 0.00140723\n",
      " 0.00139436 0.00138825 0.0013774  0.00135172 0.00134964 0.00133289\n",
      " 0.00132342 0.00130566 0.00130043 0.00127338 0.00126688 0.00124979\n",
      " 0.00122647 0.00122351 0.00121926 0.00120553 0.00120155 0.00118177\n",
      " 0.00116964 0.00116085 0.00115502 0.00113601 0.0011157  0.0011149\n",
      " 0.00110208 0.00109563 0.00108473 0.00107449 0.00106342 0.00104698\n",
      " 0.00104363 0.00102333 0.00101097 0.00100257 0.00099003 0.00098272\n",
      " 0.00097174 0.00095246 0.0009475  0.00094332 0.00093631 0.00092833\n",
      " 0.0009222  0.00091027 0.00090083 0.00089938 0.000888   0.00088101\n",
      " 0.00087525 0.00086718 0.00086043 0.00084866 0.00083901 0.00083778\n",
      " 0.00082414 0.00081329 0.00081079 0.0008013  0.00079562 0.00079119\n",
      " 0.00078143 0.00077351 0.00076788 0.00076218 0.00075661 0.00074282\n",
      " 0.00072944 0.0007255  0.00071781 0.0007139  0.00070777 0.00069668\n",
      " 0.00068727 0.0006727 ]\n",
      "Cumulative explained variance: [0.05982971 0.09229782 0.12040329 0.14675498 0.16937411 0.19089035\n",
      " 0.21007139 0.22824264 0.24573001 0.26219778 0.27844548 0.29403721\n",
      " 0.30858165 0.32236573 0.3359042  0.34789871 0.35968297 0.37084967\n",
      " 0.38182893 0.39218924 0.40199581 0.41157285 0.42075113 0.42976691\n",
      " 0.43835596 0.4467726  0.4549158  0.46289475 0.47047739 0.47798073\n",
      " 0.48485727 0.4916305  0.4981995  0.50471388 0.51101141 0.51708295\n",
      " 0.52304605 0.52893687 0.53472406 0.54017076 0.54556158 0.55077532\n",
      " 0.55585775 0.56078278 0.56563079 0.57029321 0.57483306 0.57930572\n",
      " 0.5837699  0.58811356 0.59236272 0.59652602 0.60058116 0.60456374\n",
      " 0.60851919 0.6123679  0.61619617 0.6199578  0.62370514 0.62730816\n",
      " 0.63088256 0.63436521 0.6377848  0.64115735 0.64444135 0.64767886\n",
      " 0.65083991 0.65394052 0.65698344 0.65991281 0.66283646 0.66574348\n",
      " 0.66862149 0.6714207  0.67419112 0.67690034 0.67956753 0.68221071\n",
      " 0.68477622 0.68731687 0.6898065  0.69228197 0.69470379 0.69710398\n",
      " 0.69948254 0.70185064 0.70414517 0.70639876 0.7086097  0.71078488\n",
      " 0.71295225 0.71510632 0.71723199 0.7193371  0.72143635 0.72350183\n",
      " 0.72551946 0.72750249 0.72947947 0.73140458 0.73330606 0.73520238\n",
      " 0.73706015 0.73889074 0.74070988 0.74251811 0.74429857 0.74605537\n",
      " 0.74778904 0.74948456 0.75116974 0.75284257 0.75448127 0.75611664\n",
      " 0.75773249 0.7593253  0.76089205 0.76244672 0.76399509 0.76552334\n",
      " 0.76702687 0.76850963 0.76998488 0.77143885 0.77285853 0.77426576\n",
      " 0.77566012 0.77704837 0.77842578 0.7797775  0.78112714 0.78246003\n",
      " 0.78378345 0.7850891  0.78638954 0.78766291 0.78892979 0.79017958\n",
      " 0.79140605 0.79262956 0.79384882 0.79505435 0.79625589 0.79743766\n",
      " 0.79860731 0.79976815 0.80092318 0.80205919 0.80317489 0.80428979\n",
      " 0.80539188 0.80648751 0.80757224 0.80864673 0.80971014 0.81075712\n",
      " 0.81180075 0.81282409 0.81383506 0.81483763 0.81582766 0.81681038\n",
      " 0.81778212 0.81873458 0.81968208 0.8206254  0.82156171 0.82249004\n",
      " 0.82341225 0.82432251 0.82522334 0.82612272 0.82701072 0.82789173\n",
      " 0.82876698 0.82963416 0.83049459 0.83134324 0.83218226 0.83302004\n",
      " 0.83384418 0.83465746 0.83546826 0.83626955 0.83706517 0.83785636\n",
      " 0.83863779 0.8394113  0.84017918 0.84094136 0.84169797 0.84244078\n",
      " 0.84317022 0.84389573 0.84461354 0.84532744 0.84603521 0.84673189\n",
      " 0.84741916 0.84809186]\n"
     ]
    }
   ],
   "source": [
    "n_components = 200\n",
    "\n",
    "pca = PCA(n_components=n_components)\n",
    "\n",
    "pca_result = pca.fit_transform(embedding_data)\n",
    "\n",
    "explained_variances = pca.explained_variance_ratio_\n",
    "\n",
    "cumulative_explained_variance = np.cumsum(explained_variances)\n",
    "\n",
    "print(\"Explained variances by each component:\", explained_variances)\n",
    "print(\"Cumulative explained variance:\", cumulative_explained_variance)"
   ]
  },
  {
   "cell_type": "code",
   "execution_count": 35,
   "id": "8b23306a",
   "metadata": {},
   "outputs": [
    {
     "data": {
      "text/plain": [
       "(115128, 200)"
      ]
     },
     "execution_count": 35,
     "metadata": {},
     "output_type": "execute_result"
    }
   ],
   "source": [
    "# Reduced embeddings\n",
    "pca_result.shape"
   ]
  },
  {
   "cell_type": "markdown",
   "id": "a189c615",
   "metadata": {},
   "source": [
    "### Applying KMeans with number of clusters = 10000\n",
    "\n",
    "- We want to identify 10k clusters with minimum intra-cluster variance and maximizing the inter-cluster distance"
   ]
  },
  {
   "cell_type": "code",
   "execution_count": 38,
   "id": "44920468",
   "metadata": {},
   "outputs": [],
   "source": [
    "start = time.time()\n",
    "kmeans = KMeans(n_clusters=10000)\n",
    "kmeans.fit(pca_result)\n",
    "cleaned_narrative_with_embeddings['cluster_label'] = kmeans.labels_\n",
    "cleaned_narrative_with_embeddings.to_csv(\"../data/k_means_cleaned_narrative_10k_clusters_200_dim.csv\", index=False)\n",
    "\n",
    "end = time.time()\n",
    "\n",
    "elapsed = end - start\n",
    "print('Overall Time Elapsed:',elapsed)\n",
    "print(str(timedelta(seconds=elapsed)))"
   ]
  },
  {
   "cell_type": "code",
   "execution_count": 39,
   "id": "278b7864",
   "metadata": {},
   "outputs": [],
   "source": [
    "clusters_data = pd.read_csv(\"../data/k_means_cleaned_narrative_10k_clusters_200_dim.csv\")"
   ]
  },
  {
   "cell_type": "code",
   "execution_count": 40,
   "id": "50744483",
   "metadata": {},
   "outputs": [],
   "source": [
    "embedding_clusters = pd.merge(cleaned_narrative_with_embeddings[['cpsc_case_number', 'embedding']], clusters_data[['cluster_label', 'cpsc_case_number']] , on = 'cpsc_case_number')"
   ]
  },
  {
   "cell_type": "code",
   "execution_count": 41,
   "id": "468184f8",
   "metadata": {},
   "outputs": [],
   "source": [
    "def get_closest_sample(df_filtered):\n",
    "    if len(df_filtered)==1:\n",
    "        return df_filtered['cpsc_case_number'].values[0]\n",
    "    df_filtered = df_filtered.reset_index(drop=True)\n",
    "    \n",
    "    mean_array = np.mean(df_filtered['embedding'].values, axis=0)\n",
    "    \n",
    "    cosine_similarities = np.dot(np.array(df_filtered['embedding'].values.tolist()), mean_array)\n",
    "\n",
    "    # Find the index of the vector with the highest cosine similarity\n",
    "    closest_index = np.argmax(cosine_similarities)\n",
    "    \n",
    "    return df_filtered['cpsc_case_number'].values[closest_index]\n",
    "    "
   ]
  },
  {
   "cell_type": "code",
   "execution_count": 42,
   "id": "65bf3ea7",
   "metadata": {},
   "outputs": [],
   "source": [
    "cpsc_sample_list = []\n",
    "cluster_sample_list = []\n",
    "for k,v in embedding_clusters.groupby('cluster_label'):\n",
    "    cpsc = get_closest_sample(v)\n",
    "    cpsc_sample_list.append(cpsc)\n",
    "    cluster_sample_list.append(k)"
   ]
  },
  {
   "cell_type": "code",
   "execution_count": 43,
   "id": "a556b419",
   "metadata": {},
   "outputs": [],
   "source": [
    "df_sample = pd.DataFrame({'cpsc_case_number':cpsc_sample_list, 'cluster_label':cluster_sample_list})"
   ]
  },
  {
   "cell_type": "code",
   "execution_count": 44,
   "id": "3db6e62a",
   "metadata": {},
   "outputs": [],
   "source": [
    "sample_data_10k = pd.merge(df_sample, cleaned_narrative_with_embeddings, on='cpsc_case_number', how='left')"
   ]
  },
  {
   "cell_type": "code",
   "execution_count": 45,
   "id": "996df90a",
   "metadata": {},
   "outputs": [],
   "source": [
    "sample_data_10k.to_csv('../data/sample_data_10k.csv', index=False)"
   ]
  },
  {
   "cell_type": "markdown",
   "id": "6077060f",
   "metadata": {},
   "source": [
    "## Creating golden/training dataset for severity (using Llama 2 LLM)"
   ]
  },
  {
   "cell_type": "markdown",
   "id": "b9511ab8",
   "metadata": {},
   "source": [
    "### Installing Llama 2 on GPU"
   ]
  },
  {
   "cell_type": "code",
   "execution_count": 46,
   "id": "1176b783",
   "metadata": {},
   "outputs": [],
   "source": [
    "# GPU llama-cpp-python\n",
    "!CMAKE_ARGS=\"-DLLAMA_CUBLAS=on\" FORCE_CMAKE=1 pip install llama-cpp-python==0.1.78 --force-reinstall --upgrade --no-cache-dir --verbose\n",
    "# For download the models\n",
    "!pip install huggingface_hub"
   ]
  },
  {
   "cell_type": "markdown",
   "id": "526e2258",
   "metadata": {},
   "source": [
    "### Downloading the llama 2 model"
   ]
  },
  {
   "cell_type": "code",
   "execution_count": 47,
   "id": "22ffb0a7",
   "metadata": {},
   "outputs": [],
   "source": [
    "model_name_or_path = \"TheBloke/Llama-2-7B-chat-GGML\"\n",
    "model_basename = \"llama-2-7b-chat.ggmlv3.q4_0.bin\" # the model is in bin format"
   ]
  },
  {
   "cell_type": "code",
   "execution_count": 49,
   "id": "8f525326",
   "metadata": {},
   "outputs": [
    {
     "data": {
      "application/vnd.jupyter.widget-view+json": {
       "model_id": "1f774160f3734c21b90dce2728874e61",
       "version_major": 2,
       "version_minor": 0
      },
      "text/plain": [
       "llama-2-7b-chat.ggmlv3.q4_0.bin:   0%|          | 0.00/3.79G [00:00<?, ?B/s]"
      ]
     },
     "metadata": {},
     "output_type": "display_data"
    }
   ],
   "source": [
    "model_path = hf_hub_download(repo_id=model_name_or_path, filename=model_basename)"
   ]
  },
  {
   "cell_type": "markdown",
   "id": "53ac2ac7",
   "metadata": {},
   "source": [
    "### Loading the model on GPU"
   ]
  },
  {
   "cell_type": "code",
   "execution_count": 52,
   "id": "91c4b9aa-fcf8-4c6d-977f-3343dead774f",
   "metadata": {},
   "outputs": [],
   "source": [
    "from llama_cpp import Llama"
   ]
  },
  {
   "cell_type": "code",
   "execution_count": 53,
   "id": "d390cd02",
   "metadata": {},
   "outputs": [],
   "source": [
    "# Loading on GPU\n",
    "lcpp_llm = None\n",
    "lcpp_llm = Llama(\n",
    "    model_path=model_path,\n",
    "  n_threads=2, # CPU cores\n",
    "    n_batch=516, # Should be between 1 and n_ctx, consider the amount of VRAM in your GPU.\n",
    "    n_gpu_layers=10000, # Change this value based on your model and your GPU VRAM pool.\n",
    "    n_ctx=2048\n",
    "    )\n"
   ]
  },
  {
   "cell_type": "code",
   "execution_count": 54,
   "id": "2a8a1356",
   "metadata": {},
   "outputs": [],
   "source": [
    "data = pd.read_csv('../data/sample_data_10k.csv')"
   ]
  },
  {
   "cell_type": "markdown",
   "id": "52f2f969",
   "metadata": {},
   "source": [
    "### Defining the prompt for Llama 2 model"
   ]
  },
  {
   "cell_type": "code",
   "execution_count": 55,
   "id": "c4761f54",
   "metadata": {},
   "outputs": [],
   "source": [
    "def create_prompt(prompt,incident):\n",
    "\n",
    "    prompt_template=f'''SYSTEM: Classify the severity of falls based on narratives.\n",
    "User: Please classify the severity of the reported injury for an elderly patient in the incident report into one of the following categories:\n",
    "- \"Very Severe\": Life-threatening with long-term effects\n",
    "- \"Severe\": Not life-threatening but requiring multiple days of hospitalization\n",
    "- \"Moderate\": Requires a doctor's visit but no hospitalization\n",
    "- \"Minor\": No hospitalization or doctor's visit needed\n",
    "Severity Classification: [Very Severe/Severe/Moderate/Minor]\n",
    "\n",
    "Fall Narrative: {incident}\n",
    "Assistant:'''\n",
    "    \n",
    "    return prompt_template"
   ]
  },
  {
   "cell_type": "markdown",
   "id": "7b097893",
   "metadata": {},
   "source": [
    "### Getting the predictions from Llama 2 for representative data (10k)"
   ]
  },
  {
   "cell_type": "code",
   "execution_count": 56,
   "id": "bead70cc",
   "metadata": {
    "colab": {
     "base_uri": "https://localhost:8080/"
    },
    "id": "z5X_-nzYIwrF",
    "outputId": "1f993b48-0e73-49e2-e356-ce67c9cefeaa"
   },
   "outputs": [],
   "source": [
    "results=[]\n",
    "for i in range(data.shape[0]):\n",
    "    try:\n",
    "        prompt=create_prompt('',data.narrative.values[i]+'.')\n",
    "\n",
    "        response=lcpp_llm(prompt=prompt, max_tokens=800, temperature=0, top_p=0.9,\n",
    "                      repeat_penalty=1.2, top_k=1,\n",
    "                      echo=False)\n",
    "        result=response[\"choices\"][0][\"text\"]\n",
    "\n",
    "        results.append(result)\n",
    "        \n",
    "    except Exception as e:\n",
    "        print(f\"Error {e} occurred at count = {i}\")\n",
    "        results.append(None)\n",
    "        \n",
    "        \n",
    "\n",
    "final_data=data[['cpsc_case_number']].copy()\n",
    "final_data['severity']=results"
   ]
  },
  {
   "cell_type": "code",
   "execution_count": 57,
   "id": "f5abbba1",
   "metadata": {},
   "outputs": [],
   "source": [
    "final_list=[]\n",
    "for i in final_data.severity:\n",
    "    try:\n",
    "        pattern = r'\\b(Very Severe|Severe|Moderate|Minor)\\b'\n",
    "        matches = re.findall(pattern, i)\n",
    "        final_list.append(matches[0])\n",
    "    except:\n",
    "        final_list.append('Not Found')"
   ]
  },
  {
   "cell_type": "code",
   "execution_count": 58,
   "id": "b98c4243",
   "metadata": {},
   "outputs": [],
   "source": [
    "final_data['severity_of_fall']=final_list\n",
    "final_data.drop(columns=['severity'], inplace=True)"
   ]
  },
  {
   "cell_type": "code",
   "execution_count": 59,
   "id": "aa1a2f08",
   "metadata": {},
   "outputs": [],
   "source": [
    "final_data.to_csv('../data/severity_data_10k.csv',index=False)"
   ]
  },
  {
   "cell_type": "markdown",
   "id": "d92e2151",
   "metadata": {},
   "source": [
    "## Creating golden/training dataset for Reason of Fall - using OpenAI ChatGPT"
   ]
  },
  {
   "cell_type": "markdown",
   "id": "e44465f7",
   "metadata": {},
   "source": [
    "### Configuring OpenAI"
   ]
  },
  {
   "cell_type": "code",
   "execution_count": 61,
   "id": "e4e0702d",
   "metadata": {},
   "outputs": [],
   "source": [
    "openai.api_key= 'INSERT_YOUR_API_KEY'"
   ]
  },
  {
   "cell_type": "markdown",
   "id": "482e4492",
   "metadata": {},
   "source": [
    "### Defining the User & System Prompts for Turbo 3.5 model"
   ]
  },
  {
   "cell_type": "code",
   "execution_count": 62,
   "id": "fb088e1d",
   "metadata": {},
   "outputs": [],
   "source": [
    "user_prompt = \"\"\"Below are some common reasons associated with falls of elderly people - \n",
    "\n",
    "- Medical and Health Factors like chronic medical conditions (e.g., arthritis, stroke, Parkinson's, dementia, Alzheimer's, \\\n",
    "incontinence, postural hypotension), medications (sedatives, antidepressants, cardiovascular drugs, polypharmacy), cognitive \\\n",
    "and psychological factors (depression, cognitive impairment, memory loss).\n",
    "\n",
    "- Demographic and Lifestyle Factors like age-related factors (older age, gender), living situation (living alone, \\\n",
    "housebound), reduced physical activity/exercise, history of falls.\n",
    "\n",
    "- Sensory and Perception Factors like impaired vision (visual acuity, perceptual errors), impaired hearing.\n",
    "\n",
    "- Environmental Factors like home hazards (for eg - wet floor, carpet, rug, item on floor) , environmental hazards (for eg - uneven roads, things on floor, etc).\n",
    "\n",
    "- Behavioral Factors like risky behaviors, alcohol use with medication, bladder or bowel conditions.\n",
    "\n",
    "- Physical Factors like Lower body weakness, reduced strength (knee, hip, ankle, grip), pain/arthritis (hip, knee), \\\n",
    "sensory impairments (visual acuity, depth perception, lower extremity sensory function), gait and balance issues.\n",
    "\n",
    "### Narrative Text\n",
    "{text}\n",
    "\n",
    "Based on the narrative text above, can you choose the most appropriate reason of fall from the above options ? Format the output in the form of a json as\n",
    "{<reason> : <explanation>}\n",
    "\n",
    "Output only the json text.\"\"\"\n",
    "\n",
    "system_message = \"\"\"You are a bot designed to identify the most appropriate reason of fall based on the Narrative Text.\"\"\""
   ]
  },
  {
   "cell_type": "markdown",
   "id": "d09462d0",
   "metadata": {},
   "source": [
    "### Defining functions to call the Chat Completion API"
   ]
  },
  {
   "cell_type": "code",
   "execution_count": 102,
   "id": "03f86049",
   "metadata": {},
   "outputs": [],
   "source": [
    "def get_completion_from_messages(messages, model=\"gpt-3.5-turbo\", temperature=0):\n",
    "\n",
    "    response = openai.ChatCompletion.create(\n",
    "        model=model,\n",
    "        messages=messages,\n",
    "        temperature=temperature, # this is the degree of randomness of the model's output\n",
    "    )\n",
    "    return response.choices[0].message[\"content\"]"
   ]
  },
  {
   "cell_type": "code",
   "execution_count": 103,
   "id": "44ec1f96",
   "metadata": {},
   "outputs": [],
   "source": [
    "def get_message(user_message, system_message):\n",
    "    messages =  [\n",
    "        {'role':'system', 'content': system_message},\n",
    "        {'role':'user', 'content':user_message}]\n",
    "    return messages"
   ]
  },
  {
   "cell_type": "markdown",
   "id": "f9f306c5",
   "metadata": {},
   "source": [
    "### Getting predictions from OpenAI ChatGPT for representative data (10k)"
   ]
  },
  {
   "cell_type": "code",
   "execution_count": 105,
   "id": "c96036be",
   "metadata": {},
   "outputs": [],
   "source": [
    "json_extraction_pattern = r'\\{[^{}]*\\}'\n",
    "reason_results=[]\n",
    "explanation_results = []\n",
    "\n",
    "for i in range(data.shape[0]):\n",
    "    try:\n",
    "        narrative = data.cleaned_narrative.values[i]\n",
    "        user_message = user_prompt.replace('{text}', narrative)\n",
    "        response = get_completion_from_messages(get_message(user_message, system_message))\n",
    "\n",
    "        response_json = re.findall(json_extraction_pattern, response)[0]\n",
    "\n",
    "        response_dict = json.loads(response_json)\n",
    "        reason_of_fall = list(response_dict.keys())[0]\n",
    "        explanation = list(response_dict.values())[0]\n",
    "\n",
    "        reason_results.append(reason_of_fall)\n",
    "        explanation_results.append(explanation)\n",
    "\n",
    "    except Exception as e:\n",
    "        print(f\"Error {e} occurred at count = {i}\")\n",
    "        print(f\"Narrative Text is \\n{narrative}\")\n",
    "        reason_results.append(\"NA\")\n",
    "        explanation_results.append(\"NA\")\n",
    "        \n",
    "    time.sleep(20)\n",
    "\n",
    "temp_data=data[['cpsc_case_number']].copy()\n",
    "temp_data['reason_of_fall'] = reason_results\n",
    "# temp_data['reason_explanation'] = explanation_results\n",
    "temp_data.to_csv('../data/reason_of_fall_data_10k.csv',index=False)"
   ]
  },
  {
   "cell_type": "markdown",
   "id": "7eb0bfe2",
   "metadata": {},
   "source": [
    "## Creating golden/training dataset for Action before Fall - using OpenAI ChatGPT"
   ]
  },
  {
   "cell_type": "markdown",
   "id": "29e7e919",
   "metadata": {},
   "source": [
    "### Defining the User & System Prompts for Turbo 3.5 model"
   ]
  },
  {
   "cell_type": "code",
   "execution_count": 106,
   "id": "261cc3aa",
   "metadata": {},
   "outputs": [],
   "source": [
    "user_prompt = \"\"\"Below are different activities which elderly people tend to perform leading to their fall -\n",
    "\n",
    "Assisted Mobility Activities : Activities that involve the use of different mobility aids or assistance such as using a \\\n",
    "walker, wheelchair , etc.\n",
    "\n",
    "Walking and Gait Activities : Activities that involve walking, running and maintaining an upright posture.\n",
    "\n",
    "Stair Mobility Activities : Activities that involve climbing or descending the stairs/steps.\n",
    "\n",
    "Bathroom Activities : Activities that involve bathroom or using the washroom/toilet facilities.\n",
    "\n",
    "Bedroom Activities : Activities that involve bed or are associated with the bedroom.\n",
    "\n",
    "Household Activities : Activities that involve household, household chores or that took place inside the home.\n",
    "\n",
    "Outdoor Activities : Activities that involve anything happening outside the house or outdoors.\n",
    "\n",
    "Special Leisure Activities : Activities that involve unusual events and recreational/leisure activities.\n",
    "\n",
    "Other Miscellaneous Activities : Activities that do not fall under any of the above categories.\n",
    "\n",
    "Unknown Activities : If no activity can be identified from the narrative text.\n",
    "\n",
    "### Narrative Text\n",
    "{text}\n",
    "\n",
    "\n",
    "Based on the narrative text given above, can you choose one of the activities the person was performing just before the \\\n",
    "fall. Respond in the form of a json as \n",
    "\n",
    "{<Activity before fall> : <explanation>}\n",
    "\n",
    "Output only the json text.\"\"\"\n",
    "\n",
    "system_message = \"\"\"You are an expert in identifying and classifying the action performed by the person just before the fall based on the Narrative Text given\"\"\""
   ]
  },
  {
   "cell_type": "markdown",
   "id": "66e59baf",
   "metadata": {},
   "source": [
    "### Getting predictions from OpenAI ChatGPT for representative data (10k)"
   ]
  },
  {
   "cell_type": "code",
   "execution_count": 107,
   "id": "7a0aab95",
   "metadata": {},
   "outputs": [],
   "source": [
    "json_extraction_pattern = r'\\{[^{}]*\\}'\n",
    "action_before_fall_results=[]\n",
    "explanation_results = []\n",
    "\n",
    "for i in range(data.shape[0]):\n",
    "    try:\n",
    "        narrative = data.cleaned_narrative.values[i]\n",
    "        user_message = user_prompt.replace('{text}', narrative)\n",
    "        response = get_completion_from_messages(get_message(user_message, system_message))\n",
    "\n",
    "        response_json = re.findall(json_extraction_pattern, response)[0]\n",
    "\n",
    "        response_dict = json.loads(response_json)\n",
    "        action_before_fall = list(response_dict.keys())[0]\n",
    "        explanation = list(response_dict.values())[0]\n",
    "\n",
    "        action_before_fall_results.append(action_before_fall)\n",
    "        explanation_results.append(explanation)\n",
    "\n",
    "    except Exception as e:\n",
    "        print(f\"Error {e} occurred at count = {i}\")\n",
    "        print(f\"Narrative Text is \\n{narrative}\")\n",
    "        action_before_fall_results.append(\"NA\")\n",
    "        explanation_results.append(\"NA\")\n",
    "        \n",
    "    time.sleep(20)\n",
    "\n",
    "temp_data=data[['cpsc_case_number']].copy()\n",
    "temp_data['action_before_fall'] = action_before_fall_results\n",
    "# temp_data['action_before_fall_explanation'] = explanation_results\n",
    "temp_data.to_csv('../data/action_before_fall_data_10k.csv',index=False)"
   ]
  },
  {
   "cell_type": "markdown",
   "id": "225be9ec",
   "metadata": {},
   "source": [
    "## Building a Classifier - Training DistilBERT on Golden Data"
   ]
  },
  {
   "cell_type": "markdown",
   "id": "8ae8cb45",
   "metadata": {},
   "source": [
    "### Installing & Loading DistilBERT"
   ]
  },
  {
   "cell_type": "code",
   "execution_count": 109,
   "id": "6fd550cc",
   "metadata": {},
   "outputs": [],
   "source": [
    "!pip install transformers[torch]"
   ]
  },
  {
   "cell_type": "code",
   "execution_count": 111,
   "id": "e32b7768",
   "metadata": {},
   "outputs": [],
   "source": [
    "from transformers import AutoTokenizer\n",
    "tokenizer = AutoTokenizer.from_pretrained(\"distilbert-base-uncased\")"
   ]
  },
  {
   "cell_type": "code",
   "execution_count": 112,
   "id": "f5885f54",
   "metadata": {},
   "outputs": [],
   "source": [
    "from sklearn.model_selection import train_test_split"
   ]
  },
  {
   "cell_type": "markdown",
   "id": "3a0f0e2c",
   "metadata": {},
   "source": [
    "### Creating a Classifier for Severity\n",
    "\n",
    "- Loading the severity training data"
   ]
  },
  {
   "cell_type": "code",
   "execution_count": 113,
   "id": "bc02a976",
   "metadata": {},
   "outputs": [],
   "source": [
    "train_data = pd.read_csv('../data/severity_data_10k.csv')"
   ]
  },
  {
   "cell_type": "code",
   "execution_count": 114,
   "id": "1fbf01f2",
   "metadata": {},
   "outputs": [],
   "source": [
    "sample_data_10k = pd.read_csv('../data/sample_data_10k.csv')\n",
    "train_data = sample_data_10k.merge(train_data, on='cpsc_case_number', how='left')"
   ]
  },
  {
   "cell_type": "code",
   "execution_count": 115,
   "id": "49434608",
   "metadata": {},
   "outputs": [],
   "source": [
    "train_data = train_data[['cleaned_narrative', 'severity_of_fall']]\n",
    "train_data.columns=['text','label']\n"
   ]
  },
  {
   "cell_type": "markdown",
   "id": "98e9eaec",
   "metadata": {},
   "source": [
    "#### Label Encoding"
   ]
  },
  {
   "cell_type": "code",
   "execution_count": 128,
   "id": "1f76a8ef-d750-4dc5-a577-f9abadeab806",
   "metadata": {},
   "outputs": [
    {
     "data": {
      "text/plain": [
       "1"
      ]
     },
     "execution_count": 128,
     "metadata": {},
     "output_type": "execute_result"
    }
   ],
   "source": [
    "train_data.label.isnull().sum()"
   ]
  },
  {
   "cell_type": "code",
   "execution_count": 129,
   "id": "e3863d7d-8c9d-4aab-ac7a-298097e42c2d",
   "metadata": {},
   "outputs": [],
   "source": [
    "train_data = train_data[train_data.label.notnull()]"
   ]
  },
  {
   "cell_type": "code",
   "execution_count": 130,
   "id": "1bbc92e7",
   "metadata": {},
   "outputs": [],
   "source": [
    "label2id = dict(zip(sorted(train_data.label.unique()), range(len(train_data.label.unique()))))\n",
    "id2label = {v:k for k,v in label2id.items()}"
   ]
  },
  {
   "cell_type": "code",
   "execution_count": 131,
   "id": "f86c9250",
   "metadata": {},
   "outputs": [],
   "source": [
    "train_data['label']=train_data['label'].apply(lambda x:label2id[x])"
   ]
  },
  {
   "cell_type": "code",
   "execution_count": 132,
   "id": "ysQOYG3V2mBd",
   "metadata": {
    "colab": {
     "base_uri": "https://localhost:8080/",
     "height": 206
    },
    "id": "ysQOYG3V2mBd",
    "outputId": "641fdeb5-27ab-442d-f967-d9356986c749"
   },
   "outputs": [
    {
     "data": {
      "text/html": [
       "<div>\n",
       "<style scoped>\n",
       "    .dataframe tbody tr th:only-of-type {\n",
       "        vertical-align: middle;\n",
       "    }\n",
       "\n",
       "    .dataframe tbody tr th {\n",
       "        vertical-align: top;\n",
       "    }\n",
       "\n",
       "    .dataframe thead th {\n",
       "        text-align: right;\n",
       "    }\n",
       "</style>\n",
       "<table border=\"1\" class=\"dataframe\">\n",
       "  <thead>\n",
       "    <tr style=\"text-align: right;\">\n",
       "      <th></th>\n",
       "      <th>text</th>\n",
       "      <th>label</th>\n",
       "    </tr>\n",
       "  </thead>\n",
       "  <tbody>\n",
       "    <tr>\n",
       "      <th>0</th>\n",
       "      <td>88 years old female patient fell on floor. complains of laceration to head. clinical diagnosis: acute left ankle pain, fall</td>\n",
       "      <td>3</td>\n",
       "    </tr>\n",
       "    <tr>\n",
       "      <th>1</th>\n",
       "      <td>78 years old female patient fell to the floor at the dentists office onto head. clinical diagnosis: closed head injury</td>\n",
       "      <td>4</td>\n",
       "    </tr>\n",
       "    <tr>\n",
       "      <th>2</th>\n",
       "      <td>77 years old female patient was walking with a walker and fell to the bathroom floor onto right hip. clinical diagnosis: hip fracture</td>\n",
       "      <td>3</td>\n",
       "    </tr>\n",
       "    <tr>\n",
       "      <th>3</th>\n",
       "      <td>77 years old female patient patient rolled out of bed and fell to the floor and hit head. clinical diagnosis: head contusion, right anterior shin laceration.</td>\n",
       "      <td>3</td>\n",
       "    </tr>\n",
       "    <tr>\n",
       "      <th>4</th>\n",
       "      <td>65 years old female patient presents after she was at home and tripped over a table and fell on her side and injured her wrist, lower ribs, and right ankle. clinical diagnosis: trauma to right ankle, right lower chest, and left thigh</td>\n",
       "      <td>1</td>\n",
       "    </tr>\n",
       "  </tbody>\n",
       "</table>\n",
       "</div>"
      ],
      "text/plain": [
       "                                                                                                                                                                                                                                        text  \\\n",
       "0                                                                                                                88 years old female patient fell on floor. complains of laceration to head. clinical diagnosis: acute left ankle pain, fall   \n",
       "1                                                                                                                     78 years old female patient fell to the floor at the dentists office onto head. clinical diagnosis: closed head injury   \n",
       "2                                                                                                      77 years old female patient was walking with a walker and fell to the bathroom floor onto right hip. clinical diagnosis: hip fracture   \n",
       "3                                                                              77 years old female patient patient rolled out of bed and fell to the floor and hit head. clinical diagnosis: head contusion, right anterior shin laceration.   \n",
       "4  65 years old female patient presents after she was at home and tripped over a table and fell on her side and injured her wrist, lower ribs, and right ankle. clinical diagnosis: trauma to right ankle, right lower chest, and left thigh   \n",
       "\n",
       "   label  \n",
       "0      3  \n",
       "1      4  \n",
       "2      3  \n",
       "3      3  \n",
       "4      1  "
      ]
     },
     "execution_count": 132,
     "metadata": {},
     "output_type": "execute_result"
    }
   ],
   "source": [
    "train_data.head()"
   ]
  },
  {
   "cell_type": "code",
   "execution_count": 133,
   "id": "0c8bbf26",
   "metadata": {},
   "outputs": [],
   "source": [
    "X = train_data.drop('label', axis = 1)\n",
    "y = train_data['label']"
   ]
  },
  {
   "cell_type": "markdown",
   "id": "461018ab",
   "metadata": {},
   "source": [
    "#### Train-Test Split"
   ]
  },
  {
   "cell_type": "code",
   "execution_count": 134,
   "id": "58301302",
   "metadata": {},
   "outputs": [],
   "source": [
    "X_train, X_test, y_train, y_test = train_test_split(X, y, test_size=0.1, stratify = y)"
   ]
  },
  {
   "cell_type": "code",
   "execution_count": 135,
   "id": "24d97b58",
   "metadata": {},
   "outputs": [],
   "source": [
    "X_train['label'] = y_train\n",
    "X_test['label'] = y_test"
   ]
  },
  {
   "cell_type": "code",
   "execution_count": 136,
   "id": "e88de83e",
   "metadata": {},
   "outputs": [],
   "source": [
    "X_train.to_csv('../data/Bert_train.csv', index=False)\n",
    "X_test.to_csv('../data/Bert_test.csv', index=False)"
   ]
  },
  {
   "cell_type": "code",
   "execution_count": 137,
   "id": "b23fdbac",
   "metadata": {},
   "outputs": [],
   "source": [
    "from datasets import load_dataset"
   ]
  },
  {
   "cell_type": "code",
   "execution_count": 138,
   "id": "9e40cde6-c7ae-4ba5-9ad3-5c390bbe425a",
   "metadata": {
    "colab": {
     "base_uri": "https://localhost:8080/",
     "height": 145,
     "referenced_widgets": [
      "16372513c9b24245a70a02c36a69a26d",
      "77c4ea1fb2e84e8aa057f55c695b8e79",
      "6830935b86ac4a9f813c2f2cf1e2c2f4",
      "e56597ab204840aeab22ec1abc5d9e88",
      "e15c09009fac4937a3badc8ff6592f9f",
      "d46d27c0a5424f51a0d5a8dbbf69e73a",
      "ec28158cc83947b79b155eeb4626419c",
      "89d22d3df4c14a548bb6abe4b74dbd1f",
      "7b9b6258028841928ede7a476cfc1a78",
      "a7d51c6a2f284bdc92941094349670ae",
      "292a66d44b1347389d294033d5ff3125",
      "64e8cd4e9d27454aafe22fbe55ea8982",
      "5a7d5ba9c2014ed08d34e96c5f5c3b14",
      "707caa0840c84bf28fcb3cd95721a468",
      "cf494d8e1be541aa8d1a58b7388073ba",
      "d73001e247fb459dba4374c0b3bf0e62",
      "2f0cff8e9b2a453494fe4cb52660e80e",
      "36cf843842cb47c0b182f90b9a57bdbc",
      "5b186a3f30764edbaf4b6bede7858365",
      "a5a67272ecef4bc994438727bb81fedd",
      "18e492ae5841466cafb02d9e6f70120f",
      "6981cd7c07fd403fa841b41922c0cf9e",
      "175524e3494f432f810cc236139a0112",
      "045f263ccb7245719e5ccee3ece09637",
      "d57c33dca7cc4fe3b5ef8eb39567ad00",
      "575ab069c76d4f8fa079ba64d68c55f0",
      "9c23b5bb563442a09eb755edb592746b",
      "99956727f95c4bd68000e5cec322752d",
      "d4705b610a2e47f292abd4f8b03b3b59",
      "d6f8d787e7184d67a6c57e67b2ddad2a",
      "5babee122bf749b78e07d68a47545477",
      "bbde83068629424782158d5e6de5fe55",
      "7e32fa33a6de4939b2f4b541c91dcafa",
      "7fb977ce482d49aca6ee67b26b15f9b0",
      "3a4ae49ba3c34c0bbbe980e904e48b69",
      "69cde095ffa24f7996a03cce1aa5d651",
      "623ca8b3faa4495fa5b33c298b42d41d",
      "91339befe17a42be84e1cb824e8b8f23",
      "19ac7115d17a4c20b814a6e2e0d84e2c",
      "608741d4cb0e4805bc40198028791179",
      "a2129b7777b04e349697718a0dbf7f14",
      "36a1826608764b598a86e5983ca70724",
      "b98f0f4f0a1f43ffb918e11b655beed3",
      "8b319e2a04b14ad7b0ecb1e8cbf599c8"
     ]
    },
    "id": "9e40cde6-c7ae-4ba5-9ad3-5c390bbe425a",
    "outputId": "8cc0957b-e3f0-42a9-8e35-8e1f98b5383d"
   },
   "outputs": [
    {
     "data": {
      "application/vnd.jupyter.widget-view+json": {
       "model_id": "5cebee9e6e4a49919e0f3da625c5b0b0",
       "version_major": 2,
       "version_minor": 0
      },
      "text/plain": [
       "Downloading data files:   0%|          | 0/2 [00:00<?, ?it/s]"
      ]
     },
     "metadata": {},
     "output_type": "display_data"
    },
    {
     "data": {
      "application/vnd.jupyter.widget-view+json": {
       "model_id": "86ee13df799e4798ad72a25e7a692bae",
       "version_major": 2,
       "version_minor": 0
      },
      "text/plain": [
       "Extracting data files:   0%|          | 0/2 [00:00<?, ?it/s]"
      ]
     },
     "metadata": {},
     "output_type": "display_data"
    },
    {
     "data": {
      "application/vnd.jupyter.widget-view+json": {
       "model_id": "4b2e2da2e9fc4332b2a82d29c681f5ef",
       "version_major": 2,
       "version_minor": 0
      },
      "text/plain": [
       "Generating train split: 0 examples [00:00, ? examples/s]"
      ]
     },
     "metadata": {},
     "output_type": "display_data"
    },
    {
     "data": {
      "application/vnd.jupyter.widget-view+json": {
       "model_id": "6c0f8be638d041babddecd63fb43cd21",
       "version_major": 2,
       "version_minor": 0
      },
      "text/plain": [
       "Generating test split: 0 examples [00:00, ? examples/s]"
      ]
     },
     "metadata": {},
     "output_type": "display_data"
    }
   ],
   "source": [
    "dataset = load_dataset('csv', data_files={'train': '../data/Bert_train.csv',\n",
    "                                          'test': '../data/Bert_test.csv'})"
   ]
  },
  {
   "cell_type": "code",
   "execution_count": 139,
   "id": "a6fc5ff0-07a8-4266-a09a-6c44bff4af52",
   "metadata": {
    "colab": {
     "base_uri": "https://localhost:8080/"
    },
    "id": "a6fc5ff0-07a8-4266-a09a-6c44bff4af52",
    "outputId": "26b76bbc-dab1-4e54-f0ea-c6aea3ec6702"
   },
   "outputs": [
    {
     "data": {
      "text/plain": [
       "DatasetDict({\n",
       "    train: Dataset({\n",
       "        features: ['text', 'label'],\n",
       "        num_rows: 8999\n",
       "    })\n",
       "    test: Dataset({\n",
       "        features: ['text', 'label'],\n",
       "        num_rows: 1000\n",
       "    })\n",
       "})"
      ]
     },
     "execution_count": 139,
     "metadata": {},
     "output_type": "execute_result"
    }
   ],
   "source": [
    "dataset"
   ]
  },
  {
   "cell_type": "markdown",
   "id": "5bec2eb8",
   "metadata": {},
   "source": [
    "#### Preprocess the dataset"
   ]
  },
  {
   "cell_type": "code",
   "execution_count": 140,
   "id": "f281600b",
   "metadata": {},
   "outputs": [],
   "source": [
    "from transformers import DataCollatorWithPadding"
   ]
  },
  {
   "cell_type": "code",
   "execution_count": 141,
   "id": "a6af4c2f",
   "metadata": {},
   "outputs": [
    {
     "data": {
      "application/vnd.jupyter.widget-view+json": {
       "model_id": "a8e0a8ab2714470ab38b80d9cebc0ef6",
       "version_major": 2,
       "version_minor": 0
      },
      "text/plain": [
       "Map:   0%|          | 0/8999 [00:00<?, ? examples/s]"
      ]
     },
     "metadata": {},
     "output_type": "display_data"
    },
    {
     "data": {
      "application/vnd.jupyter.widget-view+json": {
       "model_id": "c3046c4e48984f10b9518fb0d2b69305",
       "version_major": 2,
       "version_minor": 0
      },
      "text/plain": [
       "Map:   0%|          | 0/1000 [00:00<?, ? examples/s]"
      ]
     },
     "metadata": {},
     "output_type": "display_data"
    }
   ],
   "source": [
    "def preprocess_function(examples):\n",
    "    return tokenizer(examples[\"text\"], truncation=True,padding=True)\n",
    "\n",
    "tokenized_data = dataset.map(preprocess_function, batched=True)\n",
    "\n",
    "data_collator = DataCollatorWithPadding(tokenizer=tokenizer)"
   ]
  },
  {
   "cell_type": "markdown",
   "id": "97ececdc",
   "metadata": {},
   "source": [
    "#### Function to compute F1-Score"
   ]
  },
  {
   "cell_type": "code",
   "execution_count": 142,
   "id": "6144eca0",
   "metadata": {},
   "outputs": [],
   "source": [
    "from sklearn.metrics import f1_score\n",
    "\n",
    "def compute_f1(pred):\n",
    "    # Extract predicted labels and true labels from the prediction tuple\n",
    "    predictions, labels = pred.predictions, pred.label_ids\n",
    "\n",
    "    # Calculate F1 score\n",
    "    f1 = f1_score(y_true=labels, y_pred=predictions.argmax(axis=1), average='macro')\n",
    "\n",
    "    return {\"f1\": f1}"
   ]
  },
  {
   "cell_type": "code",
   "execution_count": 143,
   "id": "dQ_Ojdg7yVgZ",
   "metadata": {
    "colab": {
     "base_uri": "https://localhost:8080/"
    },
    "id": "dQ_Ojdg7yVgZ",
    "outputId": "7cdf81fd-be3b-4a1c-9288-ecf576cc50c5"
   },
   "outputs": [
    {
     "data": {
      "text/plain": [
       "DatasetDict({\n",
       "    train: Dataset({\n",
       "        features: ['text', 'label', 'input_ids', 'attention_mask'],\n",
       "        num_rows: 8999\n",
       "    })\n",
       "    test: Dataset({\n",
       "        features: ['text', 'label', 'input_ids', 'attention_mask'],\n",
       "        num_rows: 1000\n",
       "    })\n",
       "})"
      ]
     },
     "execution_count": 143,
     "metadata": {},
     "output_type": "execute_result"
    }
   ],
   "source": [
    "tokenized_data"
   ]
  },
  {
   "cell_type": "markdown",
   "id": "19c747ea",
   "metadata": {},
   "source": [
    "#### Training DistilBERT model for n epochs"
   ]
  },
  {
   "cell_type": "code",
   "execution_count": 145,
   "id": "1239ab17-4782-4b3d-977a-cd34dedd59c8",
   "metadata": {
    "colab": {
     "base_uri": "https://localhost:8080/",
     "height": 493,
     "referenced_widgets": [
      "a6de9477acc742ad8d6510fb49251f3d",
      "cb4db81475c24af1911e66e31d74ea70",
      "ebcdb643209e4aa79b3387e480d42fb6",
      "653302ac63894b6b9036bd3d974383e4",
      "3e36097772824860aaecafdfcb70cb48",
      "969eb60d00d64991a923ab6309cf9de5",
      "cad3232f4c694b149919a3ff19b0c327",
      "ce14885d13994b2985b809ea63d411f8",
      "1bd0384f148b4a73a44ade3bc8344e1d",
      "155eaa6a622a4112ad9aba9ede1ad62f",
      "6e9c028c6e2d43d7a43d3632683f7c8f"
     ]
    },
    "id": "1239ab17-4782-4b3d-977a-cd34dedd59c8",
    "outputId": "1dc2ed63-447b-49db-c81a-567b943b7b7c"
   },
   "outputs": [],
   "source": [
    "from transformers import AutoModelForSequenceClassification, TrainingArguments, Trainer\n",
    "\n",
    "#Number of labels\n",
    "n_labels = len(list(label2id.keys()))\n",
    "\n",
    "model = AutoModelForSequenceClassification.from_pretrained(\"distilbert-base-uncased\", num_labels=n_labels, id2label=id2label, label2id=label2id).to(\"cuda\")\n",
    "\n",
    "training_args = TrainingArguments(\n",
    "    output_dir=\"data/models\",\n",
    "    learning_rate=2e-5,\n",
    "    per_device_train_batch_size=16,\n",
    "    per_device_eval_batch_size=16,\n",
    "    num_train_epochs=50,\n",
    "    weight_decay=0.01,\n",
    "    evaluation_strategy=\"steps\",\n",
    "    eval_steps=2000,\n",
    "    save_strategy=\"steps\",\n",
    "    save_steps=4000,\n",
    "    load_best_model_at_end=True,\n",
    "    push_to_hub=False,\n",
    ")\n",
    "\n",
    "trainer = Trainer(\n",
    "    model=model,\n",
    "    args=training_args,\n",
    "    train_dataset=tokenized_data[\"train\"],\n",
    "    eval_dataset=tokenized_data[\"test\"],\n",
    "    tokenizer=tokenizer,\n",
    "    data_collator=data_collator,\n",
    "    compute_metrics=compute_f1,\n",
    ")\n",
    "\n",
    "trainer.train()"
   ]
  },
  {
   "cell_type": "markdown",
   "id": "502b2f97",
   "metadata": {},
   "source": [
    "#### Loading the last best checkpoint of the model"
   ]
  },
  {
   "cell_type": "code",
   "execution_count": 146,
   "id": "ba4da1f8",
   "metadata": {},
   "outputs": [],
   "source": [
    "from transformers import pipeline\n",
    "\n",
    "classifier = pipeline(\"sentiment-analysis\", model=\"../data/models/checkpoint-20000/\", device=0) #Setting device=0 to enable GPU"
   ]
  },
  {
   "cell_type": "markdown",
   "id": "7307a5da",
   "metadata": {},
   "source": [
    "#### Making predictions on the whole dataset"
   ]
  },
  {
   "cell_type": "code",
   "execution_count": 147,
   "id": "9c18d5f9",
   "metadata": {},
   "outputs": [],
   "source": [
    "predict_data=pd.read_csv('../data/cleaned_narrative_primary_data.csv')\n",
    "\n",
    "predicted_outputs = []\n",
    "# Define the batch size for processing multiple texts at once\n",
    "batch_size = 1000\n",
    "\n",
    "# Iterate over the dataframe in batches\n",
    "for i in range(0, predict_data.shape[0], batch_size):\n",
    "    print(i)\n",
    "    batch_texts = predict_data['cleaned_narrative'].iloc[i:i+batch_size].tolist()\n",
    "\n",
    "    results=classifier(batch_texts)     \n",
    "    results=[i['label'] for i in results]\n",
    "    predicted_outputs.extend(results)   \n",
    "    \n",
    "predict_data['severity']=predicted_outputs\n",
    "predict_data[['cpsc_case_number', 'severity_of_fall']].to_csv('../data/severity_whole_data.csv', index=False)"
   ]
  },
  {
   "cell_type": "markdown",
   "id": "20b6bdb2",
   "metadata": {},
   "source": [
    "- Similar to the classification model trained for severity of fall, we have trained two more classification models namely for classifying the action before fall and reason of fall."
   ]
  },
  {
   "cell_type": "markdown",
   "id": "87e3a30c",
   "metadata": {},
   "source": [
    "## Collating the data and Generating Insights\n",
    "- Deep Exploratory Data Analysis"
   ]
  },
  {
   "cell_type": "markdown",
   "id": "d1235fce",
   "metadata": {},
   "source": [
    "### Reading the data after making predictions"
   ]
  },
  {
   "cell_type": "code",
   "execution_count": 148,
   "id": "c7c5d611",
   "metadata": {},
   "outputs": [],
   "source": [
    "action_before_fall_10k = pd.read_csv(\"../data/action_before_fall_data_10k.csv\")\n",
    "action_before_fall_100k = pd.read_csv(\"../data/action_before_fall_whole_data.csv\")\n",
    "\n",
    "reason_of_fall_10k = pd.read_csv(\"../data/reason_of_fall_data_10k.csv\")\n",
    "reason_of_fall_100k = pd.read_csv(\"../data/reason_of_fall_whole_data.csv\")\n",
    "\n",
    "severity_of_fall_10k = pd.read_csv(\"../data/severity_data_10k.csv\")\n",
    "severity_of_fall_100k = pd.read_csv(\"../data/severity_whole_data.csv\")"
   ]
  },
  {
   "cell_type": "code",
   "execution_count": 149,
   "id": "ccdd8101",
   "metadata": {},
   "outputs": [],
   "source": [
    "falls_valid_category = [\"Assisted Mobility Activities\",\n",
    "\"Walking and Gait Activities\",\n",
    "\"Stair Mobility Activities\",\n",
    "\"Bathroom Activities\",\n",
    "\"Bedroom Activities\",\n",
    "\"Household Activities\",\n",
    "\"Outdoor Activities\",\n",
    "\"Special Leisure Activities\",\n",
    "\"Other Miscellaneous Activities\",\n",
    "\"Unknown Activities\"]\n",
    "\n",
    "severity_valid_category = ['Severe', 'Very Severe', 'Moderate', 'Minor']"
   ]
  },
  {
   "cell_type": "code",
   "execution_count": 150,
   "id": "1a75fcc1",
   "metadata": {},
   "outputs": [
    {
     "data": {
      "text/plain": [
       "(9951, 2)"
      ]
     },
     "execution_count": 150,
     "metadata": {},
     "output_type": "execute_result"
    }
   ],
   "source": [
    "severity_of_fall_10k = severity_of_fall_10k[severity_of_fall_10k['severity_of_fall'].isin(severity_valid_category)]\n",
    "severity_of_fall_10k.shape"
   ]
  },
  {
   "cell_type": "code",
   "execution_count": 151,
   "id": "ba799fb0",
   "metadata": {},
   "outputs": [
    {
     "data": {
      "text/plain": [
       "(9974, 2)"
      ]
     },
     "execution_count": 151,
     "metadata": {},
     "output_type": "execute_result"
    }
   ],
   "source": [
    "action_before_fall_10k = action_before_fall_10k[action_before_fall_10k['action_before_fall'].isin(falls_valid_category)]\n",
    "action_before_fall_10k.shape"
   ]
  },
  {
   "cell_type": "code",
   "execution_count": 152,
   "id": "58a7d91b",
   "metadata": {},
   "outputs": [
    {
     "data": {
      "text/plain": [
       "((9974, 2), (115128, 2))"
      ]
     },
     "execution_count": 152,
     "metadata": {},
     "output_type": "execute_result"
    }
   ],
   "source": [
    "action_before_fall_10k.shape, action_before_fall_100k.shape"
   ]
  },
  {
   "cell_type": "code",
   "execution_count": 153,
   "id": "001b0ed4",
   "metadata": {},
   "outputs": [
    {
     "data": {
      "text/plain": [
       "((10000, 2), (115128, 2))"
      ]
     },
     "execution_count": 153,
     "metadata": {},
     "output_type": "execute_result"
    }
   ],
   "source": [
    "reason_of_fall_10k.shape, reason_of_fall_100k.shape"
   ]
  },
  {
   "cell_type": "code",
   "execution_count": 154,
   "id": "f03d201f",
   "metadata": {},
   "outputs": [
    {
     "data": {
      "text/plain": [
       "((9951, 2), (115128, 2))"
      ]
     },
     "execution_count": 154,
     "metadata": {},
     "output_type": "execute_result"
    }
   ],
   "source": [
    "severity_of_fall_10k.shape, severity_of_fall_100k.shape"
   ]
  },
  {
   "cell_type": "code",
   "execution_count": 155,
   "id": "92b306e8",
   "metadata": {},
   "outputs": [],
   "source": [
    "action_before_fall_final = pd.concat([action_before_fall_10k, action_before_fall_100k[~action_before_fall_100k['cpsc_case_number'].isin(action_before_fall_10k['cpsc_case_number'].unique())]])"
   ]
  },
  {
   "cell_type": "code",
   "execution_count": 156,
   "id": "cc83c5b5",
   "metadata": {},
   "outputs": [],
   "source": [
    "severity_of_fall_final = pd.concat([severity_of_fall_10k, severity_of_fall_100k[~severity_of_fall_100k['cpsc_case_number'].isin(severity_of_fall_10k['cpsc_case_number'].unique())]])"
   ]
  },
  {
   "cell_type": "code",
   "execution_count": 157,
   "id": "73499200",
   "metadata": {},
   "outputs": [],
   "source": [
    "reason_of_fall_final = pd.concat([reason_of_fall_10k, reason_of_fall_100k[~reason_of_fall_100k['cpsc_case_number'].isin(reason_of_fall_10k['cpsc_case_number'].unique())]])"
   ]
  },
  {
   "cell_type": "code",
   "execution_count": 158,
   "id": "a7798ee7",
   "metadata": {},
   "outputs": [],
   "source": [
    "action_reason = pd.merge(action_before_fall_final, reason_of_fall_final, on='cpsc_case_number', how='left')"
   ]
  },
  {
   "cell_type": "code",
   "execution_count": 159,
   "id": "41f329eb",
   "metadata": {},
   "outputs": [],
   "source": [
    "action_reason_severity = pd.merge(action_reason, severity_of_fall_final, on='cpsc_case_number', how='left')"
   ]
  },
  {
   "cell_type": "code",
   "execution_count": 163,
   "id": "62d40966",
   "metadata": {},
   "outputs": [],
   "source": [
    "final_data = pd.merge(primary_data, action_reason_severity, on='cpsc_case_number', how='left')"
   ]
  },
  {
   "cell_type": "code",
   "execution_count": 164,
   "id": "8bf45462",
   "metadata": {},
   "outputs": [
    {
     "data": {
      "text/html": [
       "<div>\n",
       "<style scoped>\n",
       "    .dataframe tbody tr th:only-of-type {\n",
       "        vertical-align: middle;\n",
       "    }\n",
       "\n",
       "    .dataframe tbody tr th {\n",
       "        vertical-align: top;\n",
       "    }\n",
       "\n",
       "    .dataframe thead th {\n",
       "        text-align: right;\n",
       "    }\n",
       "</style>\n",
       "<table border=\"1\" class=\"dataframe\">\n",
       "  <thead>\n",
       "    <tr style=\"text-align: right;\">\n",
       "      <th></th>\n",
       "      <th>narrative</th>\n",
       "      <th>treatment_date</th>\n",
       "      <th>sex</th>\n",
       "      <th>race</th>\n",
       "      <th>other_race</th>\n",
       "      <th>hispanic</th>\n",
       "      <th>diagnosis</th>\n",
       "      <th>other_diagnosis</th>\n",
       "      <th>diagnosis_2</th>\n",
       "      <th>other_diagnosis_2</th>\n",
       "      <th>body_part</th>\n",
       "      <th>body_part_2</th>\n",
       "      <th>disposition</th>\n",
       "      <th>location</th>\n",
       "      <th>fire_involvement</th>\n",
       "      <th>alcohol</th>\n",
       "      <th>drug</th>\n",
       "      <th>product_1</th>\n",
       "      <th>product_2</th>\n",
       "      <th>product_3</th>\n",
       "      <th>cpsc_case_number</th>\n",
       "      <th>age</th>\n",
       "      <th>body_part_modified</th>\n",
       "      <th>diagnosis_modified</th>\n",
       "      <th>body_part_2_modified</th>\n",
       "      <th>diagnosis_2_modified</th>\n",
       "      <th>cleaned_narrative</th>\n",
       "      <th>action_before_fall</th>\n",
       "      <th>reason_of_fall</th>\n",
       "      <th>severity_of_fall</th>\n",
       "    </tr>\n",
       "  </thead>\n",
       "  <tbody>\n",
       "    <tr>\n",
       "      <th>0</th>\n",
       "      <td>94YOM FELL TO THE FLOOR AT THE NURSING HOME ONTO BACK OF HEAD SUSTAINED A SUBDURAL HEMATOMA</td>\n",
       "      <td>2019-01-01</td>\n",
       "      <td>MALE</td>\n",
       "      <td>N.S.</td>\n",
       "      <td>NaN</td>\n",
       "      <td>Unk/Not stated</td>\n",
       "      <td>INTERNAL INJURY</td>\n",
       "      <td>NaN</td>\n",
       "      <td>NaN</td>\n",
       "      <td>NaN</td>\n",
       "      <td>HEAD</td>\n",
       "      <td>NaN</td>\n",
       "      <td>TREATED AND ADMITTED/HOSPITALIZED</td>\n",
       "      <td>PUBLIC</td>\n",
       "      <td>NO/?</td>\n",
       "      <td>No/Unk</td>\n",
       "      <td>No/Unk</td>\n",
       "      <td>FLOORS OR FLOORING MATERIALS</td>\n",
       "      <td>NaN</td>\n",
       "      <td>NaN</td>\n",
       "      <td>190103269</td>\n",
       "      <td>94</td>\n",
       "      <td>HEAD</td>\n",
       "      <td>INTERNAL INJURY</td>\n",
       "      <td>Other</td>\n",
       "      <td>Other</td>\n",
       "      <td>94 years old male patient fell to the floor at the nursing home onto back of head sustained a subdural hematoma</td>\n",
       "      <td>Unknown Activities</td>\n",
       "      <td>Medical and Health Factors</td>\n",
       "      <td>Very Severe</td>\n",
       "    </tr>\n",
       "    <tr>\n",
       "      <th>1</th>\n",
       "      <td>86YOM FELL IN THE SHOWER AT HOME AND SUSTAINED A CLOSED HEAD INJURY</td>\n",
       "      <td>2019-01-01</td>\n",
       "      <td>MALE</td>\n",
       "      <td>N.S.</td>\n",
       "      <td>NaN</td>\n",
       "      <td>Unk/Not stated</td>\n",
       "      <td>INTERNAL INJURY</td>\n",
       "      <td>NaN</td>\n",
       "      <td>NaN</td>\n",
       "      <td>NaN</td>\n",
       "      <td>HEAD</td>\n",
       "      <td>NaN</td>\n",
       "      <td>TREATED AND ADMITTED/HOSPITALIZED</td>\n",
       "      <td>HOME</td>\n",
       "      <td>NO/?</td>\n",
       "      <td>No/Unk</td>\n",
       "      <td>No/Unk</td>\n",
       "      <td>BATHTUBS OR SHOWERS</td>\n",
       "      <td>NaN</td>\n",
       "      <td>NaN</td>\n",
       "      <td>190103270</td>\n",
       "      <td>86</td>\n",
       "      <td>HEAD</td>\n",
       "      <td>INTERNAL INJURY</td>\n",
       "      <td>Other</td>\n",
       "      <td>Other</td>\n",
       "      <td>86 years old male patient fell in the shower at home and sustained a closed head injury</td>\n",
       "      <td>Bathroom Activities</td>\n",
       "      <td>Medical and Health Factors</td>\n",
       "      <td>Severe</td>\n",
       "    </tr>\n",
       "    <tr>\n",
       "      <th>2</th>\n",
       "      <td>87YOF WAS GETTING UP FROM THE COUCH AND FELL TO THE FLOOR SUSTAINED ABRASIONS TO ELBOWS ADMITTED FOR HEMORRHAGIC STROKE</td>\n",
       "      <td>2019-01-01</td>\n",
       "      <td>FEMALE</td>\n",
       "      <td>N.S.</td>\n",
       "      <td>NaN</td>\n",
       "      <td>Unk/Not stated</td>\n",
       "      <td>CONTUSIONS, ABR.</td>\n",
       "      <td>NaN</td>\n",
       "      <td>NaN</td>\n",
       "      <td>NaN</td>\n",
       "      <td>ELBOW</td>\n",
       "      <td>NaN</td>\n",
       "      <td>TREATED AND ADMITTED/HOSPITALIZED</td>\n",
       "      <td>HOME</td>\n",
       "      <td>NO/?</td>\n",
       "      <td>No/Unk</td>\n",
       "      <td>No/Unk</td>\n",
       "      <td>SOFAS, COUCHES, DAVENPORTS, DIVANS OR STUDIO COUCHES</td>\n",
       "      <td>FLOORS OR FLOORING MATERIALS</td>\n",
       "      <td>NaN</td>\n",
       "      <td>190103273</td>\n",
       "      <td>87</td>\n",
       "      <td>ELBOW</td>\n",
       "      <td>CONTUSIONS, ABR.</td>\n",
       "      <td>Other</td>\n",
       "      <td>Other</td>\n",
       "      <td>87 years old female patient was getting up from the couch and fell to the floor sustained abrasions to elbows admitted for hemorrhagic stroke</td>\n",
       "      <td>Unknown Activities</td>\n",
       "      <td>Medical and Health Factors</td>\n",
       "      <td>Severe</td>\n",
       "    </tr>\n",
       "    <tr>\n",
       "      <th>3</th>\n",
       "      <td>67YOF WAS AT A FRIENDS HOUSE AND SLIPPED ON WATER THAT WAS ON THE FLOOR AND SUSTAINED A RIGHT RADIUS FX</td>\n",
       "      <td>2019-01-01</td>\n",
       "      <td>FEMALE</td>\n",
       "      <td>N.S.</td>\n",
       "      <td>NaN</td>\n",
       "      <td>Unk/Not stated</td>\n",
       "      <td>FRACTURE</td>\n",
       "      <td>NaN</td>\n",
       "      <td>NaN</td>\n",
       "      <td>NaN</td>\n",
       "      <td>LOWER ARM</td>\n",
       "      <td>NaN</td>\n",
       "      <td>TREATED/EXAMINED AND RELEASED</td>\n",
       "      <td>HOME</td>\n",
       "      <td>NO/?</td>\n",
       "      <td>No/Unk</td>\n",
       "      <td>No/Unk</td>\n",
       "      <td>FLOORS OR FLOORING MATERIALS</td>\n",
       "      <td>NaN</td>\n",
       "      <td>NaN</td>\n",
       "      <td>190103291</td>\n",
       "      <td>67</td>\n",
       "      <td>LOWER ARM</td>\n",
       "      <td>FRACTURE</td>\n",
       "      <td>Other</td>\n",
       "      <td>Other</td>\n",
       "      <td>67 years old female patient was at a friends house and slipped on water that was on the floor and sustained a right radius fracture</td>\n",
       "      <td>Unknown Activities</td>\n",
       "      <td>Environmental Factors</td>\n",
       "      <td>Severe</td>\n",
       "    </tr>\n",
       "    <tr>\n",
       "      <th>4</th>\n",
       "      <td>70YOF WAS STANDING ON A STEP STOOL AND FELL OFF SUSTAINED A RIGHT RADIUS FX</td>\n",
       "      <td>2019-01-01</td>\n",
       "      <td>FEMALE</td>\n",
       "      <td>N.S.</td>\n",
       "      <td>NaN</td>\n",
       "      <td>Unk/Not stated</td>\n",
       "      <td>FRACTURE</td>\n",
       "      <td>NaN</td>\n",
       "      <td>NaN</td>\n",
       "      <td>NaN</td>\n",
       "      <td>LOWER ARM</td>\n",
       "      <td>NaN</td>\n",
       "      <td>TREATED/EXAMINED AND RELEASED</td>\n",
       "      <td>HOME</td>\n",
       "      <td>NO/?</td>\n",
       "      <td>No/Unk</td>\n",
       "      <td>No/Unk</td>\n",
       "      <td>STEP STOOLS</td>\n",
       "      <td>NaN</td>\n",
       "      <td>NaN</td>\n",
       "      <td>190103294</td>\n",
       "      <td>70</td>\n",
       "      <td>LOWER ARM</td>\n",
       "      <td>FRACTURE</td>\n",
       "      <td>Other</td>\n",
       "      <td>Other</td>\n",
       "      <td>70 years old female patient was standing on a step stool and fell off sustained a right radius fracture</td>\n",
       "      <td>Stair Mobility Activities</td>\n",
       "      <td>Physical Factors</td>\n",
       "      <td>Severe</td>\n",
       "    </tr>\n",
       "    <tr>\n",
       "      <th>5</th>\n",
       "      <td>79YOM WAS STANDING ON A FOLDING LAWN CHAIR AND FELL OFF TO THE GROUND ONTO HEAD SUSTAINED A CONCUSSION</td>\n",
       "      <td>2019-01-01</td>\n",
       "      <td>MALE</td>\n",
       "      <td>N.S.</td>\n",
       "      <td>NaN</td>\n",
       "      <td>Unk/Not stated</td>\n",
       "      <td>CONCUSSION</td>\n",
       "      <td>NaN</td>\n",
       "      <td>NaN</td>\n",
       "      <td>NaN</td>\n",
       "      <td>HEAD</td>\n",
       "      <td>NaN</td>\n",
       "      <td>TREATED/EXAMINED AND RELEASED</td>\n",
       "      <td>HOME</td>\n",
       "      <td>NO/?</td>\n",
       "      <td>No/Unk</td>\n",
       "      <td>No/Unk</td>\n",
       "      <td>BEACH CHAIRS OR FOLDING CHAIRS</td>\n",
       "      <td>NaN</td>\n",
       "      <td>NaN</td>\n",
       "      <td>190103298</td>\n",
       "      <td>79</td>\n",
       "      <td>HEAD</td>\n",
       "      <td>CONCUSSION</td>\n",
       "      <td>Other</td>\n",
       "      <td>Other</td>\n",
       "      <td>79 years old male patient was standing on a folding lawn chair and fell off to the ground onto head sustained a concussion</td>\n",
       "      <td>Outdoor Activities</td>\n",
       "      <td>Physical Factors</td>\n",
       "      <td>Severe</td>\n",
       "    </tr>\n",
       "    <tr>\n",
       "      <th>6</th>\n",
       "      <td>74YOM FELL INTO A PLANTER BOX AND SUSTAINED A CLAVICLE FX</td>\n",
       "      <td>2019-01-01</td>\n",
       "      <td>MALE</td>\n",
       "      <td>N.S.</td>\n",
       "      <td>NaN</td>\n",
       "      <td>Unk/Not stated</td>\n",
       "      <td>FRACTURE</td>\n",
       "      <td>NaN</td>\n",
       "      <td>NaN</td>\n",
       "      <td>NaN</td>\n",
       "      <td>SHOULDER</td>\n",
       "      <td>NaN</td>\n",
       "      <td>TREATED/EXAMINED AND RELEASED</td>\n",
       "      <td>HOME</td>\n",
       "      <td>NO/?</td>\n",
       "      <td>No/Unk</td>\n",
       "      <td>No/Unk</td>\n",
       "      <td>GREENHOUSE OR GARDENING SUPPLIES</td>\n",
       "      <td>NaN</td>\n",
       "      <td>NaN</td>\n",
       "      <td>190103309</td>\n",
       "      <td>74</td>\n",
       "      <td>SHOULDER</td>\n",
       "      <td>FRACTURE</td>\n",
       "      <td>Other</td>\n",
       "      <td>Other</td>\n",
       "      <td>74 years old male patient fell into a planter box and sustained a clavicle fracture</td>\n",
       "      <td>Outdoor Activities</td>\n",
       "      <td>Physical Factors</td>\n",
       "      <td>Severe</td>\n",
       "    </tr>\n",
       "    <tr>\n",
       "      <th>7</th>\n",
       "      <td>76YOF HAD A SLIP AND FALL AT HOME STRUCK HEAD ON A WOODEN FLOOR AND SUSTAINED A CLOSED HEAD INJURY</td>\n",
       "      <td>2019-01-01</td>\n",
       "      <td>FEMALE</td>\n",
       "      <td>N.S.</td>\n",
       "      <td>NaN</td>\n",
       "      <td>Unk/Not stated</td>\n",
       "      <td>INTERNAL INJURY</td>\n",
       "      <td>NaN</td>\n",
       "      <td>NaN</td>\n",
       "      <td>NaN</td>\n",
       "      <td>HEAD</td>\n",
       "      <td>NaN</td>\n",
       "      <td>TREATED/EXAMINED AND RELEASED</td>\n",
       "      <td>HOME</td>\n",
       "      <td>NO/?</td>\n",
       "      <td>No/Unk</td>\n",
       "      <td>No/Unk</td>\n",
       "      <td>FLOORS OR FLOORING MATERIALS</td>\n",
       "      <td>NaN</td>\n",
       "      <td>NaN</td>\n",
       "      <td>190103337</td>\n",
       "      <td>76</td>\n",
       "      <td>HEAD</td>\n",
       "      <td>INTERNAL INJURY</td>\n",
       "      <td>Other</td>\n",
       "      <td>Other</td>\n",
       "      <td>76 years old female patient had a slip and fall at home struck head on a wooden floor and sustained a closed head injury</td>\n",
       "      <td>Unknown Activities</td>\n",
       "      <td>Physical Factors</td>\n",
       "      <td>Severe</td>\n",
       "    </tr>\n",
       "    <tr>\n",
       "      <th>8</th>\n",
       "      <td>84YOF FELL WHILE GETTING UP FROM THE COUCH AND LANDED ONTO FACE CONTUSION TO FACE</td>\n",
       "      <td>2019-01-01</td>\n",
       "      <td>FEMALE</td>\n",
       "      <td>N.S.</td>\n",
       "      <td>NaN</td>\n",
       "      <td>Unk/Not stated</td>\n",
       "      <td>CONTUSIONS, ABR.</td>\n",
       "      <td>NaN</td>\n",
       "      <td>NaN</td>\n",
       "      <td>NaN</td>\n",
       "      <td>FACE</td>\n",
       "      <td>NaN</td>\n",
       "      <td>TREATED/EXAMINED AND RELEASED</td>\n",
       "      <td>HOME</td>\n",
       "      <td>NO/?</td>\n",
       "      <td>No/Unk</td>\n",
       "      <td>No/Unk</td>\n",
       "      <td>SOFAS, COUCHES, DAVENPORTS, DIVANS OR STUDIO COUCHES</td>\n",
       "      <td>NaN</td>\n",
       "      <td>NaN</td>\n",
       "      <td>190103340</td>\n",
       "      <td>84</td>\n",
       "      <td>FACE</td>\n",
       "      <td>CONTUSIONS, ABR.</td>\n",
       "      <td>Other</td>\n",
       "      <td>Other</td>\n",
       "      <td>84 years old female patient fell while getting up from the couch and landed onto face contusion to face</td>\n",
       "      <td>Unknown Activities</td>\n",
       "      <td>Physical Factors</td>\n",
       "      <td>Severe</td>\n",
       "    </tr>\n",
       "    <tr>\n",
       "      <th>9</th>\n",
       "      <td>88YOF FELL TO THE FLOOR AT HOME UNRESPONSIVE SUBDURAL HEMATOMA</td>\n",
       "      <td>2019-01-01</td>\n",
       "      <td>FEMALE</td>\n",
       "      <td>N.S.</td>\n",
       "      <td>NaN</td>\n",
       "      <td>Unk/Not stated</td>\n",
       "      <td>INTERNAL INJURY</td>\n",
       "      <td>NaN</td>\n",
       "      <td>NaN</td>\n",
       "      <td>NaN</td>\n",
       "      <td>HEAD</td>\n",
       "      <td>NaN</td>\n",
       "      <td>TREATED AND ADMITTED/HOSPITALIZED</td>\n",
       "      <td>HOME</td>\n",
       "      <td>NO/?</td>\n",
       "      <td>No/Unk</td>\n",
       "      <td>No/Unk</td>\n",
       "      <td>FLOORS OR FLOORING MATERIALS</td>\n",
       "      <td>NaN</td>\n",
       "      <td>NaN</td>\n",
       "      <td>190103341</td>\n",
       "      <td>88</td>\n",
       "      <td>HEAD</td>\n",
       "      <td>INTERNAL INJURY</td>\n",
       "      <td>Other</td>\n",
       "      <td>Other</td>\n",
       "      <td>88 years old female patient fell to the floor at home unresponsive subdural hematoma</td>\n",
       "      <td>Unknown Activities</td>\n",
       "      <td>Medical and Health Factors</td>\n",
       "      <td>Very Severe</td>\n",
       "    </tr>\n",
       "  </tbody>\n",
       "</table>\n",
       "</div>"
      ],
      "text/plain": [
       "                                                                                                                 narrative  \\\n",
       "0                              94YOM FELL TO THE FLOOR AT THE NURSING HOME ONTO BACK OF HEAD SUSTAINED A SUBDURAL HEMATOMA   \n",
       "1                                                      86YOM FELL IN THE SHOWER AT HOME AND SUSTAINED A CLOSED HEAD INJURY   \n",
       "2  87YOF WAS GETTING UP FROM THE COUCH AND FELL TO THE FLOOR SUSTAINED ABRASIONS TO ELBOWS ADMITTED FOR HEMORRHAGIC STROKE   \n",
       "3                  67YOF WAS AT A FRIENDS HOUSE AND SLIPPED ON WATER THAT WAS ON THE FLOOR AND SUSTAINED A RIGHT RADIUS FX   \n",
       "4                                              70YOF WAS STANDING ON A STEP STOOL AND FELL OFF SUSTAINED A RIGHT RADIUS FX   \n",
       "5                   79YOM WAS STANDING ON A FOLDING LAWN CHAIR AND FELL OFF TO THE GROUND ONTO HEAD SUSTAINED A CONCUSSION   \n",
       "6                                                                74YOM FELL INTO A PLANTER BOX AND SUSTAINED A CLAVICLE FX   \n",
       "7                       76YOF HAD A SLIP AND FALL AT HOME STRUCK HEAD ON A WOODEN FLOOR AND SUSTAINED A CLOSED HEAD INJURY   \n",
       "8                                        84YOF FELL WHILE GETTING UP FROM THE COUCH AND LANDED ONTO FACE CONTUSION TO FACE   \n",
       "9                                                           88YOF FELL TO THE FLOOR AT HOME UNRESPONSIVE SUBDURAL HEMATOMA   \n",
       "\n",
       "  treatment_date     sex  race other_race        hispanic         diagnosis  \\\n",
       "0     2019-01-01    MALE  N.S.        NaN  Unk/Not stated   INTERNAL INJURY   \n",
       "1     2019-01-01    MALE  N.S.        NaN  Unk/Not stated   INTERNAL INJURY   \n",
       "2     2019-01-01  FEMALE  N.S.        NaN  Unk/Not stated  CONTUSIONS, ABR.   \n",
       "3     2019-01-01  FEMALE  N.S.        NaN  Unk/Not stated          FRACTURE   \n",
       "4     2019-01-01  FEMALE  N.S.        NaN  Unk/Not stated          FRACTURE   \n",
       "5     2019-01-01    MALE  N.S.        NaN  Unk/Not stated        CONCUSSION   \n",
       "6     2019-01-01    MALE  N.S.        NaN  Unk/Not stated          FRACTURE   \n",
       "7     2019-01-01  FEMALE  N.S.        NaN  Unk/Not stated   INTERNAL INJURY   \n",
       "8     2019-01-01  FEMALE  N.S.        NaN  Unk/Not stated  CONTUSIONS, ABR.   \n",
       "9     2019-01-01  FEMALE  N.S.        NaN  Unk/Not stated   INTERNAL INJURY   \n",
       "\n",
       "  other_diagnosis diagnosis_2 other_diagnosis_2  body_part body_part_2  \\\n",
       "0             NaN         NaN               NaN       HEAD         NaN   \n",
       "1             NaN         NaN               NaN       HEAD         NaN   \n",
       "2             NaN         NaN               NaN      ELBOW         NaN   \n",
       "3             NaN         NaN               NaN  LOWER ARM         NaN   \n",
       "4             NaN         NaN               NaN  LOWER ARM         NaN   \n",
       "5             NaN         NaN               NaN       HEAD         NaN   \n",
       "6             NaN         NaN               NaN   SHOULDER         NaN   \n",
       "7             NaN         NaN               NaN       HEAD         NaN   \n",
       "8             NaN         NaN               NaN       FACE         NaN   \n",
       "9             NaN         NaN               NaN       HEAD         NaN   \n",
       "\n",
       "                         disposition location fire_involvement alcohol  \\\n",
       "0  TREATED AND ADMITTED/HOSPITALIZED   PUBLIC             NO/?  No/Unk   \n",
       "1  TREATED AND ADMITTED/HOSPITALIZED     HOME             NO/?  No/Unk   \n",
       "2  TREATED AND ADMITTED/HOSPITALIZED     HOME             NO/?  No/Unk   \n",
       "3      TREATED/EXAMINED AND RELEASED     HOME             NO/?  No/Unk   \n",
       "4      TREATED/EXAMINED AND RELEASED     HOME             NO/?  No/Unk   \n",
       "5      TREATED/EXAMINED AND RELEASED     HOME             NO/?  No/Unk   \n",
       "6      TREATED/EXAMINED AND RELEASED     HOME             NO/?  No/Unk   \n",
       "7      TREATED/EXAMINED AND RELEASED     HOME             NO/?  No/Unk   \n",
       "8      TREATED/EXAMINED AND RELEASED     HOME             NO/?  No/Unk   \n",
       "9  TREATED AND ADMITTED/HOSPITALIZED     HOME             NO/?  No/Unk   \n",
       "\n",
       "     drug                                             product_1  \\\n",
       "0  No/Unk                          FLOORS OR FLOORING MATERIALS   \n",
       "1  No/Unk                                   BATHTUBS OR SHOWERS   \n",
       "2  No/Unk  SOFAS, COUCHES, DAVENPORTS, DIVANS OR STUDIO COUCHES   \n",
       "3  No/Unk                          FLOORS OR FLOORING MATERIALS   \n",
       "4  No/Unk                                           STEP STOOLS   \n",
       "5  No/Unk                        BEACH CHAIRS OR FOLDING CHAIRS   \n",
       "6  No/Unk                      GREENHOUSE OR GARDENING SUPPLIES   \n",
       "7  No/Unk                          FLOORS OR FLOORING MATERIALS   \n",
       "8  No/Unk  SOFAS, COUCHES, DAVENPORTS, DIVANS OR STUDIO COUCHES   \n",
       "9  No/Unk                          FLOORS OR FLOORING MATERIALS   \n",
       "\n",
       "                      product_2 product_3  cpsc_case_number  age  \\\n",
       "0                           NaN       NaN         190103269   94   \n",
       "1                           NaN       NaN         190103270   86   \n",
       "2  FLOORS OR FLOORING MATERIALS       NaN         190103273   87   \n",
       "3                           NaN       NaN         190103291   67   \n",
       "4                           NaN       NaN         190103294   70   \n",
       "5                           NaN       NaN         190103298   79   \n",
       "6                           NaN       NaN         190103309   74   \n",
       "7                           NaN       NaN         190103337   76   \n",
       "8                           NaN       NaN         190103340   84   \n",
       "9                           NaN       NaN         190103341   88   \n",
       "\n",
       "  body_part_modified diagnosis_modified body_part_2_modified  \\\n",
       "0               HEAD    INTERNAL INJURY                Other   \n",
       "1               HEAD    INTERNAL INJURY                Other   \n",
       "2              ELBOW   CONTUSIONS, ABR.                Other   \n",
       "3          LOWER ARM           FRACTURE                Other   \n",
       "4          LOWER ARM           FRACTURE                Other   \n",
       "5               HEAD         CONCUSSION                Other   \n",
       "6           SHOULDER           FRACTURE                Other   \n",
       "7               HEAD    INTERNAL INJURY                Other   \n",
       "8               FACE   CONTUSIONS, ABR.                Other   \n",
       "9               HEAD    INTERNAL INJURY                Other   \n",
       "\n",
       "  diagnosis_2_modified  \\\n",
       "0                Other   \n",
       "1                Other   \n",
       "2                Other   \n",
       "3                Other   \n",
       "4                Other   \n",
       "5                Other   \n",
       "6                Other   \n",
       "7                Other   \n",
       "8                Other   \n",
       "9                Other   \n",
       "\n",
       "                                                                                                                               cleaned_narrative  \\\n",
       "0                                94 years old male patient fell to the floor at the nursing home onto back of head sustained a subdural hematoma   \n",
       "1                                                        86 years old male patient fell in the shower at home and sustained a closed head injury   \n",
       "2  87 years old female patient was getting up from the couch and fell to the floor sustained abrasions to elbows admitted for hemorrhagic stroke   \n",
       "3            67 years old female patient was at a friends house and slipped on water that was on the floor and sustained a right radius fracture   \n",
       "4                                        70 years old female patient was standing on a step stool and fell off sustained a right radius fracture   \n",
       "5                     79 years old male patient was standing on a folding lawn chair and fell off to the ground onto head sustained a concussion   \n",
       "6                                                            74 years old male patient fell into a planter box and sustained a clavicle fracture   \n",
       "7                       76 years old female patient had a slip and fall at home struck head on a wooden floor and sustained a closed head injury   \n",
       "8                                        84 years old female patient fell while getting up from the couch and landed onto face contusion to face   \n",
       "9                                                           88 years old female patient fell to the floor at home unresponsive subdural hematoma   \n",
       "\n",
       "          action_before_fall              reason_of_fall severity_of_fall  \n",
       "0         Unknown Activities  Medical and Health Factors      Very Severe  \n",
       "1        Bathroom Activities  Medical and Health Factors           Severe  \n",
       "2         Unknown Activities  Medical and Health Factors           Severe  \n",
       "3         Unknown Activities       Environmental Factors           Severe  \n",
       "4  Stair Mobility Activities            Physical Factors           Severe  \n",
       "5         Outdoor Activities            Physical Factors           Severe  \n",
       "6         Outdoor Activities            Physical Factors           Severe  \n",
       "7         Unknown Activities            Physical Factors           Severe  \n",
       "8         Unknown Activities            Physical Factors           Severe  \n",
       "9         Unknown Activities  Medical and Health Factors      Very Severe  "
      ]
     },
     "execution_count": 164,
     "metadata": {},
     "output_type": "execute_result"
    }
   ],
   "source": [
    "final_data.head(10)"
   ]
  },
  {
   "cell_type": "code",
   "execution_count": 165,
   "id": "13e84963",
   "metadata": {},
   "outputs": [],
   "source": [
    "final_data.to_csv(\"../data/final_combined_data.csv\", index=False)"
   ]
  },
  {
   "cell_type": "markdown",
   "id": "ab025dd2",
   "metadata": {},
   "source": [
    "### Combining variables having multiple categories (for finding relationships in the data)"
   ]
  },
  {
   "cell_type": "code",
   "execution_count": 166,
   "id": "c0fef679",
   "metadata": {},
   "outputs": [],
   "source": [
    "selected_body_parts = ['HEAD', 'LOWER TRUNK', 'FACE', 'UPPER TRUNK', 'SHOULDER', 'KNEE', 'UPPER LEG', 'UPPER ARM', 'WRIST', 'LOWER ARM', 'LOWER LEG', 'ANKLE', 'ELBOW', 'NECK', 'HAND', 'FOOT']\n",
    "final_data['body_part_modified']= final_data['body_part'].apply(lambda x: x if x in selected_body_parts else 'Other')\n",
    "\n",
    "selected_diagnosis = ['FRACTURE', 'INTERNAL INJURY', 'CONTUSIONS, ABR.', 'LACERATION', 'STRAIN, SPRAIN', 'HEMATOMA', 'AVULSION', 'DISLOCATION', 'CONCUSSION']\n",
    "final_data['diagnosis_modified']= final_data['diagnosis'].apply(lambda x: x if x in selected_diagnosis else 'Other')\n",
    "\n",
    "selected_body_parts = ['HEAD', 'LOWER TRUNK', 'FACE', 'UPPER TRUNK', 'SHOULDER', 'KNEE', 'UPPER LEG', 'UPPER ARM', 'WRIST', 'LOWER ARM', 'LOWER LEG', 'ANKLE', 'ELBOW', 'NECK', 'HAND', 'FOOT']\n",
    "final_data['body_part_2_modified']= final_data['body_part_2'].apply(lambda x: x if x in selected_body_parts else 'Other')\n",
    "\n",
    "selected_diagnosis = ['FRACTURE', 'INTERNAL INJURY', 'CONTUSIONS, ABR.', 'LACERATION', 'STRAIN, SPRAIN', 'HEMATOMA', 'AVULSION', 'DISLOCATION', 'CONCUSSION']\n",
    "final_data['diagnosis_2_modified']= final_data['diagnosis_2'].apply(lambda x: x if x in selected_diagnosis else 'Other')"
   ]
  },
  {
   "cell_type": "code",
   "execution_count": 167,
   "id": "ec602a43",
   "metadata": {},
   "outputs": [
    {
     "data": {
      "text/html": [
       "<div>\n",
       "<style scoped>\n",
       "    .dataframe tbody tr th:only-of-type {\n",
       "        vertical-align: middle;\n",
       "    }\n",
       "\n",
       "    .dataframe tbody tr th {\n",
       "        vertical-align: top;\n",
       "    }\n",
       "\n",
       "    .dataframe thead th {\n",
       "        text-align: right;\n",
       "    }\n",
       "</style>\n",
       "<table border=\"1\" class=\"dataframe\">\n",
       "  <thead>\n",
       "    <tr style=\"text-align: right;\">\n",
       "      <th></th>\n",
       "      <th>narrative</th>\n",
       "      <th>treatment_date</th>\n",
       "      <th>sex</th>\n",
       "      <th>race</th>\n",
       "      <th>other_race</th>\n",
       "      <th>hispanic</th>\n",
       "      <th>diagnosis</th>\n",
       "      <th>other_diagnosis</th>\n",
       "      <th>diagnosis_2</th>\n",
       "      <th>other_diagnosis_2</th>\n",
       "      <th>body_part</th>\n",
       "      <th>body_part_2</th>\n",
       "      <th>disposition</th>\n",
       "      <th>location</th>\n",
       "      <th>fire_involvement</th>\n",
       "      <th>alcohol</th>\n",
       "      <th>drug</th>\n",
       "      <th>product_1</th>\n",
       "      <th>product_2</th>\n",
       "      <th>product_3</th>\n",
       "      <th>cpsc_case_number</th>\n",
       "      <th>age</th>\n",
       "      <th>body_part_modified</th>\n",
       "      <th>diagnosis_modified</th>\n",
       "      <th>body_part_2_modified</th>\n",
       "      <th>diagnosis_2_modified</th>\n",
       "      <th>cleaned_narrative</th>\n",
       "      <th>action_before_fall</th>\n",
       "      <th>reason_of_fall</th>\n",
       "      <th>severity_of_fall</th>\n",
       "    </tr>\n",
       "  </thead>\n",
       "  <tbody>\n",
       "    <tr>\n",
       "      <th>0</th>\n",
       "      <td>94YOM FELL TO THE FLOOR AT THE NURSING HOME ONTO BACK OF HEAD SUSTAINED A SUBDURAL HEMATOMA</td>\n",
       "      <td>2019-01-01</td>\n",
       "      <td>MALE</td>\n",
       "      <td>N.S.</td>\n",
       "      <td>NaN</td>\n",
       "      <td>Unk/Not stated</td>\n",
       "      <td>INTERNAL INJURY</td>\n",
       "      <td>NaN</td>\n",
       "      <td>NaN</td>\n",
       "      <td>NaN</td>\n",
       "      <td>HEAD</td>\n",
       "      <td>NaN</td>\n",
       "      <td>TREATED AND ADMITTED/HOSPITALIZED</td>\n",
       "      <td>PUBLIC</td>\n",
       "      <td>NO/?</td>\n",
       "      <td>No/Unk</td>\n",
       "      <td>No/Unk</td>\n",
       "      <td>FLOORS OR FLOORING MATERIALS</td>\n",
       "      <td>NaN</td>\n",
       "      <td>NaN</td>\n",
       "      <td>190103269</td>\n",
       "      <td>94</td>\n",
       "      <td>HEAD</td>\n",
       "      <td>INTERNAL INJURY</td>\n",
       "      <td>Other</td>\n",
       "      <td>Other</td>\n",
       "      <td>94 years old male patient fell to the floor at the nursing home onto back of head sustained a subdural hematoma</td>\n",
       "      <td>Unknown Activities</td>\n",
       "      <td>Medical and Health Factors</td>\n",
       "      <td>Very Severe</td>\n",
       "    </tr>\n",
       "    <tr>\n",
       "      <th>1</th>\n",
       "      <td>86YOM FELL IN THE SHOWER AT HOME AND SUSTAINED A CLOSED HEAD INJURY</td>\n",
       "      <td>2019-01-01</td>\n",
       "      <td>MALE</td>\n",
       "      <td>N.S.</td>\n",
       "      <td>NaN</td>\n",
       "      <td>Unk/Not stated</td>\n",
       "      <td>INTERNAL INJURY</td>\n",
       "      <td>NaN</td>\n",
       "      <td>NaN</td>\n",
       "      <td>NaN</td>\n",
       "      <td>HEAD</td>\n",
       "      <td>NaN</td>\n",
       "      <td>TREATED AND ADMITTED/HOSPITALIZED</td>\n",
       "      <td>HOME</td>\n",
       "      <td>NO/?</td>\n",
       "      <td>No/Unk</td>\n",
       "      <td>No/Unk</td>\n",
       "      <td>BATHTUBS OR SHOWERS</td>\n",
       "      <td>NaN</td>\n",
       "      <td>NaN</td>\n",
       "      <td>190103270</td>\n",
       "      <td>86</td>\n",
       "      <td>HEAD</td>\n",
       "      <td>INTERNAL INJURY</td>\n",
       "      <td>Other</td>\n",
       "      <td>Other</td>\n",
       "      <td>86 years old male patient fell in the shower at home and sustained a closed head injury</td>\n",
       "      <td>Bathroom Activities</td>\n",
       "      <td>Medical and Health Factors</td>\n",
       "      <td>Severe</td>\n",
       "    </tr>\n",
       "    <tr>\n",
       "      <th>2</th>\n",
       "      <td>87YOF WAS GETTING UP FROM THE COUCH AND FELL TO THE FLOOR SUSTAINED ABRASIONS TO ELBOWS ADMITTED FOR HEMORRHAGIC STROKE</td>\n",
       "      <td>2019-01-01</td>\n",
       "      <td>FEMALE</td>\n",
       "      <td>N.S.</td>\n",
       "      <td>NaN</td>\n",
       "      <td>Unk/Not stated</td>\n",
       "      <td>CONTUSIONS, ABR.</td>\n",
       "      <td>NaN</td>\n",
       "      <td>NaN</td>\n",
       "      <td>NaN</td>\n",
       "      <td>ELBOW</td>\n",
       "      <td>NaN</td>\n",
       "      <td>TREATED AND ADMITTED/HOSPITALIZED</td>\n",
       "      <td>HOME</td>\n",
       "      <td>NO/?</td>\n",
       "      <td>No/Unk</td>\n",
       "      <td>No/Unk</td>\n",
       "      <td>SOFAS, COUCHES, DAVENPORTS, DIVANS OR STUDIO COUCHES</td>\n",
       "      <td>FLOORS OR FLOORING MATERIALS</td>\n",
       "      <td>NaN</td>\n",
       "      <td>190103273</td>\n",
       "      <td>87</td>\n",
       "      <td>ELBOW</td>\n",
       "      <td>CONTUSIONS, ABR.</td>\n",
       "      <td>Other</td>\n",
       "      <td>Other</td>\n",
       "      <td>87 years old female patient was getting up from the couch and fell to the floor sustained abrasions to elbows admitted for hemorrhagic stroke</td>\n",
       "      <td>Unknown Activities</td>\n",
       "      <td>Medical and Health Factors</td>\n",
       "      <td>Severe</td>\n",
       "    </tr>\n",
       "    <tr>\n",
       "      <th>3</th>\n",
       "      <td>67YOF WAS AT A FRIENDS HOUSE AND SLIPPED ON WATER THAT WAS ON THE FLOOR AND SUSTAINED A RIGHT RADIUS FX</td>\n",
       "      <td>2019-01-01</td>\n",
       "      <td>FEMALE</td>\n",
       "      <td>N.S.</td>\n",
       "      <td>NaN</td>\n",
       "      <td>Unk/Not stated</td>\n",
       "      <td>FRACTURE</td>\n",
       "      <td>NaN</td>\n",
       "      <td>NaN</td>\n",
       "      <td>NaN</td>\n",
       "      <td>LOWER ARM</td>\n",
       "      <td>NaN</td>\n",
       "      <td>TREATED/EXAMINED AND RELEASED</td>\n",
       "      <td>HOME</td>\n",
       "      <td>NO/?</td>\n",
       "      <td>No/Unk</td>\n",
       "      <td>No/Unk</td>\n",
       "      <td>FLOORS OR FLOORING MATERIALS</td>\n",
       "      <td>NaN</td>\n",
       "      <td>NaN</td>\n",
       "      <td>190103291</td>\n",
       "      <td>67</td>\n",
       "      <td>LOWER ARM</td>\n",
       "      <td>FRACTURE</td>\n",
       "      <td>Other</td>\n",
       "      <td>Other</td>\n",
       "      <td>67 years old female patient was at a friends house and slipped on water that was on the floor and sustained a right radius fracture</td>\n",
       "      <td>Unknown Activities</td>\n",
       "      <td>Environmental Factors</td>\n",
       "      <td>Severe</td>\n",
       "    </tr>\n",
       "    <tr>\n",
       "      <th>4</th>\n",
       "      <td>70YOF WAS STANDING ON A STEP STOOL AND FELL OFF SUSTAINED A RIGHT RADIUS FX</td>\n",
       "      <td>2019-01-01</td>\n",
       "      <td>FEMALE</td>\n",
       "      <td>N.S.</td>\n",
       "      <td>NaN</td>\n",
       "      <td>Unk/Not stated</td>\n",
       "      <td>FRACTURE</td>\n",
       "      <td>NaN</td>\n",
       "      <td>NaN</td>\n",
       "      <td>NaN</td>\n",
       "      <td>LOWER ARM</td>\n",
       "      <td>NaN</td>\n",
       "      <td>TREATED/EXAMINED AND RELEASED</td>\n",
       "      <td>HOME</td>\n",
       "      <td>NO/?</td>\n",
       "      <td>No/Unk</td>\n",
       "      <td>No/Unk</td>\n",
       "      <td>STEP STOOLS</td>\n",
       "      <td>NaN</td>\n",
       "      <td>NaN</td>\n",
       "      <td>190103294</td>\n",
       "      <td>70</td>\n",
       "      <td>LOWER ARM</td>\n",
       "      <td>FRACTURE</td>\n",
       "      <td>Other</td>\n",
       "      <td>Other</td>\n",
       "      <td>70 years old female patient was standing on a step stool and fell off sustained a right radius fracture</td>\n",
       "      <td>Stair Mobility Activities</td>\n",
       "      <td>Physical Factors</td>\n",
       "      <td>Severe</td>\n",
       "    </tr>\n",
       "  </tbody>\n",
       "</table>\n",
       "</div>"
      ],
      "text/plain": [
       "                                                                                                                 narrative  \\\n",
       "0                              94YOM FELL TO THE FLOOR AT THE NURSING HOME ONTO BACK OF HEAD SUSTAINED A SUBDURAL HEMATOMA   \n",
       "1                                                      86YOM FELL IN THE SHOWER AT HOME AND SUSTAINED A CLOSED HEAD INJURY   \n",
       "2  87YOF WAS GETTING UP FROM THE COUCH AND FELL TO THE FLOOR SUSTAINED ABRASIONS TO ELBOWS ADMITTED FOR HEMORRHAGIC STROKE   \n",
       "3                  67YOF WAS AT A FRIENDS HOUSE AND SLIPPED ON WATER THAT WAS ON THE FLOOR AND SUSTAINED A RIGHT RADIUS FX   \n",
       "4                                              70YOF WAS STANDING ON A STEP STOOL AND FELL OFF SUSTAINED A RIGHT RADIUS FX   \n",
       "\n",
       "  treatment_date     sex  race other_race        hispanic         diagnosis  \\\n",
       "0     2019-01-01    MALE  N.S.        NaN  Unk/Not stated   INTERNAL INJURY   \n",
       "1     2019-01-01    MALE  N.S.        NaN  Unk/Not stated   INTERNAL INJURY   \n",
       "2     2019-01-01  FEMALE  N.S.        NaN  Unk/Not stated  CONTUSIONS, ABR.   \n",
       "3     2019-01-01  FEMALE  N.S.        NaN  Unk/Not stated          FRACTURE   \n",
       "4     2019-01-01  FEMALE  N.S.        NaN  Unk/Not stated          FRACTURE   \n",
       "\n",
       "  other_diagnosis diagnosis_2 other_diagnosis_2  body_part body_part_2  \\\n",
       "0             NaN         NaN               NaN       HEAD         NaN   \n",
       "1             NaN         NaN               NaN       HEAD         NaN   \n",
       "2             NaN         NaN               NaN      ELBOW         NaN   \n",
       "3             NaN         NaN               NaN  LOWER ARM         NaN   \n",
       "4             NaN         NaN               NaN  LOWER ARM         NaN   \n",
       "\n",
       "                         disposition location fire_involvement alcohol  \\\n",
       "0  TREATED AND ADMITTED/HOSPITALIZED   PUBLIC             NO/?  No/Unk   \n",
       "1  TREATED AND ADMITTED/HOSPITALIZED     HOME             NO/?  No/Unk   \n",
       "2  TREATED AND ADMITTED/HOSPITALIZED     HOME             NO/?  No/Unk   \n",
       "3      TREATED/EXAMINED AND RELEASED     HOME             NO/?  No/Unk   \n",
       "4      TREATED/EXAMINED AND RELEASED     HOME             NO/?  No/Unk   \n",
       "\n",
       "     drug                                             product_1  \\\n",
       "0  No/Unk                          FLOORS OR FLOORING MATERIALS   \n",
       "1  No/Unk                                   BATHTUBS OR SHOWERS   \n",
       "2  No/Unk  SOFAS, COUCHES, DAVENPORTS, DIVANS OR STUDIO COUCHES   \n",
       "3  No/Unk                          FLOORS OR FLOORING MATERIALS   \n",
       "4  No/Unk                                           STEP STOOLS   \n",
       "\n",
       "                      product_2 product_3  cpsc_case_number  age  \\\n",
       "0                           NaN       NaN         190103269   94   \n",
       "1                           NaN       NaN         190103270   86   \n",
       "2  FLOORS OR FLOORING MATERIALS       NaN         190103273   87   \n",
       "3                           NaN       NaN         190103291   67   \n",
       "4                           NaN       NaN         190103294   70   \n",
       "\n",
       "  body_part_modified diagnosis_modified body_part_2_modified  \\\n",
       "0               HEAD    INTERNAL INJURY                Other   \n",
       "1               HEAD    INTERNAL INJURY                Other   \n",
       "2              ELBOW   CONTUSIONS, ABR.                Other   \n",
       "3          LOWER ARM           FRACTURE                Other   \n",
       "4          LOWER ARM           FRACTURE                Other   \n",
       "\n",
       "  diagnosis_2_modified  \\\n",
       "0                Other   \n",
       "1                Other   \n",
       "2                Other   \n",
       "3                Other   \n",
       "4                Other   \n",
       "\n",
       "                                                                                                                               cleaned_narrative  \\\n",
       "0                                94 years old male patient fell to the floor at the nursing home onto back of head sustained a subdural hematoma   \n",
       "1                                                        86 years old male patient fell in the shower at home and sustained a closed head injury   \n",
       "2  87 years old female patient was getting up from the couch and fell to the floor sustained abrasions to elbows admitted for hemorrhagic stroke   \n",
       "3            67 years old female patient was at a friends house and slipped on water that was on the floor and sustained a right radius fracture   \n",
       "4                                        70 years old female patient was standing on a step stool and fell off sustained a right radius fracture   \n",
       "\n",
       "          action_before_fall              reason_of_fall severity_of_fall  \n",
       "0         Unknown Activities  Medical and Health Factors      Very Severe  \n",
       "1        Bathroom Activities  Medical and Health Factors           Severe  \n",
       "2         Unknown Activities  Medical and Health Factors           Severe  \n",
       "3         Unknown Activities       Environmental Factors           Severe  \n",
       "4  Stair Mobility Activities            Physical Factors           Severe  "
      ]
     },
     "execution_count": 167,
     "metadata": {},
     "output_type": "execute_result"
    }
   ],
   "source": [
    "final_data.head()"
   ]
  },
  {
   "cell_type": "markdown",
   "id": "13bcb603",
   "metadata": {},
   "source": [
    "### Creating Age Buckets"
   ]
  },
  {
   "cell_type": "code",
   "execution_count": 168,
   "id": "af95d47a",
   "metadata": {},
   "outputs": [],
   "source": [
    "bins = list(range(65, 131, 5))\n",
    "\n",
    "labels = [f'{start}-{end-1}' for start, end in zip(bins[:-1], bins[1:])]\n",
    "\n",
    "final_data['age_group'] = pd.cut(final_data['age'], bins=bins, labels=labels, right=False)"
   ]
  },
  {
   "cell_type": "markdown",
   "id": "23646797",
   "metadata": {},
   "source": [
    "### Analyzing Very Severe Cases of Fall wrt Age Buckets"
   ]
  },
  {
   "cell_type": "code",
   "execution_count": 169,
   "id": "478df6ca",
   "metadata": {},
   "outputs": [
    {
     "data": {
      "text/plain": [
       "(17312, 31)"
      ]
     },
     "execution_count": 169,
     "metadata": {},
     "output_type": "execute_result"
    }
   ],
   "source": [
    "temp_df = final_data[final_data['severity_of_fall']=='Very Severe']\n",
    "temp_df.shape"
   ]
  },
  {
   "cell_type": "code",
   "execution_count": 170,
   "id": "2c70de72",
   "metadata": {},
   "outputs": [
    {
     "data": {
      "text/html": [
       "<div>\n",
       "<style scoped>\n",
       "    .dataframe tbody tr th:only-of-type {\n",
       "        vertical-align: middle;\n",
       "    }\n",
       "\n",
       "    .dataframe tbody tr th {\n",
       "        vertical-align: top;\n",
       "    }\n",
       "\n",
       "    .dataframe thead th {\n",
       "        text-align: right;\n",
       "    }\n",
       "</style>\n",
       "<table border=\"1\" class=\"dataframe\">\n",
       "  <thead>\n",
       "    <tr style=\"text-align: right;\">\n",
       "      <th></th>\n",
       "      <th>severity_of_fall</th>\n",
       "      <th>age_group</th>\n",
       "    </tr>\n",
       "  </thead>\n",
       "  <tbody>\n",
       "    <tr>\n",
       "      <th>0</th>\n",
       "      <td>Very Severe</td>\n",
       "      <td>90-94</td>\n",
       "    </tr>\n",
       "    <tr>\n",
       "      <th>1</th>\n",
       "      <td>Severe</td>\n",
       "      <td>85-89</td>\n",
       "    </tr>\n",
       "    <tr>\n",
       "      <th>2</th>\n",
       "      <td>Severe</td>\n",
       "      <td>85-89</td>\n",
       "    </tr>\n",
       "    <tr>\n",
       "      <th>3</th>\n",
       "      <td>Severe</td>\n",
       "      <td>65-69</td>\n",
       "    </tr>\n",
       "    <tr>\n",
       "      <th>4</th>\n",
       "      <td>Severe</td>\n",
       "      <td>70-74</td>\n",
       "    </tr>\n",
       "  </tbody>\n",
       "</table>\n",
       "</div>"
      ],
      "text/plain": [
       "  severity_of_fall age_group\n",
       "0      Very Severe     90-94\n",
       "1           Severe     85-89\n",
       "2           Severe     85-89\n",
       "3           Severe     65-69\n",
       "4           Severe     70-74"
      ]
     },
     "execution_count": 170,
     "metadata": {},
     "output_type": "execute_result"
    }
   ],
   "source": [
    "severity_df = final_data[['severity_of_fall', 'age_group']]\n",
    "severity_df.head()"
   ]
  },
  {
   "cell_type": "code",
   "execution_count": 171,
   "id": "3ef17c0b",
   "metadata": {},
   "outputs": [],
   "source": [
    "severe_groups = severity_df.groupby('age_group')"
   ]
  },
  {
   "cell_type": "code",
   "execution_count": 183,
   "id": "3e6a2411",
   "metadata": {},
   "outputs": [
    {
     "name": "stdout",
     "output_type": "stream",
     "text": [
      "65-69\n",
      "70-74\n",
      "75-79\n",
      "80-84\n",
      "85-89\n",
      "90-94\n",
      "95-99\n",
      "100-104\n",
      "105-109\n",
      "110-114\n",
      "115-119\n",
      "120-124\n",
      "125-129\n"
     ]
    }
   ],
   "source": [
    "severe_perc_df = pd.DataFrame()\n",
    "for group,data in severe_groups:\n",
    "    print(group)\n",
    "    count_df = data.value_counts().to_frame().reset_index()\n",
    "    count_df['percentage'] = np.nan\n",
    "    count_df['percentage'] = count_df[\"count\"] / count_df[\"count\"].sum()\n",
    "    severe_perc_df = pd.concat([severe_perc_df, count_df])    "
   ]
  },
  {
   "cell_type": "code",
   "execution_count": 184,
   "id": "f6a1024f",
   "metadata": {},
   "outputs": [
    {
     "data": {
      "text/html": [
       "<div>\n",
       "<style scoped>\n",
       "    .dataframe tbody tr th:only-of-type {\n",
       "        vertical-align: middle;\n",
       "    }\n",
       "\n",
       "    .dataframe tbody tr th {\n",
       "        vertical-align: top;\n",
       "    }\n",
       "\n",
       "    .dataframe thead th {\n",
       "        text-align: right;\n",
       "    }\n",
       "</style>\n",
       "<table border=\"1\" class=\"dataframe\">\n",
       "  <thead>\n",
       "    <tr style=\"text-align: right;\">\n",
       "      <th></th>\n",
       "      <th>severity_of_fall</th>\n",
       "      <th>age_group</th>\n",
       "      <th>count</th>\n",
       "      <th>percentage</th>\n",
       "    </tr>\n",
       "  </thead>\n",
       "  <tbody>\n",
       "    <tr>\n",
       "      <th>1</th>\n",
       "      <td>Very Severe</td>\n",
       "      <td>65-69</td>\n",
       "      <td>2548</td>\n",
       "      <td>0.134958</td>\n",
       "    </tr>\n",
       "    <tr>\n",
       "      <th>1</th>\n",
       "      <td>Very Severe</td>\n",
       "      <td>70-74</td>\n",
       "      <td>2934</td>\n",
       "      <td>0.142089</td>\n",
       "    </tr>\n",
       "    <tr>\n",
       "      <th>1</th>\n",
       "      <td>Very Severe</td>\n",
       "      <td>75-79</td>\n",
       "      <td>2885</td>\n",
       "      <td>0.140649</td>\n",
       "    </tr>\n",
       "    <tr>\n",
       "      <th>1</th>\n",
       "      <td>Very Severe</td>\n",
       "      <td>80-84</td>\n",
       "      <td>3020</td>\n",
       "      <td>0.152279</td>\n",
       "    </tr>\n",
       "    <tr>\n",
       "      <th>1</th>\n",
       "      <td>Very Severe</td>\n",
       "      <td>85-89</td>\n",
       "      <td>2833</td>\n",
       "      <td>0.160674</td>\n",
       "    </tr>\n",
       "    <tr>\n",
       "      <th>1</th>\n",
       "      <td>Very Severe</td>\n",
       "      <td>90-94</td>\n",
       "      <td>2129</td>\n",
       "      <td>0.173555</td>\n",
       "    </tr>\n",
       "    <tr>\n",
       "      <th>1</th>\n",
       "      <td>Very Severe</td>\n",
       "      <td>95-99</td>\n",
       "      <td>819</td>\n",
       "      <td>0.178704</td>\n",
       "    </tr>\n",
       "    <tr>\n",
       "      <th>1</th>\n",
       "      <td>Very Severe</td>\n",
       "      <td>100-104</td>\n",
       "      <td>133</td>\n",
       "      <td>0.189189</td>\n",
       "    </tr>\n",
       "    <tr>\n",
       "      <th>1</th>\n",
       "      <td>Very Severe</td>\n",
       "      <td>105-109</td>\n",
       "      <td>11</td>\n",
       "      <td>0.161765</td>\n",
       "    </tr>\n",
       "  </tbody>\n",
       "</table>\n",
       "</div>"
      ],
      "text/plain": [
       "  severity_of_fall age_group  count  percentage\n",
       "1      Very Severe     65-69   2548    0.134958\n",
       "1      Very Severe     70-74   2934    0.142089\n",
       "1      Very Severe     75-79   2885    0.140649\n",
       "1      Very Severe     80-84   3020    0.152279\n",
       "1      Very Severe     85-89   2833    0.160674\n",
       "1      Very Severe     90-94   2129    0.173555\n",
       "1      Very Severe     95-99    819    0.178704\n",
       "1      Very Severe   100-104    133    0.189189\n",
       "1      Very Severe   105-109     11    0.161765"
      ]
     },
     "execution_count": 184,
     "metadata": {},
     "output_type": "execute_result"
    }
   ],
   "source": [
    "very_severe_df = severe_perc_df[severe_perc_df['severity_of_fall']=='Very Severe']\n",
    "very_severe_df"
   ]
  },
  {
   "cell_type": "markdown",
   "id": "8de00920",
   "metadata": {},
   "source": [
    "### Analyzing Distribution of Very Severe Cases wrt Age Group"
   ]
  },
  {
   "cell_type": "code",
   "execution_count": 185,
   "id": "8a9bc249",
   "metadata": {},
   "outputs": [
    {
     "data": {
      "image/png": "[encoded data removed]",
      "text/plain": [
       "<Figure size 600x400 with 1 Axes>"
      ]
     },
     "metadata": {},
     "output_type": "display_data"
    }
   ],
   "source": [
    "# Create a bar plot\n",
    "plt.figure(figsize=(6, 4))\n",
    "plt.bar(very_severe_df['age_group'], very_severe_df['percentage']*100, color='brown')\n",
    "plt.xlabel('Age Group')\n",
    "plt.ylabel('% of Very Severe Cases')\n",
    "plt.title('Graph 1: Distribution of Very Severe Cases')\n",
    "\n",
    "plt.xticks(rotation=45)\n",
    "plt.show()\n"
   ]
  },
  {
   "cell_type": "markdown",
   "id": "8184c941",
   "metadata": {},
   "source": [
    "### Plotting Graphs using Matplotlib - Stacked Bar Chart (Bivariate/Cross Tab Analysis)"
   ]
  },
  {
   "cell_type": "code",
   "execution_count": 188,
   "id": "e464ec71",
   "metadata": {},
   "outputs": [],
   "source": [
    "def eda_matplotlib(data, var1, var2, title=None, xaxis_title=None, legend_title=None, loc='upper right', rotation=60, calc_percentage = False):\n",
    "    cross_tab = pd.crosstab(data[var1], data[var2])\n",
    "    categories = cross_tab.columns\n",
    "    \n",
    "    # Create a list of colors for each category\n",
    "    colors = plt.cm.tab20(np.linspace(0, 1, len(categories)))\n",
    "    \n",
    "    # Initialize bottom values for stacking\n",
    "    bottom = [0] * len(cross_tab.index)\n",
    "    \n",
    "    plt.style.use('seaborn-darkgrid') \n",
    "    \n",
    "    fig, ax = plt.subplots(figsize=(5,3))\n",
    "    \n",
    "    if calc_percentage:\n",
    "        cross_tab = cross_tab.apply(lambda x: x / x.sum(), axis=1)\n",
    "        # Iterate through categories and plot bars\n",
    "        for i, category in enumerate(categories):\n",
    "            counts = cross_tab[category]\n",
    "            bars = plt.bar(cross_tab.index, counts, bottom=bottom, label=category, color=colors[i])\n",
    "            bottom += counts\n",
    "        # Add legend with loc\n",
    "        plt.legend(title=legend_title, loc= loc, bbox_to_anchor=(1, 1))\n",
    "\n",
    "    else :  \n",
    "        # Iterate through categories and plot bars\n",
    "        for i, category in enumerate(categories):\n",
    "            counts = cross_tab[category]\n",
    "            bars = plt.bar(cross_tab.index, counts, bottom=bottom, label=category, color=colors[i])\n",
    "            bottom += counts\n",
    "        # Add legend with loc\n",
    "        plt.legend(title=legend_title, loc= loc)\n",
    "    \n",
    "    # Add labels and title\n",
    "    plt.ylabel('Frequency')\n",
    "    plt.title(title)\n",
    "\n",
    "    # Set x-axis label if provided\n",
    "    if xaxis_title:\n",
    "        ax.set_xlabel(xaxis_title)\n",
    "\n",
    "    plt.xticks(rotation=rotation, ha = 'left')\n",
    "    \n",
    "    # Remove gridlines\n",
    "    plt.grid(False)\n",
    "    plt.show()"
   ]
  },
  {
   "cell_type": "markdown",
   "id": "7872f2c5",
   "metadata": {},
   "source": [
    "### Analyzing Body Part wrt Severity"
   ]
  },
  {
   "cell_type": "code",
   "execution_count": 189,
   "id": "a366f9a5",
   "metadata": {},
   "outputs": [
    {
     "data": {
      "image/png": "[encoded data removed]",
      "text/plain": [
       "<Figure size 500x300 with 1 Axes>"
      ]
     },
     "metadata": {},
     "output_type": "display_data"
    }
   ],
   "source": [
    "eda_matplotlib(final_data, 'body_part_modified', 'severity_of_fall', 'Graph 2: Body Part Vs Severity', 'Body Part', legend_title='Severity', rotation=-45, loc='upper left', calc_percentage=True )"
   ]
  },
  {
   "cell_type": "markdown",
   "id": "8907a564",
   "metadata": {},
   "source": [
    "### Analyzing Age Group wrt Action Before Fall"
   ]
  },
  {
   "cell_type": "code",
   "execution_count": 190,
   "id": "21000a1b",
   "metadata": {},
   "outputs": [
    {
     "data": {
      "image/png": "[encoded data removed]",
      "text/plain": [
       "<Figure size 500x300 with 1 Axes>"
      ]
     },
     "metadata": {},
     "output_type": "display_data"
    }
   ],
   "source": [
    "eda_matplotlib(final_data, 'age_group', 'action_before_fall', 'Graph 3: Age Group Vs Action Before Fall', 'Age Group', legend_title='Action before Fall', rotation=90, loc='upper left', calc_percentage=True )"
   ]
  },
  {
   "cell_type": "markdown",
   "id": "5c3c1c6f",
   "metadata": {},
   "source": [
    "### Analyzing Action Before Fall wrt Severity"
   ]
  },
  {
   "cell_type": "code",
   "execution_count": 191,
   "id": "548889ec",
   "metadata": {},
   "outputs": [
    {
     "data": {
      "image/png": "[encoded data removed]",
      "text/plain": [
       "<Figure size 500x300 with 1 Axes>"
      ]
     },
     "metadata": {},
     "output_type": "display_data"
    }
   ],
   "source": [
    "eda_matplotlib(final_data, 'action_before_fall', 'severity_of_fall', 'Graph 4: Action Before Fall Vs Severity', 'Action before Fall', legend_title='Severity', rotation=-30, loc='upper left', calc_percentage=True )"
   ]
  },
  {
   "cell_type": "markdown",
   "id": "38267d8f",
   "metadata": {},
   "source": [
    "### Analyzing Risk Factors wrt Severity"
   ]
  },
  {
   "cell_type": "code",
   "execution_count": 192,
   "id": "0f3b54a3",
   "metadata": {},
   "outputs": [
    {
     "data": {
      "image/png": "[encoded data removed]",
      "text/plain": [
       "<Figure size 500x300 with 1 Axes>"
      ]
     },
     "metadata": {},
     "output_type": "display_data"
    }
   ],
   "source": [
    "eda_matplotlib(final_data, 'reason_of_fall', 'severity_of_fall', 'Graph 5: Risk Factors Vs Severity', 'Risk Factors', 'Severity', rotation=-30, loc='upper left', calc_percentage=True )"
   ]
  },
  {
   "cell_type": "code",
   "execution_count": null,
   "id": "c8ef142e",
   "metadata": {},
   "outputs": [],
   "source": []
  },
  {
   "cell_type": "markdown",
   "id": "a3b7794d",
   "metadata": {},
   "source": [
    "## NULL Result Section\n",
    "\n",
    "*What Didn’t work?*\n",
    "- BERTopic with hyperparameter tuning: Unable to get insights since most of the data getting clustered as noise.\n",
    "- KMeans Clustering: Hard to find the K for KMeans and clusters were not homogeneous.\n",
    "- FLAN-T5 for generating Severity, reason, and action before fall: Very low accuracy for zero shot classification.\n",
    "- XGBoost Model for training on Gold Data and Predicting: Much lower accuracy after manual Validation"
   ]
  },
  {
   "cell_type": "markdown",
   "id": "a35baf2b",
   "metadata": {},
   "source": [
    "### Applying BERTopic for Topic Modelling"
   ]
  },
  {
   "cell_type": "code",
   "execution_count": 2,
   "id": "e0b5cb19",
   "metadata": {
    "colab": {
     "base_uri": "https://localhost:8080/"
    },
    "id": "rX1lZn706nq4",
    "outputId": "5940df39-45c1-493f-f40c-442cd8b5f6a2"
   },
   "outputs": [],
   "source": [
    "# !pip install bertopic"
   ]
  },
  {
   "cell_type": "code",
   "execution_count": null,
   "id": "371c2ba3",
   "metadata": {},
   "outputs": [],
   "source": [
    "import random\n",
    "\n",
    "from sklearn.feature_extraction.text import CountVectorizer\n",
    "from nltk.corpus import stopwords\n",
    "\n",
    "\n",
    "from bertopic import BERTopic\n",
    "\n",
    "import spacy\n",
    "import nltk\n",
    "nltk.download('stopwords')\n",
    "\n",
    "import pyarrow.parquet as pq\n",
    "\n",
    "from umap import UMAP\n",
    "from hdbscan import HDBSCAN\n",
    "from bertopic.representation import KeyBERTInspired, TextGeneration, MaximalMarginalRelevance\n",
    "from bertopic.vectorizers import ClassTfidfTransformer\n",
    "from transformers import pipeline"
   ]
  },
  {
   "cell_type": "code",
   "execution_count": null,
   "id": "94a30c3a",
   "metadata": {},
   "outputs": [],
   "source": [
    "def fit_topic_model_v2(filtered_df, stop_words, on_column = \"cleaned_text\", embedding_column = \"embedding\",\n",
    "                   language=\"english\"):\n",
    "\n",
    "    dialogue_list = filtered_df[on_column].tolist()\n",
    "    openai_embeddings = np.array(filtered_df[embedding_column].tolist())\n",
    "    print(\"Embeddings dimensions : \", openai_embeddings.shape)\n",
    "    \n",
    "    #Tuned Parameters (saved as bert_topic_model_20230904_v7.pickle)\n",
    "    vectorizer_model = CountVectorizer(stop_words=stop_words)\n",
    "    ctfidf_model = ClassTfidfTransformer(\n",
    "            reduce_frequent_words=True)\n",
    "    umap_model = UMAP(n_neighbors=15, n_components=100, min_dist=0.0, metric='cosine', random_state=0,  low_memory=True)\n",
    "    hdbscan_model = HDBSCAN(min_samples=1, cluster_selection_method='leaf', prediction_data=True)\n",
    "    representation_model = MaximalMarginalRelevance(diversity=0.4)\n",
    "    topic_model = BERTopic(representation_model=representation_model, language=language, umap_model=umap_model, hdbscan_model = hdbscan_model, vectorizer_model=vectorizer_model,\n",
    "                           ctfidf_model= ctfidf_model, calculate_probabilities=True, nr_topics=10000, min_topic_size=500)\n",
    "    topics, probs = topic_model.fit_transform(dialogue_list, embeddings= openai_embeddings)\n",
    "    topic_model.save('model/bert_topic_model_20230908_v1.pickle')\n",
    "    # new_topics = topic_model.reduce_outliers(dialogue_list, topics)\n",
    "    print(\"Total Topics: \", len(dict(topic_model.get_topic_info()[\"Name\"])))\n",
    "    return topic_model, topic_model.get_topic_info()\n"
   ]
  },
  {
   "cell_type": "code",
   "execution_count": null,
   "id": "31580c6b",
   "metadata": {},
   "outputs": [],
   "source": [
    "start = time.time()\n",
    "topic_model, topic_info = fit_topic_model_v2(cleaned_narrative_with_embeddings, stop_words = english_stopwords, on_column = \"cleaned_narrative\",\n",
    "      embedding_column = 'embedding',  language=\"english\")\n",
    "end = time.time()\n",
    "elapsed = end - start\n",
    "print('Overall Time Elapsed:',elapsed)\n",
    "print(str(timedelta(seconds=elapsed)))\n",
    "topic_info.head()"
   ]
  },
  {
   "cell_type": "code",
   "execution_count": null,
   "id": "17003785",
   "metadata": {},
   "outputs": [],
   "source": [
    "topic_model = BERTopic.load('model/bert_topic_model_20230908_v1.pickle')"
   ]
  },
  {
   "cell_type": "code",
   "execution_count": 14,
   "id": "d0a4818f",
   "metadata": {
    "colab": {
     "base_uri": "https://localhost:8080/",
     "height": 1000
    },
    "id": "X11B7d29loh3",
    "outputId": "b8a87c43-828f-4c2f-8220-d94669483d95"
   },
   "outputs": [
    {
     "data": {
      "text/html": [
       "\n",
       "  <div id=\"df-cc14cdf1-92cc-4535-878a-d5a964b5e98e\" class=\"colab-df-container\">\n",
       "    <div>\n",
       "<style scoped>\n",
       "    .dataframe tbody tr th:only-of-type {\n",
       "        vertical-align: middle;\n",
       "    }\n",
       "\n",
       "    .dataframe tbody tr th {\n",
       "        vertical-align: top;\n",
       "    }\n",
       "\n",
       "    .dataframe thead th {\n",
       "        text-align: right;\n",
       "    }\n",
       "</style>\n",
       "<table border=\"1\" class=\"dataframe\">\n",
       "  <thead>\n",
       "    <tr style=\"text-align: right;\">\n",
       "      <th></th>\n",
       "      <th>Topic</th>\n",
       "      <th>Count</th>\n",
       "      <th>Name</th>\n",
       "      <th>Representation</th>\n",
       "      <th>Representative_Docs</th>\n",
       "    </tr>\n",
       "  </thead>\n",
       "  <tbody>\n",
       "    <tr>\n",
       "      <th>0</th>\n",
       "      <td>-1</td>\n",
       "      <td>25376</td>\n",
       "      <td>-1_forehead_face_abrasion_hit</td>\n",
       "      <td>[forehead, face, abrasion, hit, laceration, hitting, elbow, presents, tripped, hand]</td>\n",
       "      <td>[89 years old female patient with complains of laceration to forehead after unwitnessed fall.  patient reports she fell today at home and hit head on floor. clinical diagnosis: facial laceration; injury of head; fall, 82 years old male patient presents to ed for co fall while in shower patient had non syncopal fall in shower patient lost balance and slipped and fell hitting elbow and back of head left hip and low left foot co elbow pain with laceration and bleeding present. clinical diagnosis: left elbow contusion, left elbow laceration, closed head injury with scalp hematoma, left toe contusion, 79 years old female patient complains of fell down 2 steps at home today hitting her head against the wall. clinical diagnosis: closed head injury, laceration scalp, contusion right wrist]</td>\n",
       "    </tr>\n",
       "    <tr>\n",
       "      <th>1</th>\n",
       "      <td>0</td>\n",
       "      <td>38364</td>\n",
       "      <td>0_hip_knee_femur_shoulder</td>\n",
       "      <td>[hip, knee, femur, shoulder, nursing, ankle, humerus, right, leg, left]</td>\n",
       "      <td>[79 years old female patient patient was at home, she was trying to get her slipper on her foot last night when she lost her balance and fell onto her right side, suffered an injury to her right ankle. clinical diagnosis: fall, closed bimalleolar fracture of right ankle,contusion of right hip, contusion of right knee, 74 years old female patient to emergency room for post fall evaluation from fall at home, patient fell on carpet onto left hip, patient also has skin tear on left lower leg. clinical diagnosis: left hip pain, closed fracture of left pelvis, skin tear left lower leg, 84 years old male patient was trying to walk and had a slip and fall onto head at the nursing home fell to the floor. clinical diagnosis: closed head injury skin tear to right lower arm]</td>\n",
       "    </tr>\n",
       "    <tr>\n",
       "      <th>2</th>\n",
       "      <td>1</td>\n",
       "      <td>15687</td>\n",
       "      <td>1_scalp_face_facial_injury</td>\n",
       "      <td>[scalp, face, facial, injury, hit, laceration, head, closed, hematoma, striking]</td>\n",
       "      <td>[92 years old male patient had a slip and fall striking his head on a chair at home. clinical diagnosis: closed head injury; abrasion to scalp, 82 years old female patient slipped and fell in the shower onto head. clinical diagnosis: closed head injury laceration to scalp, 68 years old female patient patient reports she was walking with/ her walker at home and tripped on the carpet fell onto her face. clinical diagnosis: forehead hematoma upper lip hematoma/laceration]</td>\n",
       "    </tr>\n",
       "    <tr>\n",
       "      <th>3</th>\n",
       "      <td>2</td>\n",
       "      <td>4680</td>\n",
       "      <td>2_rib_chest_ribs_fractures</td>\n",
       "      <td>[rib, chest, ribs, fractures, side, multiple, wall, one, pneumothorax, sided]</td>\n",
       "      <td>[74 years old male patient states he tripped and fell getting out of bed and hit his ribs on the dresser. clinical diagnosis: closed fracture of one rib of left side; fall in home, 66 years old male patient complains of chest wall pain.  patient tripped  and  fell to ground at home, landing on side.  patient states he tripped on carpet. clinical diagnosis: fall, multiple rib fracture, 68 years old female patient complains of rib fractures after fall out of bed to floor at home. patient is on. clinical diagnosis: closed fracture of multiple ribs on right side]</td>\n",
       "    </tr>\n",
       "    <tr>\n",
       "      <th>4</th>\n",
       "      <td>3</td>\n",
       "      <td>3869</td>\n",
       "      <td>3_syncope_syncopal_passed_episode</td>\n",
       "      <td>[syncope, syncopal, passed, episode, admitted, collapse, event, lightheaded, suffered, felt]</td>\n",
       "      <td>[79 years old female patient was walking into her house and had a syncopal episode and fell to the floor striking her head admitted for syncope. clinical diagnosis: closed head injury, 66 years old female patient had a syncopal event at home and fell striking head on the floor admitted for syncope. clinical diagnosis: closed head injury, 86 years old male patient from the nursing home had a syncopal event and fell striking head on the floor admitted for syncope. clinical diagnosis: closed head injury; laceration to scalp]</td>\n",
       "    </tr>\n",
       "    <tr>\n",
       "      <th>5</th>\n",
       "      <td>4</td>\n",
       "      <td>3230</td>\n",
       "      <td>4_compression_lumbar_back_vertebra</td>\n",
       "      <td>[compression, lumbar, back, vertebra, low, lower, thoracic, buttocks, t12, l1]</td>\n",
       "      <td>[65 years old male patient history of of hypertension, diabetes, and stroke on    presents after patient slipped and fell on buttocks while in shower in bathroom. now complains of low back pain. had to crawl out of bathroom because couldn't get up after fall. clinical diagnosis: closed compression fracture of thoracic vertebra; closed compression fracture of lumbar vertebra; compression fracture of t12 vertebra, 92 years old female patient complains of slipped and fell in the shower at the nursing home. low back pain. clinical diagnosis: closed compression fracture of l1 vertebra, 87 years old female patient patient reports a fall out of bed, landing on the floor, back pain. clinical diagnosis: compression fracture of lumbar 1 vertebra, fall from bed]</td>\n",
       "    </tr>\n",
       "    <tr>\n",
       "      <th>6</th>\n",
       "      <td>5</td>\n",
       "      <td>2605</td>\n",
       "      <td>5_wrist_radius_distal_outstretched</td>\n",
       "      <td>[wrist, radius, distal, outstretched, end, hand, ulna, styloid, sprain, deformity]</td>\n",
       "      <td>[75 years old female patient,wrist pain after mechanical fall on hand,while walking up stairs lost balance. clinical diagnosis: fracture distal end radius,elbow laceration, 65 years old female patient with left wrist with worsening pain and deformity after accidental fall. patient states she was on the steps and tripped, falling with her hand outstretched. clinical diagnosis: closed fracture distal end of left radius and ulna, 68 years old female patient presents after a fall down 1 step. patient was walking out and missed the step, falling to the ground on her left side. clinical diagnosis: fall on/from stairs/ step, face pain, left wrist pain, hip pain, closed fracture of the distal end of the left radius, closed nondisplaced fracture of the styloid process of left ulna]</td>\n",
       "    </tr>\n",
       "    <tr>\n",
       "      <th>7</th>\n",
       "      <td>6</td>\n",
       "      <td>2447</td>\n",
       "      <td>6_subdural_hemorrhage_subarachnoid_hematoma</td>\n",
       "      <td>[subdural, hemorrhage, subarachnoid, hematoma, intracranial, intraparenchymal, brain, traumatic, found, stairs]</td>\n",
       "      <td>[83 years old female patient patient fall down 2 steps in her garage backwards, hitting the back of her head. clinical diagnosis: subarachnoid hemorrhage, subdural hematoma, laceration of scalp, fall on/from other stairs and steps, 82 years old male patient lost balance and fell on the floor. clinical diagnosis: subdural hematoma, subarachnoid hemorrhage., 72 years old female patient tripped and fell walking up her stairs. clinical diagnosis: subdural hematoma, subarachnoid hemorrhage.]</td>\n",
       "    </tr>\n",
       "    <tr>\n",
       "      <th>8</th>\n",
       "      <td>7</td>\n",
       "      <td>2182</td>\n",
       "      <td>7_alcohol_blood_intoxication_ethyl</td>\n",
       "      <td>[alcohol, blood, intoxication, ethyl, content, drinking, intoxicated, level, done, alcoholic]</td>\n",
       "      <td>[86 years old female patient passed out fell to the floor while intoxicated no blood alcohol content drawn. clinical diagnosis: laceration to scalp acute ethyl alcohol intoxication, 66 years old male patient was intoxicated and fell out of a chair onto his head no blood alcohol content drawn. clinical diagnosis: closed head injury acute ethyl alcohol intoxication, 75 years old male patient drinking ethyl alcohol at a bar, passed out and fell to floor hitting face blood alcohol content not done. clinical diagnosis: facial fractures, closed head injury, acute ethyl alcohol intoxication]</td>\n",
       "    </tr>\n",
       "    <tr>\n",
       "      <th>9</th>\n",
       "      <td>8</td>\n",
       "      <td>1836</td>\n",
       "      <td>8_ladder_feet_tree_ft</td>\n",
       "      <td>[ladder, feet, tree, ft, roof, christmas, trimming, foot, 10ft, rung]</td>\n",
       "      <td>[66 years old male patient patient was on 10 foot ladder painting when he fell off and hit head having head pain with hematoma, rib pain and left shoulder pain. clinical diagnosis: fall from ladder, rib fractures, 72 years old male patient fell 10 feet off a ladder when working on his roof the ladder slid out from under him and he fell. clinical diagnosis: laceration to left lower leg, 67 years old male patient was trimming tree branches on a ladder when the branch hit the ladder knocked him over he fell about 15 feet. clinical diagnosis: multiple rib fractures]</td>\n",
       "    </tr>\n",
       "    <tr>\n",
       "      <th>10</th>\n",
       "      <td>9</td>\n",
       "      <td>1561</td>\n",
       "      <td>9_closedhead_hitting_consciousness_loss</td>\n",
       "      <td>[closedhead, hitting, consciousness, loss, per, feeling, unconscious, injury, dizzy, dazed]</td>\n",
       "      <td>[68 years old male patient patient feeling dizzy fell onto floor hitting head +loss of consciousness found down by wife. clinical diagnosis: closed-head injury, 84 years old female patient per husband patient was feeling dizzy fell hitting head on bathroom floor +loss of consciousness. clinical diagnosis: closed-head injury, 79 years old male patient per son patient feeling dizzy fell onto bathroom floor hitting head +loss of consciousness. clinical diagnosis: closed-head injury]</td>\n",
       "    </tr>\n",
       "    <tr>\n",
       "      <th>11</th>\n",
       "      <td>10</td>\n",
       "      <td>1515</td>\n",
       "      <td>10_patientfalling_patientwalking_patientrefers_falling</td>\n",
       "      <td>[patientfalling, patientwalking, patientrefers, falling, patientgetting, contback, trauma, fraxlefthip, fraxrighthip, contrighthip]</td>\n",
       "      <td>[77 years old male patientwalking tripped over chair falling down. clinical diagnosis: cont.right.knee, 94 years old female patientwalking tripped falling down on floor. clinical diagnosis: head trauma  and left.right.hip contusion, 74 years old female patientwalking fell down on balcony floor slipped. clinical diagnosis: head trauma]</td>\n",
       "    </tr>\n",
       "    <tr>\n",
       "      <th>12</th>\n",
       "      <td>11</td>\n",
       "      <td>1463</td>\n",
       "      <td>11_laceration_scalp_facial_forehead</td>\n",
       "      <td>[laceration, scalp, facial, forehead, hit, patientmechanical, face, hitting, table, fac]</td>\n",
       "      <td>[68 years old male patient fell to floor getting out of bed and complains of laceration to forehead. clinical diagnosis: facial laceration, 82 years old female patient slipped and fell getting out of bed hitting head on the floor. clinical diagnosis: laceration scalp, closed head injury, 73 years old male patient with head and facial injury after fall from bed to floor. clinical diagnosis: closed head injury and left forehead laceration]</td>\n",
       "    </tr>\n",
       "    <tr>\n",
       "      <th>13</th>\n",
       "      <td>12</td>\n",
       "      <td>1146</td>\n",
       "      <td>12_rib_ribs_chest_bathtub</td>\n",
       "      <td>[rib, ribs, chest, bathtub, shower, tub, toilet, fractures, side, bathroom]</td>\n",
       "      <td>[77 years old male patient fell getting out of his bath tub between the tub and the toilet resulting in rib pain on his left side and multiple fractures to his ribs on his left side. clinical diagnosis: rib pain on left side; closed fracture of multiple ribs of left side, 83 years old male patient slipped and fell in his bathroom striking his chest on the side of the bathtub. clinical diagnosis: multiple rib fractures, 77 years old female patient, fell getting up from toilet striking chest onto the edge of the bathtub. clinical diagnosis: closed fracture of multiple ribs of right side]</td>\n",
       "    </tr>\n",
       "    <tr>\n",
       "      <th>14</th>\n",
       "      <td>13</td>\n",
       "      <td>1141</td>\n",
       "      <td>13_bil_injury_struck_home</td>\n",
       "      <td>[bil, injury, struck, home, multiple, right, left, balance, lost, shoulder]</td>\n",
       "      <td>[92 years old female patient injury head right shoulder, right thigh, left elbow and left forearm lost balance fell to floor at home. clinical diagnosis: laceration scalp, avulsion right shoulder ;, 72 years old female patient injury head, neck, coccyx, low back and bil hips lost balance walking down stairs fell at home. clinical diagnosis: multiple contusions with/abrasions right elbow, right knee, head, lower back and bil buttocks ;, 75 years old female patient injury face right shoulder and bil knees trip and fall to floor due to loose rug at home. clinical diagnosis: multiple contusions face, right shoulder and bil knees ;]</td>\n",
       "    </tr>\n",
       "    <tr>\n",
       "      <th>15</th>\n",
       "      <td>14</td>\n",
       "      <td>914</td>\n",
       "      <td>14_buttocks_buttock_coccyx_contusion</td>\n",
       "      <td>[buttocks, buttock, coccyx, contusion, landed, onto, landing, admitted, sit, slid]</td>\n",
       "      <td>[87 years old female patient fell out of bed at the nursing home landed onto buttocks. clinical diagnosis: contusion to buttocks, 87 years old female patient fell out the chair at the nursing home landed onto buttocks. clinical diagnosis: contusion to buttocks, 87 years old male patient fell out of a chair onto buttocks at the nursing home landed onto buttocks. clinical diagnosis: contusion to buttocks]</td>\n",
       "    </tr>\n",
       "    <tr>\n",
       "      <th>16</th>\n",
       "      <td>15</td>\n",
       "      <td>887</td>\n",
       "      <td>15_atrial_fibrillation_conscious_fib</td>\n",
       "      <td>[atrial, fibrillation, conscious, fib, history, loss, witho, rapid, striking, addition]</td>\n",
       "      <td>[88 years old female patient on    for atrial fibrillation, fell out of bed to carpet striking head with/o loss of consciousness,+abrasion to forehead. clinical diagnosis: head injury, 88 years old male patient, on    for atrial fibrillation, suffered fall down a flight of stairs impacting head with/o loss of consciousness, +abrasion to head and facial laceration. clinical diagnosis: atrial fibrillation, multi ribs fracture, 67 years old male patient, on    for atrial fibrillation, fell out of bed striking head onto the floor with/o loss of consciousness. clinical diagnosis: scalp hematoma]</td>\n",
       "    </tr>\n",
       "    <tr>\n",
       "      <th>17</th>\n",
       "      <td>16</td>\n",
       "      <td>851</td>\n",
       "      <td>16_86_91_93_scalp</td>\n",
       "      <td>[86, 91, 93, scalp, closed, struck, injury, head, laceration, striking]</td>\n",
       "      <td>[86 years old female patient fell to the floor at the nursing home. clinical diagnosis: laceration to scalp closed head injury, 86 years old male patient fell out of bed onto head. clinical diagnosis: closed head injury laceration scalp, 86 years old male patient fell to the floor at home striking head. clinical diagnosis: closed head injury; laceration scalp]</td>\n",
       "    </tr>\n",
       "    <tr>\n",
       "      <th>18</th>\n",
       "      <td>17</td>\n",
       "      <td>739</td>\n",
       "      <td>17_dog_leash_pulled_dogs</td>\n",
       "      <td>[dog, leash, pulled, dogs, walking, tangled, wrapped, jerked, causing, letting]</td>\n",
       "      <td>[65 years old female patient was out walking her dog when the dog pulled her down by the leash and she fell onto left shoulder. clinical diagnosis: strained shoulder, 77 years old male patient walking dog on leash, dog pulled patient down to ground. clinical diagnosis: closed-head injury finger fracture, 86 years old female patient walking dog when dog pulled leash and patient fell to ground hitting right side of face. clinical diagnosis: laceration hand, injury head, fall]</td>\n",
       "    </tr>\n",
       "    <tr>\n",
       "      <th>19</th>\n",
       "      <td>18</td>\n",
       "      <td>668</td>\n",
       "      <td>18_closedhead_injury_hit_bed</td>\n",
       "      <td>[closedhead, injury, hit, bed, shower, steps, strain, 85, 73, level]</td>\n",
       "      <td>[79 years old female patient ground level fall, hit head on bathroom floor at home. clinical diagnosis: closed-head injury, 81 years old female patient ground level fall at home hit head on floor. clinical diagnosis: closed-head injury, 72 years old female patient ground level fall from chair, hit head on floor. clinical diagnosis: closed-head injury]</td>\n",
       "    </tr>\n",
       "    <tr>\n",
       "      <th>20</th>\n",
       "      <td>19</td>\n",
       "      <td>580</td>\n",
       "      <td>19_extendedcare_facility_demented_detected</td>\n",
       "      <td>[extendedcare, facility, demented, detected, witho, unwitnessed, righto, staff, suffered, dementia]</td>\n",
       "      <td>[87 years old female patient, demented from extended-care facility, suffered unwitnessed fall out of bed and found by staff down on tile floor, sent in to right/o head injury. clinical diagnosis: fall, 83 years old female patient demented suffered unwitnessed fall fall  at  extended-care facility, fall detected down on the floor by staff clinical diagnosis scalp hematoma, 82 years old male patient demented  at  extended-care facility, suffered unwitnessed fall fall, fall detected by staff down onto carpeted floor clinical diagnosis hip fracture]</td>\n",
       "    </tr>\n",
       "    <tr>\n",
       "      <th>21</th>\n",
       "      <td>20</td>\n",
       "      <td>575</td>\n",
       "      <td>20_struck_complains_skiing_rib</td>\n",
       "      <td>[struck, complains, skiing, rib, vertebral, right, landed, stairs, left, side]</td>\n",
       "      <td>[89 years old female patient    patient fell 3 days ago; slipped down 2 steps  and  struck left side. clinical diagnosis: multiple rib fractures, left shoulder contusion     %, 87 years old male patient tripped on a step  and  fell walking into house, landed on right side, struck face,chest,shoulder  and  hand. clinical diagnosis: right radius fracture, chest wall contusion, face contusion, right orbit laceration, right shoulder contusion     %, 91 years old female patient   patient tripped  and  fell walking down a small ramp; landed on concrete; + loss of consciousness.   struck head; complains of head, right rib, right hip pain. clinical diagnosis: face laceration, cervical strain, chest wall contusion, pubic ramus fracture, right hand contusion     %]</td>\n",
       "    </tr>\n",
       "    <tr>\n",
       "      <th>22</th>\n",
       "      <td>21</td>\n",
       "      <td>571</td>\n",
       "      <td>21_parkinsons_witho_disease_consciousness</td>\n",
       "      <td>[parkinsons, witho, disease, consciousness, loss, history, states, balance, lost, closed]</td>\n",
       "      <td>[85 years old male patient patient has history of parkinson disease and lost balance and fell onto floor injuring hip at home. clinical diagnosis: closed fracture left hip, closed head injury with/o loss of consciousness, 71 years old male patient patient has history of parkinson's disease and states lost balance while standing in shower and hit head and elbow. clinical diagnosis: scalp laceration, skin tear left elbow, closed head injury with/o loss of consciousness, 84 years old male patient has parkinsons disease lost balance getting out of bed struck head. clinical diagnosis: closed head injury laceration to face]</td>\n",
       "    </tr>\n",
       "    <tr>\n",
       "      <th>23</th>\n",
       "      <td>22</td>\n",
       "      <td>531</td>\n",
       "      <td>22_playing_pickleball_tennis_golf</td>\n",
       "      <td>[playing, pickleball, tennis, golf, ball, pickle, court, radius, strained, outstretched]</td>\n",
       "      <td>[69 years old female patient fell while playing pickleball. clinical diagnosis: fractured left wrist, 68 years old female patient was playing pickleball when she fell going for the ball. clinical diagnosis: fractured left wrist, 71 years old female patient was playing pickleball when she was running backwards for the ball and fell onto outstretched left arm. clinical diagnosis: fractured radius]</td>\n",
       "    </tr>\n",
       "    <tr>\n",
       "      <th>24</th>\n",
       "      <td>23</td>\n",
       "      <td>441</td>\n",
       "      <td>23_admit_reports_falling_steps</td>\n",
       "      <td>[admit, reports, falling, steps, syncope, hitting, hip, trauma, complains, bed]</td>\n",
       "      <td>[82 years old female patient reports from nursing home after falling out of bed and hitting head. clinical diagnosis: head injury, fall, admit, syncope, 83 years old female patient reports from nursing home after falling out of bed. clinical diagnosis: hip fracture, admit, 69 years old female patient reports from nursing home after falling off the bed. clinical diagnosis: hip fracture, fall, admit]</td>\n",
       "    </tr>\n",
       "    <tr>\n",
       "      <th>25</th>\n",
       "      <td>24</td>\n",
       "      <td>439</td>\n",
       "      <td>24_ambulance_brought_following_assisted</td>\n",
       "      <td>[ambulance, brought, following, assisted, living, earlier, snf, hitting, fall, dt]</td>\n",
       "      <td>[68 years old male patient brought in by ambulance from nursing home after fall hitting his head against the wall. clinical diagnosis: closed head injury, 91 years old female patient brought in by ambulance from nursing home with reports that patient fell out of the bed hitting her head, no loss of consciousness. clinical diagnosis: head contusion, 92 years old female patient brought in by ambulance from nursing home after fall hitting her head on the floor. clinical diagnosis: closed head injury, laceration of scalp]</td>\n",
       "    </tr>\n",
       "    <tr>\n",
       "      <th>26</th>\n",
       "      <td>25</td>\n",
       "      <td>439</td>\n",
       "      <td>25_eyebrow_laceration_3cm_2cm</td>\n",
       "      <td>[eyebrow, laceration, 3cm, 2cm, 1cm, hitting, face, 4cm, 6cm, 25cm]</td>\n",
       "      <td>[69 years old female patient patient had a mechanical fall at home onto floor hitting face. clinical diagnosis: 1.5 laceration right eyebrow, 80 years old male patient patient fell out of bed hitting face on floor. clinical diagnosis: laceration left eyebrow, 83 years old female patient patient had a mechanical fall at home onto floor hitting face. clinical diagnosis: laceration left eyebrow]</td>\n",
       "    </tr>\n",
       "    <tr>\n",
       "      <th>27</th>\n",
       "      <td>26</td>\n",
       "      <td>391</td>\n",
       "      <td>26_rhabdomyolysis_creatine_phosphokinase_laid</td>\n",
       "      <td>[rhabdomyolysis, creatine, phosphokinase, laid, traumatic, long, unable, time, alone, get]</td>\n",
       "      <td>[81 years old male patient fell to the bedroom floor laid there for a prolonged period of time unable to get up creatine phosphokinase 3,093. clinical diagnosis: traumatic rhabdomyolysis, 78 years old female patient lives alone fell to the floor laid there for prolonged period of time creatine phosphokinase 2,905. clinical diagnosis: contusion to right shoulder; traumatic rhabdomyolysis, 67 years old male patient lives alone, walking with his walker, fell to the bathroom floor and was unable to get up for a long period of time  creatine phosphokinase=7809. clinical diagnosis: fracture right ankle, traumatic rhabdomyolysis]</td>\n",
       "    </tr>\n",
       "  </tbody>\n",
       "</table>\n",
       "</div>\n",
       "    <div class=\"colab-df-buttons\">\n",
       "\n",
       "  <div class=\"colab-df-container\">\n",
       "    <button class=\"colab-df-convert\" onclick=\"convertToInteractive('df-cc14cdf1-92cc-4535-878a-d5a964b5e98e')\"\n",
       "            title=\"Convert this dataframe to an interactive table.\"\n",
       "            style=\"display:none;\">\n",
       "\n",
       "  <svg xmlns=\"http://www.w3.org/2000/svg\" height=\"24px\" viewBox=\"0 -960 960 960\">\n",
       "    <path d=\"M120-120v-720h720v720H120Zm60-500h600v-160H180v160Zm220 220h160v-160H400v160Zm0 220h160v-160H400v160ZM180-400h160v-160H180v160Zm440 0h160v-160H620v160ZM180-180h160v-160H180v160Zm440 0h160v-160H620v160Z\"/>\n",
       "  </svg>\n",
       "    </button>\n",
       "\n",
       "  <style>\n",
       "    .colab-df-container {\n",
       "      display:flex;\n",
       "      gap: 12px;\n",
       "    }\n",
       "\n",
       "    .colab-df-convert {\n",
       "      background-color: #E8F0FE;\n",
       "      border: none;\n",
       "      border-radius: 50%;\n",
       "      cursor: pointer;\n",
       "      display: none;\n",
       "      fill: #1967D2;\n",
       "      height: 32px;\n",
       "      padding: 0 0 0 0;\n",
       "      width: 32px;\n",
       "    }\n",
       "\n",
       "    .colab-df-convert:hover {\n",
       "      background-color: #E2EBFA;\n",
       "      box-shadow: 0px 1px 2px rgba(60, 64, 67, 0.3), 0px 1px 3px 1px rgba(60, 64, 67, 0.15);\n",
       "      fill: #174EA6;\n",
       "    }\n",
       "\n",
       "    .colab-df-buttons div {\n",
       "      margin-bottom: 4px;\n",
       "    }\n",
       "\n",
       "    [theme=dark] .colab-df-convert {\n",
       "      background-color: #3B4455;\n",
       "      fill: #D2E3FC;\n",
       "    }\n",
       "\n",
       "    [theme=dark] .colab-df-convert:hover {\n",
       "      background-color: #434B5C;\n",
       "      box-shadow: 0px 1px 3px 1px rgba(0, 0, 0, 0.15);\n",
       "      filter: drop-shadow(0px 1px 2px rgba(0, 0, 0, 0.3));\n",
       "      fill: #FFFFFF;\n",
       "    }\n",
       "  </style>\n",
       "\n",
       "    <script>\n",
       "      const buttonEl =\n",
       "        document.querySelector('#df-cc14cdf1-92cc-4535-878a-d5a964b5e98e button.colab-df-convert');\n",
       "      buttonEl.style.display =\n",
       "        google.colab.kernel.accessAllowed ? 'block' : 'none';\n",
       "\n",
       "      async function convertToInteractive(key) {\n",
       "        const element = document.querySelector('#df-cc14cdf1-92cc-4535-878a-d5a964b5e98e');\n",
       "        const dataTable =\n",
       "          await google.colab.kernel.invokeFunction('convertToInteractive',\n",
       "                                                    [key], {});\n",
       "        if (!dataTable) return;\n",
       "\n",
       "        const docLinkHtml = 'Like what you see? Visit the ' +\n",
       "          '<a target=\"_blank\" href=https://colab.research.google.com/notebooks/data_table.ipynb>data table notebook</a>'\n",
       "          + ' to learn more about interactive tables.';\n",
       "        element.innerHTML = '';\n",
       "        dataTable['output_type'] = 'display_data';\n",
       "        await google.colab.output.renderOutput(dataTable, element);\n",
       "        const docLink = document.createElement('div');\n",
       "        docLink.innerHTML = docLinkHtml;\n",
       "        element.appendChild(docLink);\n",
       "      }\n",
       "    </script>\n",
       "  </div>\n",
       "\n",
       "\n",
       "<div id=\"df-c299448f-af83-4efa-adb4-7ff93121f962\">\n",
       "  <button class=\"colab-df-quickchart\" onclick=\"quickchart('df-c299448f-af83-4efa-adb4-7ff93121f962')\"\n",
       "            title=\"Suggest charts.\"\n",
       "            style=\"display:none;\">\n",
       "\n",
       "<svg xmlns=\"http://www.w3.org/2000/svg\" height=\"24px\"viewBox=\"0 0 24 24\"\n",
       "     width=\"24px\">\n",
       "    <g>\n",
       "        <path d=\"M19 3H5c-1.1 0-2 .9-2 2v14c0 1.1.9 2 2 2h14c1.1 0 2-.9 2-2V5c0-1.1-.9-2-2-2zM9 17H7v-7h2v7zm4 0h-2V7h2v10zm4 0h-2v-4h2v4z\"/>\n",
       "    </g>\n",
       "</svg>\n",
       "  </button>\n",
       "\n",
       "<style>\n",
       "  .colab-df-quickchart {\n",
       "      --bg-color: #E8F0FE;\n",
       "      --fill-color: #1967D2;\n",
       "      --hover-bg-color: #E2EBFA;\n",
       "      --hover-fill-color: #174EA6;\n",
       "      --disabled-fill-color: #AAA;\n",
       "      --disabled-bg-color: #DDD;\n",
       "  }\n",
       "\n",
       "  [theme=dark] .colab-df-quickchart {\n",
       "      --bg-color: #3B4455;\n",
       "      --fill-color: #D2E3FC;\n",
       "      --hover-bg-color: #434B5C;\n",
       "      --hover-fill-color: #FFFFFF;\n",
       "      --disabled-bg-color: #3B4455;\n",
       "      --disabled-fill-color: #666;\n",
       "  }\n",
       "\n",
       "  .colab-df-quickchart {\n",
       "    background-color: var(--bg-color);\n",
       "    border: none;\n",
       "    border-radius: 50%;\n",
       "    cursor: pointer;\n",
       "    display: none;\n",
       "    fill: var(--fill-color);\n",
       "    height: 32px;\n",
       "    padding: 0;\n",
       "    width: 32px;\n",
       "  }\n",
       "\n",
       "  .colab-df-quickchart:hover {\n",
       "    background-color: var(--hover-bg-color);\n",
       "    box-shadow: 0 1px 2px rgba(60, 64, 67, 0.3), 0 1px 3px 1px rgba(60, 64, 67, 0.15);\n",
       "    fill: var(--button-hover-fill-color);\n",
       "  }\n",
       "\n",
       "  .colab-df-quickchart-complete:disabled,\n",
       "  .colab-df-quickchart-complete:disabled:hover {\n",
       "    background-color: var(--disabled-bg-color);\n",
       "    fill: var(--disabled-fill-color);\n",
       "    box-shadow: none;\n",
       "  }\n",
       "\n",
       "  .colab-df-spinner {\n",
       "    border: 2px solid var(--fill-color);\n",
       "    border-color: transparent;\n",
       "    border-bottom-color: var(--fill-color);\n",
       "    animation:\n",
       "      spin 1s steps(1) infinite;\n",
       "  }\n",
       "\n",
       "  @keyframes spin {\n",
       "    0% {\n",
       "      border-color: transparent;\n",
       "      border-bottom-color: var(--fill-color);\n",
       "      border-left-color: var(--fill-color);\n",
       "    }\n",
       "    20% {\n",
       "      border-color: transparent;\n",
       "      border-left-color: var(--fill-color);\n",
       "      border-top-color: var(--fill-color);\n",
       "    }\n",
       "    30% {\n",
       "      border-color: transparent;\n",
       "      border-left-color: var(--fill-color);\n",
       "      border-top-color: var(--fill-color);\n",
       "      border-right-color: var(--fill-color);\n",
       "    }\n",
       "    40% {\n",
       "      border-color: transparent;\n",
       "      border-right-color: var(--fill-color);\n",
       "      border-top-color: var(--fill-color);\n",
       "    }\n",
       "    60% {\n",
       "      border-color: transparent;\n",
       "      border-right-color: var(--fill-color);\n",
       "    }\n",
       "    80% {\n",
       "      border-color: transparent;\n",
       "      border-right-color: var(--fill-color);\n",
       "      border-bottom-color: var(--fill-color);\n",
       "    }\n",
       "    90% {\n",
       "      border-color: transparent;\n",
       "      border-bottom-color: var(--fill-color);\n",
       "    }\n",
       "  }\n",
       "</style>\n",
       "\n",
       "  <script>\n",
       "    async function quickchart(key) {\n",
       "      const quickchartButtonEl =\n",
       "        document.querySelector('#' + key + ' button');\n",
       "      quickchartButtonEl.disabled = true;  // To prevent multiple clicks.\n",
       "      quickchartButtonEl.classList.add('colab-df-spinner');\n",
       "      try {\n",
       "        const charts = await google.colab.kernel.invokeFunction(\n",
       "            'suggestCharts', [key], {});\n",
       "      } catch (error) {\n",
       "        console.error('Error during call to suggestCharts:', error);\n",
       "      }\n",
       "      quickchartButtonEl.classList.remove('colab-df-spinner');\n",
       "      quickchartButtonEl.classList.add('colab-df-quickchart-complete');\n",
       "    }\n",
       "    (() => {\n",
       "      let quickchartButtonEl =\n",
       "        document.querySelector('#df-c299448f-af83-4efa-adb4-7ff93121f962 button');\n",
       "      quickchartButtonEl.style.display =\n",
       "        google.colab.kernel.accessAllowed ? 'block' : 'none';\n",
       "    })();\n",
       "  </script>\n",
       "</div>\n",
       "    </div>\n",
       "  </div>\n"
      ],
      "text/plain": [
       "    Topic  Count                                                    Name  \\\n",
       "0      -1  25376                           -1_forehead_face_abrasion_hit   \n",
       "1       0  38364                               0_hip_knee_femur_shoulder   \n",
       "2       1  15687                              1_scalp_face_facial_injury   \n",
       "3       2   4680                              2_rib_chest_ribs_fractures   \n",
       "4       3   3869                       3_syncope_syncopal_passed_episode   \n",
       "5       4   3230                      4_compression_lumbar_back_vertebra   \n",
       "6       5   2605                      5_wrist_radius_distal_outstretched   \n",
       "7       6   2447             6_subdural_hemorrhage_subarachnoid_hematoma   \n",
       "8       7   2182                      7_alcohol_blood_intoxication_ethyl   \n",
       "9       8   1836                                   8_ladder_feet_tree_ft   \n",
       "10      9   1561                 9_closedhead_hitting_consciousness_loss   \n",
       "11     10   1515  10_patientfalling_patientwalking_patientrefers_falling   \n",
       "12     11   1463                     11_laceration_scalp_facial_forehead   \n",
       "13     12   1146                               12_rib_ribs_chest_bathtub   \n",
       "14     13   1141                               13_bil_injury_struck_home   \n",
       "15     14    914                    14_buttocks_buttock_coccyx_contusion   \n",
       "16     15    887                    15_atrial_fibrillation_conscious_fib   \n",
       "17     16    851                                       16_86_91_93_scalp   \n",
       "18     17    739                                17_dog_leash_pulled_dogs   \n",
       "19     18    668                            18_closedhead_injury_hit_bed   \n",
       "20     19    580              19_extendedcare_facility_demented_detected   \n",
       "21     20    575                          20_struck_complains_skiing_rib   \n",
       "22     21    571               21_parkinsons_witho_disease_consciousness   \n",
       "23     22    531                       22_playing_pickleball_tennis_golf   \n",
       "24     23    441                          23_admit_reports_falling_steps   \n",
       "25     24    439                 24_ambulance_brought_following_assisted   \n",
       "26     25    439                           25_eyebrow_laceration_3cm_2cm   \n",
       "27     26    391           26_rhabdomyolysis_creatine_phosphokinase_laid   \n",
       "\n",
       "                                                                                                                         Representation  \\\n",
       "0                                                  [forehead, face, abrasion, hit, laceration, hitting, elbow, presents, tripped, hand]   \n",
       "1                                                               [hip, knee, femur, shoulder, nursing, ankle, humerus, right, leg, left]   \n",
       "2                                                      [scalp, face, facial, injury, hit, laceration, head, closed, hematoma, striking]   \n",
       "3                                                         [rib, chest, ribs, fractures, side, multiple, wall, one, pneumothorax, sided]   \n",
       "4                                          [syncope, syncopal, passed, episode, admitted, collapse, event, lightheaded, suffered, felt]   \n",
       "5                                                        [compression, lumbar, back, vertebra, low, lower, thoracic, buttocks, t12, l1]   \n",
       "6                                                    [wrist, radius, distal, outstretched, end, hand, ulna, styloid, sprain, deformity]   \n",
       "7                       [subdural, hemorrhage, subarachnoid, hematoma, intracranial, intraparenchymal, brain, traumatic, found, stairs]   \n",
       "8                                         [alcohol, blood, intoxication, ethyl, content, drinking, intoxicated, level, done, alcoholic]   \n",
       "9                                                                 [ladder, feet, tree, ft, roof, christmas, trimming, foot, 10ft, rung]   \n",
       "10                                          [closedhead, hitting, consciousness, loss, per, feeling, unconscious, injury, dizzy, dazed]   \n",
       "11  [patientfalling, patientwalking, patientrefers, falling, patientgetting, contback, trauma, fraxlefthip, fraxrighthip, contrighthip]   \n",
       "12                                             [laceration, scalp, facial, forehead, hit, patientmechanical, face, hitting, table, fac]   \n",
       "13                                                          [rib, ribs, chest, bathtub, shower, tub, toilet, fractures, side, bathroom]   \n",
       "14                                                          [bil, injury, struck, home, multiple, right, left, balance, lost, shoulder]   \n",
       "15                                                   [buttocks, buttock, coccyx, contusion, landed, onto, landing, admitted, sit, slid]   \n",
       "16                                              [atrial, fibrillation, conscious, fib, history, loss, witho, rapid, striking, addition]   \n",
       "17                                                              [86, 91, 93, scalp, closed, struck, injury, head, laceration, striking]   \n",
       "18                                                      [dog, leash, pulled, dogs, walking, tangled, wrapped, jerked, causing, letting]   \n",
       "19                                                                 [closedhead, injury, hit, bed, shower, steps, strain, 85, 73, level]   \n",
       "20                                  [extendedcare, facility, demented, detected, witho, unwitnessed, righto, staff, suffered, dementia]   \n",
       "21                                                       [struck, complains, skiing, rib, vertebral, right, landed, stairs, left, side]   \n",
       "22                                            [parkinsons, witho, disease, consciousness, loss, history, states, balance, lost, closed]   \n",
       "23                                             [playing, pickleball, tennis, golf, ball, pickle, court, radius, strained, outstretched]   \n",
       "24                                                      [admit, reports, falling, steps, syncope, hitting, hip, trauma, complains, bed]   \n",
       "25                                                   [ambulance, brought, following, assisted, living, earlier, snf, hitting, fall, dt]   \n",
       "26                                                                  [eyebrow, laceration, 3cm, 2cm, 1cm, hitting, face, 4cm, 6cm, 25cm]   \n",
       "27                                           [rhabdomyolysis, creatine, phosphokinase, laid, traumatic, long, unable, time, alone, get]   \n",
       "\n",
       "                                                                                                                                                                                                                                                                                                                                                                                                                                                                                                                                                                                                                                                                                                                                                                                                         Representative_Docs  \n",
       "0   [89 years old female patient with complains of laceration to forehead after unwitnessed fall.  patient reports she fell today at home and hit head on floor. clinical diagnosis: facial laceration; injury of head; fall, 82 years old male patient presents to ed for co fall while in shower patient had non syncopal fall in shower patient lost balance and slipped and fell hitting elbow and back of head left hip and low left foot co elbow pain with laceration and bleeding present. clinical diagnosis: left elbow contusion, left elbow laceration, closed head injury with scalp hematoma, left toe contusion, 79 years old female patient complains of fell down 2 steps at home today hitting her head against the wall. clinical diagnosis: closed head injury, laceration scalp, contusion right wrist]  \n",
       "1                      [79 years old female patient patient was at home, she was trying to get her slipper on her foot last night when she lost her balance and fell onto her right side, suffered an injury to her right ankle. clinical diagnosis: fall, closed bimalleolar fracture of right ankle,contusion of right hip, contusion of right knee, 74 years old female patient to emergency room for post fall evaluation from fall at home, patient fell on carpet onto left hip, patient also has skin tear on left lower leg. clinical diagnosis: left hip pain, closed fracture of left pelvis, skin tear left lower leg, 84 years old male patient was trying to walk and had a slip and fall onto head at the nursing home fell to the floor. clinical diagnosis: closed head injury skin tear to right lower arm]  \n",
       "2                                                                                                                                                                                                                                                                                                                                  [92 years old male patient had a slip and fall striking his head on a chair at home. clinical diagnosis: closed head injury; abrasion to scalp, 82 years old female patient slipped and fell in the shower onto head. clinical diagnosis: closed head injury laceration to scalp, 68 years old female patient patient reports she was walking with/ her walker at home and tripped on the carpet fell onto her face. clinical diagnosis: forehead hematoma upper lip hematoma/laceration]  \n",
       "3                                                                                                                                                                                                                                      [74 years old male patient states he tripped and fell getting out of bed and hit his ribs on the dresser. clinical diagnosis: closed fracture of one rib of left side; fall in home, 66 years old male patient complains of chest wall pain.  patient tripped  and  fell to ground at home, landing on side.  patient states he tripped on carpet. clinical diagnosis: fall, multiple rib fracture, 68 years old female patient complains of rib fractures after fall out of bed to floor at home. patient is on. clinical diagnosis: closed fracture of multiple ribs on right side]  \n",
       "4                                                                                                                                                                                                                                                                            [79 years old female patient was walking into her house and had a syncopal episode and fell to the floor striking her head admitted for syncope. clinical diagnosis: closed head injury, 66 years old female patient had a syncopal event at home and fell striking head on the floor admitted for syncope. clinical diagnosis: closed head injury, 86 years old male patient from the nursing home had a syncopal event and fell striking head on the floor admitted for syncope. clinical diagnosis: closed head injury; laceration to scalp]  \n",
       "5                                  [65 years old male patient history of of hypertension, diabetes, and stroke on    presents after patient slipped and fell on buttocks while in shower in bathroom. now complains of low back pain. had to crawl out of bathroom because couldn't get up after fall. clinical diagnosis: closed compression fracture of thoracic vertebra; closed compression fracture of lumbar vertebra; compression fracture of t12 vertebra, 92 years old female patient complains of slipped and fell in the shower at the nursing home. low back pain. clinical diagnosis: closed compression fracture of l1 vertebra, 87 years old female patient patient reports a fall out of bed, landing on the floor, back pain. clinical diagnosis: compression fracture of lumbar 1 vertebra, fall from bed]  \n",
       "6            [75 years old female patient,wrist pain after mechanical fall on hand,while walking up stairs lost balance. clinical diagnosis: fracture distal end radius,elbow laceration, 65 years old female patient with left wrist with worsening pain and deformity after accidental fall. patient states she was on the steps and tripped, falling with her hand outstretched. clinical diagnosis: closed fracture distal end of left radius and ulna, 68 years old female patient presents after a fall down 1 step. patient was walking out and missed the step, falling to the ground on her left side. clinical diagnosis: fall on/from stairs/ step, face pain, left wrist pain, hip pain, closed fracture of the distal end of the left radius, closed nondisplaced fracture of the styloid process of left ulna]  \n",
       "7                                                                                                                                                                                                                                                                                                                [83 years old female patient patient fall down 2 steps in her garage backwards, hitting the back of her head. clinical diagnosis: subarachnoid hemorrhage, subdural hematoma, laceration of scalp, fall on/from other stairs and steps, 82 years old male patient lost balance and fell on the floor. clinical diagnosis: subdural hematoma, subarachnoid hemorrhage., 72 years old female patient tripped and fell walking up her stairs. clinical diagnosis: subdural hematoma, subarachnoid hemorrhage.]  \n",
       "8                                                                                                                                                                                                            [86 years old female patient passed out fell to the floor while intoxicated no blood alcohol content drawn. clinical diagnosis: laceration to scalp acute ethyl alcohol intoxication, 66 years old male patient was intoxicated and fell out of a chair onto his head no blood alcohol content drawn. clinical diagnosis: closed head injury acute ethyl alcohol intoxication, 75 years old male patient drinking ethyl alcohol at a bar, passed out and fell to floor hitting face blood alcohol content not done. clinical diagnosis: facial fractures, closed head injury, acute ethyl alcohol intoxication]  \n",
       "9                                                                                                                                                                                                                                   [66 years old male patient patient was on 10 foot ladder painting when he fell off and hit head having head pain with hematoma, rib pain and left shoulder pain. clinical diagnosis: fall from ladder, rib fractures, 72 years old male patient fell 10 feet off a ladder when working on his roof the ladder slid out from under him and he fell. clinical diagnosis: laceration to left lower leg, 67 years old male patient was trimming tree branches on a ladder when the branch hit the ladder knocked him over he fell about 15 feet. clinical diagnosis: multiple rib fractures]  \n",
       "10                                                                                                                                                                                                                                                                                                                      [68 years old male patient patient feeling dizzy fell onto floor hitting head +loss of consciousness found down by wife. clinical diagnosis: closed-head injury, 84 years old female patient per husband patient was feeling dizzy fell hitting head on bathroom floor +loss of consciousness. clinical diagnosis: closed-head injury, 79 years old male patient per son patient feeling dizzy fell onto bathroom floor hitting head +loss of consciousness. clinical diagnosis: closed-head injury]  \n",
       "11                                                                                                                                                                                                                                                                                                                                                                                                                                                                          [77 years old male patientwalking tripped over chair falling down. clinical diagnosis: cont.right.knee, 94 years old female patientwalking tripped falling down on floor. clinical diagnosis: head trauma  and left.right.hip contusion, 74 years old female patientwalking fell down on balcony floor slipped. clinical diagnosis: head trauma]  \n",
       "12                                                                                                                                                                                                                                                                                                                                                                 [68 years old male patient fell to floor getting out of bed and complains of laceration to forehead. clinical diagnosis: facial laceration, 82 years old female patient slipped and fell getting out of bed hitting head on the floor. clinical diagnosis: laceration scalp, closed head injury, 73 years old male patient with head and facial injury after fall from bed to floor. clinical diagnosis: closed head injury and left forehead laceration]  \n",
       "13                                                                                                                                                                                                          [77 years old male patient fell getting out of his bath tub between the tub and the toilet resulting in rib pain on his left side and multiple fractures to his ribs on his left side. clinical diagnosis: rib pain on left side; closed fracture of multiple ribs of left side, 83 years old male patient slipped and fell in his bathroom striking his chest on the side of the bathtub. clinical diagnosis: multiple rib fractures, 77 years old female patient, fell getting up from toilet striking chest onto the edge of the bathtub. clinical diagnosis: closed fracture of multiple ribs of right side]  \n",
       "14                                                                                                                                                               [92 years old female patient injury head right shoulder, right thigh, left elbow and left forearm lost balance fell to floor at home. clinical diagnosis: laceration scalp, avulsion right shoulder ;, 72 years old female patient injury head, neck, coccyx, low back and bil hips lost balance walking down stairs fell at home. clinical diagnosis: multiple contusions with/abrasions right elbow, right knee, head, lower back and bil buttocks ;, 75 years old female patient injury face right shoulder and bil knees trip and fall to floor due to loose rug at home. clinical diagnosis: multiple contusions face, right shoulder and bil knees ;]  \n",
       "15                                                                                                                                                                                                                                                                                                                                                                                                    [87 years old female patient fell out of bed at the nursing home landed onto buttocks. clinical diagnosis: contusion to buttocks, 87 years old female patient fell out the chair at the nursing home landed onto buttocks. clinical diagnosis: contusion to buttocks, 87 years old male patient fell out of a chair onto buttocks at the nursing home landed onto buttocks. clinical diagnosis: contusion to buttocks]  \n",
       "16                                                                                                                                                                                                     [88 years old female patient on    for atrial fibrillation, fell out of bed to carpet striking head with/o loss of consciousness,+abrasion to forehead. clinical diagnosis: head injury, 88 years old male patient, on    for atrial fibrillation, suffered fall down a flight of stairs impacting head with/o loss of consciousness, +abrasion to head and facial laceration. clinical diagnosis: atrial fibrillation, multi ribs fracture, 67 years old male patient, on    for atrial fibrillation, fell out of bed striking head onto the floor with/o loss of consciousness. clinical diagnosis: scalp hematoma]  \n",
       "17                                                                                                                                                                                                                                                                                                                                                                                                                                                [86 years old female patient fell to the floor at the nursing home. clinical diagnosis: laceration to scalp closed head injury, 86 years old male patient fell out of bed onto head. clinical diagnosis: closed head injury laceration scalp, 86 years old male patient fell to the floor at home striking head. clinical diagnosis: closed head injury; laceration scalp]  \n",
       "18                                                                                                                                                                                                                                                                                                                            [65 years old female patient was out walking her dog when the dog pulled her down by the leash and she fell onto left shoulder. clinical diagnosis: strained shoulder, 77 years old male patient walking dog on leash, dog pulled patient down to ground. clinical diagnosis: closed-head injury finger fracture, 86 years old female patient walking dog when dog pulled leash and patient fell to ground hitting right side of face. clinical diagnosis: laceration hand, injury head, fall]  \n",
       "19                                                                                                                                                                                                                                                                                                                                                                                                                                                         [79 years old female patient ground level fall, hit head on bathroom floor at home. clinical diagnosis: closed-head injury, 81 years old female patient ground level fall at home hit head on floor. clinical diagnosis: closed-head injury, 72 years old female patient ground level fall from chair, hit head on floor. clinical diagnosis: closed-head injury]  \n",
       "20                                                                                                                                                                                                                                                   [87 years old female patient, demented from extended-care facility, suffered unwitnessed fall out of bed and found by staff down on tile floor, sent in to right/o head injury. clinical diagnosis: fall, 83 years old female patient demented suffered unwitnessed fall fall  at  extended-care facility, fall detected down on the floor by staff clinical diagnosis scalp hematoma, 82 years old male patient demented  at  extended-care facility, suffered unwitnessed fall fall, fall detected by staff down onto carpeted floor clinical diagnosis hip fracture]  \n",
       "21                             [89 years old female patient    patient fell 3 days ago; slipped down 2 steps  and  struck left side. clinical diagnosis: multiple rib fractures, left shoulder contusion     %, 87 years old male patient tripped on a step  and  fell walking into house, landed on right side, struck face,chest,shoulder  and  hand. clinical diagnosis: right radius fracture, chest wall contusion, face contusion, right orbit laceration, right shoulder contusion     %, 91 years old female patient   patient tripped  and  fell walking down a small ramp; landed on concrete; + loss of consciousness.   struck head; complains of head, right rib, right hip pain. clinical diagnosis: face laceration, cervical strain, chest wall contusion, pubic ramus fracture, right hand contusion     %]  \n",
       "22                                                                                                                                                                         [85 years old male patient patient has history of parkinson disease and lost balance and fell onto floor injuring hip at home. clinical diagnosis: closed fracture left hip, closed head injury with/o loss of consciousness, 71 years old male patient patient has history of parkinson's disease and states lost balance while standing in shower and hit head and elbow. clinical diagnosis: scalp laceration, skin tear left elbow, closed head injury with/o loss of consciousness, 84 years old male patient has parkinsons disease lost balance getting out of bed struck head. clinical diagnosis: closed head injury laceration to face]  \n",
       "23                                                                                                                                                                                                                                                                                                                                                                                                            [69 years old female patient fell while playing pickleball. clinical diagnosis: fractured left wrist, 68 years old female patient was playing pickleball when she fell going for the ball. clinical diagnosis: fractured left wrist, 71 years old female patient was playing pickleball when she was running backwards for the ball and fell onto outstretched left arm. clinical diagnosis: fractured radius]  \n",
       "24                                                                                                                                                                                                                                                                                                                                                                                                         [82 years old female patient reports from nursing home after falling out of bed and hitting head. clinical diagnosis: head injury, fall, admit, syncope, 83 years old female patient reports from nursing home after falling out of bed. clinical diagnosis: hip fracture, admit, 69 years old female patient reports from nursing home after falling off the bed. clinical diagnosis: hip fracture, fall, admit]  \n",
       "25                                                                                                                                                                                                                                                                               [68 years old male patient brought in by ambulance from nursing home after fall hitting his head against the wall. clinical diagnosis: closed head injury, 91 years old female patient brought in by ambulance from nursing home with reports that patient fell out of the bed hitting her head, no loss of consciousness. clinical diagnosis: head contusion, 92 years old female patient brought in by ambulance from nursing home after fall hitting her head on the floor. clinical diagnosis: closed head injury, laceration of scalp]  \n",
       "26                                                                                                                                                                                                                                                                                                                                                                                                               [69 years old female patient patient had a mechanical fall at home onto floor hitting face. clinical diagnosis: 1.5 laceration right eyebrow, 80 years old male patient patient fell out of bed hitting face on floor. clinical diagnosis: laceration left eyebrow, 83 years old female patient patient had a mechanical fall at home onto floor hitting face. clinical diagnosis: laceration left eyebrow]  \n",
       "27                                                                                                                                                                    [81 years old male patient fell to the bedroom floor laid there for a prolonged period of time unable to get up creatine phosphokinase 3,093. clinical diagnosis: traumatic rhabdomyolysis, 78 years old female patient lives alone fell to the floor laid there for prolonged period of time creatine phosphokinase 2,905. clinical diagnosis: contusion to right shoulder; traumatic rhabdomyolysis, 67 years old male patient lives alone, walking with his walker, fell to the bathroom floor and was unable to get up for a long period of time  creatine phosphokinase=7809. clinical diagnosis: fracture right ankle, traumatic rhabdomyolysis]  "
      ]
     },
     "execution_count": 14,
     "metadata": {},
     "output_type": "execute_result"
    }
   ],
   "source": [
    "topic_model.get_topic_info()"
   ]
  },
  {
   "cell_type": "code",
   "execution_count": 15,
   "id": "5a18e4cc",
   "metadata": {
    "colab": {
     "base_uri": "https://localhost:8080/"
    },
    "id": "zw2uhomVRjW8",
    "outputId": "c1079b11-efbf-47a6-8d64-07df33e6ace8"
   },
   "outputs": [
    {
     "name": "stdout",
     "output_type": "stream",
     "text": [
      "(115128, 32)\n"
     ]
    }
   ],
   "source": [
    "dialogue_list = cleaned_narrative_with_embeddings[\"cleaned_narrative\"].tolist()\n",
    "df_topic = topic_model.get_document_info(dialogue_list, df=cleaned_narrative_with_embeddings, metadata=None)\n",
    "print(df_topic.shape)"
   ]
  },
  {
   "cell_type": "code",
   "execution_count": null,
   "id": "f96224fb",
   "metadata": {},
   "outputs": [],
   "source": [
    "topic_model.visualize_topics()"
   ]
  },
  {
   "cell_type": "markdown",
   "id": "aad86f00",
   "metadata": {},
   "source": [
    "![Intertopic_distance](images/Intertopic_distance.png)"
   ]
  },
  {
   "cell_type": "code",
   "execution_count": null,
   "id": "7c0b6243",
   "metadata": {},
   "outputs": [],
   "source": [
    "topic_model.visualize_barchart()"
   ]
  },
  {
   "cell_type": "markdown",
   "id": "b89dc52a",
   "metadata": {},
   "source": [
    "![visualize_barchart](images/visualize_barchart.png)"
   ]
  },
  {
   "cell_type": "code",
   "execution_count": null,
   "id": "d906407a",
   "metadata": {},
   "outputs": [],
   "source": [
    "docs = cleaned_narrative_with_embeddings['cleaned_narrative'].tolist()\n",
    "openai_embeddings = np.array(cleaned_narrative_with_embeddings['embedding'].tolist())\n",
    "# Reduce dimensionality of embeddings, this step is optional\n",
    "# reduced_embeddings = UMAP(n_neighbors=10, n_components=2, min_dist=0.0, metric='cosine').fit_transform(embeddings)\n",
    "topic_model.visualize_documents(docs, embeddings= openai_embeddings, topics=[1,2,3,4, 5, 6, 7 , 8 , 9 ,10], sample = 0.1)"
   ]
  },
  {
   "cell_type": "markdown",
   "id": "d94f9ad1",
   "metadata": {},
   "source": [
    "![Document and Topics](images/document_and_topic.png)"
   ]
  },
  {
   "cell_type": "code",
   "execution_count": null,
   "id": "1f4f28aa",
   "metadata": {},
   "outputs": [],
   "source": [
    "topic_model.visualize_heatmap()"
   ]
  },
  {
   "cell_type": "markdown",
   "id": "31a5151a",
   "metadata": {},
   "source": [
    "![Visualize Heatmap](images/similarity_matrix.png)"
   ]
  },
  {
   "cell_type": "code",
   "execution_count": null,
   "id": "0b542f32",
   "metadata": {},
   "outputs": [],
   "source": []
  }
 ],
 "metadata": {
  "kernelspec": {
   "display_name": "Python 3 (ipykernel)",
   "language": "python",
   "name": "python3"
  },
  "language_info": {
   "codemirror_mode": {
    "name": "ipython",
    "version": 3
   },
   "file_extension": ".py",
   "mimetype": "text/x-python",
   "name": "python",
   "nbconvert_exporter": "python",
   "pygments_lexer": "ipython3",
   "version": "3.10.13"
  },
  "toc": {
   "base_numbering": 1,
   "nav_menu": {},
   "number_sections": true,
   "sideBar": true,
   "skip_h1_title": false,
   "title_cell": "Table of Contents",
   "title_sidebar": "Contents",
   "toc_cell": false,
   "toc_position": {
    "height": "calc(100% - 180px)",
    "left": "10px",
    "top": "150px",
    "width": "465.95px"
   },
   "toc_section_display": true,
   "toc_window_display": true
  },
  "widgets": {
   "application/vnd.jupyter.widget-state+json": {
    "state": {},
    "version_major": 2,
    "version_minor": 0
   }
  }
 },
 "nbformat": 4,
 "nbformat_minor": 5
}
